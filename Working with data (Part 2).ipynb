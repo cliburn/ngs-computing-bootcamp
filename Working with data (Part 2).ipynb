{
 "cells": [
  {
   "cell_type": "markdown",
   "metadata": {},
   "source": [
    "Getting data\n",
    "----\n",
    "\n",
    "In biomedical contexts, data most often comes from external text files such as spreadsheets. Here we will look at how to import such data into R as a data frame. In order to read spreadsheets correctly, you need to be follow some simple rules when cosntrucitng the table:"
   ]
  },
  {
   "cell_type": "markdown",
   "metadata": {},
   "source": [
    "### Do this\n",
    "\n",
    "- A table has column headers and a number of rows and nothing else – it is RECTANGULAR\n",
    "\n",
    "<img src=\"good_spreadsheet.png\" width=\"600\">"
   ]
  },
  {
   "cell_type": "markdown",
   "metadata": {},
   "source": [
    "### Not this\n",
    "\n",
    "- Do not put more than 1 table in a worksheet\n",
    "- Do not use non-rectangular tables\n",
    "\n",
    "<img src=\"bad_spreadsheet.png\" width=\"600\">"
   ]
  },
  {
   "cell_type": "markdown",
   "metadata": {},
   "source": [
    "### Do this\n",
    "\n",
    "- One cell = one value\n",
    "- Easy to filter by tube, sample or subject\n",
    "- Easy to write validation rules or lookup table\n",
    "\n",
    "<img src=\"simple_information.png\" width=\"600\">"
   ]
  },
  {
   "cell_type": "markdown",
   "metadata": {},
   "source": [
    "### Not this\n",
    "\n",
    "- ID column has 3 different values\n",
    "- Need to do text parsing to recover information – very error prone\n",
    "\n",
    "<img src=\"complex_information.png\" width=\"600\">"
   ]
  },
  {
   "cell_type": "markdown",
   "metadata": {},
   "source": [
    "### Round-trip from Excel to CSV and back to Excel\n",
    "\n",
    "#### Before\n",
    "\n",
    "- Inofmration in highlighting\n",
    "- Information in comment notes\n",
    "- Information in font color\n",
    "- Merged cells\n",
    "\n",
    "<img src=\"before.png\" width=\"600\">\n",
    "\n",
    "### After\n",
    "\n",
    "- Comments are lost\n",
    "- Highlighting is lost\n",
    "- Bad cell formatting is lost\n",
    "- Merged cells become missing information\n",
    "\n",
    "<img src=\"after.png\" width=\"600\">\n"
   ]
  },
  {
   "cell_type": "markdown",
   "metadata": {},
   "source": [
    "Other suggestions\n",
    "----\n",
    "\n",
    "- Use a lookup table rather than typing if possible to avoid errors due to typos\n",
    "- Use a special marker to indicate misssing values - do not use 0 or 999 etc\n",
    "- Do not keeep multiple copies of the same spredsheet \n",
    "- If you must keep multiple copies, make sure you version them clearly in the fileanme\n",
    "- Excel is OK if you use almost NONE of its features!"
   ]
  },
  {
   "cell_type": "code",
   "execution_count": 58,
   "metadata": {
    "collapsed": true
   },
   "outputs": [],
   "source": [
    "# Don't show warnign messages to keep interface clean\n",
    "options(warn = -1)"
   ]
  },
  {
   "cell_type": "markdown",
   "metadata": {
    "collapsed": true
   },
   "source": [
    "Reading data from a spreadsheet\n",
    "----"
   ]
  },
  {
   "cell_type": "code",
   "execution_count": 59,
   "metadata": {
    "collapsed": false
   },
   "outputs": [],
   "source": [
    "library(RCurl)\n",
    "library(gdata)"
   ]
  },
  {
   "cell_type": "code",
   "execution_count": 60,
   "metadata": {
    "collapsed": true
   },
   "outputs": [],
   "source": [
    "songs.url <- \"http://www.acclaimedmusic.net/Current/top_6000_songs_140727.xls\""
   ]
  },
  {
   "cell_type": "code",
   "execution_count": 79,
   "metadata": {
    "collapsed": false
   },
   "outputs": [],
   "source": [
    "songs <- read.xls(songs.url)"
   ]
  },
  {
   "cell_type": "code",
   "execution_count": 81,
   "metadata": {
    "collapsed": false
   },
   "outputs": [
    {
     "data": {
      "text/html": [
       "<ol class=list-inline>\n",
       "\t<li>7662</li>\n",
       "\t<li>18</li>\n",
       "</ol>\n"
      ],
      "text/latex": [
       "\\begin{enumerate*}\n",
       "\\item 7662\n",
       "\\item 18\n",
       "\\end{enumerate*}\n"
      ],
      "text/markdown": [
       "1. 7662\n",
       "2. 18\n",
       "\n",
       "\n"
      ],
      "text/plain": [
       "[1] 7662   18"
      ]
     },
     "execution_count": 81,
     "metadata": {},
     "output_type": "execute_result"
    }
   ],
   "source": [
    "dim(songs)"
   ]
  },
  {
   "cell_type": "markdown",
   "metadata": {},
   "source": [
    "### Cleaning the song and album dataframes"
   ]
  },
  {
   "cell_type": "code",
   "execution_count": 103,
   "metadata": {
    "collapsed": false
   },
   "outputs": [
    {
     "data": {
      "text/html": [
       "<table>\n",
       "<thead><tr><th></th><th scope=col>ID</th><th scope=col>Place</th><th scope=col>Artist</th><th scope=col>Song</th><th scope=col>Year</th></tr></thead>\n",
       "<tbody>\n",
       "\t<tr><th scope=row>1</th><td>991</td><td>5</td><td>Bob Dylan</td><td>Like a Rolling Stone</td><td>1965-06-24</td></tr>\n",
       "\t<tr><th scope=row>2</th><td>182</td><td>1116</td><td>Nirvana</td><td>Smells Like Teen Spirit</td><td>1991-06-24</td></tr>\n",
       "\t<tr><th scope=row>3</th><td>961</td><td>2227</td><td>The Beach Boys</td><td>Good Vibrations</td><td>1966-06-24</td></tr>\n",
       "</tbody>\n",
       "</table>\n"
      ],
      "text/latex": [
       "\\begin{tabular}{r|lllll}\n",
       "  & ID & Place & Artist & Song & Year\\\\\n",
       "\\hline\n",
       "\t1 & 991 & 5 & Bob Dylan & Like a Rolling Stone & 1965-06-24\\\\\n",
       "\t2 & 182 & 1116 & Nirvana & Smells Like Teen Spirit & 1991-06-24\\\\\n",
       "\t3 & 961 & 2227 & The Beach Boys & Good Vibrations & 1966-06-24\\\\\n",
       "\\end{tabular}\n"
      ],
      "text/plain": [
       "   ID Place         Artist                    Song       Year\n",
       "1 991     5      Bob Dylan    Like a Rolling Stone 1965-06-24\n",
       "2 182  1116        Nirvana Smells Like Teen Spirit 1991-06-24\n",
       "3 961  2227 The Beach Boys         Good Vibrations 1966-06-24"
      ]
     },
     "execution_count": 103,
     "metadata": {},
     "output_type": "execute_result"
    }
   ],
   "source": [
    "head(songs, 3)"
   ]
  },
  {
   "cell_type": "code",
   "execution_count": 84,
   "metadata": {
    "collapsed": false
   },
   "outputs": [
    {
     "data": {
      "text/html": [
       "<ol class=list-inline>\n",
       "\t<li>'ID'</li>\n",
       "\t<li>'PLACE.2014.JUL.27'</li>\n",
       "\t<li>'Artist'</li>\n",
       "\t<li>'Song'</li>\n",
       "\t<li>'Year'</li>\n",
       "\t<li>'X'</li>\n",
       "\t<li>'PLACE.2008.NOV.29'</li>\n",
       "\t<li>'PLACE.2011.NOV.10'</li>\n",
       "\t<li>'PLACE.2013.JUN.21'</li>\n",
       "\t<li>'PLACE.2014.JUL.27.1'</li>\n",
       "\t<li>'X.1'</li>\n",
       "\t<li>'CHANGE.2008.2011'</li>\n",
       "\t<li>'CHANGE.2011.2013'</li>\n",
       "\t<li>'CHANGE.2013.2014'</li>\n",
       "\t<li>'X.2'</li>\n",
       "\t<li>'Trend'</li>\n",
       "\t<li>'X.3'</li>\n",
       "\t<li>'X.4'</li>\n",
       "</ol>\n"
      ],
      "text/latex": [
       "\\begin{enumerate*}\n",
       "\\item 'ID'\n",
       "\\item 'PLACE.2014.JUL.27'\n",
       "\\item 'Artist'\n",
       "\\item 'Song'\n",
       "\\item 'Year'\n",
       "\\item 'X'\n",
       "\\item 'PLACE.2008.NOV.29'\n",
       "\\item 'PLACE.2011.NOV.10'\n",
       "\\item 'PLACE.2013.JUN.21'\n",
       "\\item 'PLACE.2014.JUL.27.1'\n",
       "\\item 'X.1'\n",
       "\\item 'CHANGE.2008.2011'\n",
       "\\item 'CHANGE.2011.2013'\n",
       "\\item 'CHANGE.2013.2014'\n",
       "\\item 'X.2'\n",
       "\\item 'Trend'\n",
       "\\item 'X.3'\n",
       "\\item 'X.4'\n",
       "\\end{enumerate*}\n"
      ],
      "text/markdown": [
       "1. 'ID'\n",
       "2. 'PLACE.2014.JUL.27'\n",
       "3. 'Artist'\n",
       "4. 'Song'\n",
       "5. 'Year'\n",
       "6. 'X'\n",
       "7. 'PLACE.2008.NOV.29'\n",
       "8. 'PLACE.2011.NOV.10'\n",
       "9. 'PLACE.2013.JUN.21'\n",
       "10. 'PLACE.2014.JUL.27.1'\n",
       "11. 'X.1'\n",
       "12. 'CHANGE.2008.2011'\n",
       "13. 'CHANGE.2011.2013'\n",
       "14. 'CHANGE.2013.2014'\n",
       "15. 'X.2'\n",
       "16. 'Trend'\n",
       "17. 'X.3'\n",
       "18. 'X.4'\n",
       "\n",
       "\n"
      ],
      "text/plain": [
       " [1] \"ID\"                  \"PLACE.2014.JUL.27\"   \"Artist\"             \n",
       " [4] \"Song\"                \"Year\"                \"X\"                  \n",
       " [7] \"PLACE.2008.NOV.29\"   \"PLACE.2011.NOV.10\"   \"PLACE.2013.JUN.21\"  \n",
       "[10] \"PLACE.2014.JUL.27.1\" \"X.1\"                 \"CHANGE.2008.2011\"   \n",
       "[13] \"CHANGE.2011.2013\"    \"CHANGE.2013.2014\"    \"X.2\"                \n",
       "[16] \"Trend\"               \"X.3\"                 \"X.4\"                "
      ]
     },
     "execution_count": 84,
     "metadata": {},
     "output_type": "execute_result"
    }
   ],
   "source": [
    "colnames(songs)"
   ]
  },
  {
   "cell_type": "markdown",
   "metadata": {},
   "source": [
    "#### Let's just keep the first 5 columns"
   ]
  },
  {
   "cell_type": "code",
   "execution_count": 85,
   "metadata": {
    "collapsed": false
   },
   "outputs": [],
   "source": [
    "keep <- c('ID', 'PLACE.2014.JUL.27', 'Artist', 'Song', 'Year')\n",
    "songs <- songs[,keep]"
   ]
  },
  {
   "cell_type": "markdown",
   "metadata": {},
   "source": [
    "#### Shorten the 2nd column name to 'Place'"
   ]
  },
  {
   "cell_type": "code",
   "execution_count": 86,
   "metadata": {
    "collapsed": true
   },
   "outputs": [],
   "source": [
    "colnames(songs)[2] <- 'Place'"
   ]
  },
  {
   "cell_type": "code",
   "execution_count": 87,
   "metadata": {
    "collapsed": false
   },
   "outputs": [
    {
     "data": {
      "text/html": [
       "<table>\n",
       "<thead><tr><th></th><th scope=col>ID</th><th scope=col>Place</th><th scope=col>Artist</th><th scope=col>Song</th><th scope=col>Year</th></tr></thead>\n",
       "<tbody>\n",
       "\t<tr><th scope=row>1</th><td>991</td><td>1</td><td>Bob Dylan</td><td>Like a Rolling Stone</td><td>1965</td></tr>\n",
       "\t<tr><th scope=row>2</th><td>182</td><td>2</td><td>Nirvana</td><td>Smells Like Teen Spirit</td><td>1991</td></tr>\n",
       "\t<tr><th scope=row>3</th><td>961</td><td>3</td><td>The Beach Boys</td><td>Good Vibrations</td><td>1966</td></tr>\n",
       "</tbody>\n",
       "</table>\n"
      ],
      "text/latex": [
       "\\begin{tabular}{r|lllll}\n",
       "  & ID & Place & Artist & Song & Year\\\\\n",
       "\\hline\n",
       "\t1 & 991 & 1 & Bob Dylan & Like a Rolling Stone & 1965\\\\\n",
       "\t2 & 182 & 2 & Nirvana & Smells Like Teen Spirit & 1991\\\\\n",
       "\t3 & 961 & 3 & The Beach Boys & Good Vibrations & 1966\\\\\n",
       "\\end{tabular}\n"
      ],
      "text/plain": [
       "   ID Place         Artist                    Song Year\n",
       "1 991     1      Bob Dylan    Like a Rolling Stone 1965\n",
       "2 182     2        Nirvana Smells Like Teen Spirit 1991\n",
       "3 961     3 The Beach Boys         Good Vibrations 1966"
      ]
     },
     "execution_count": 87,
     "metadata": {},
     "output_type": "execute_result"
    }
   ],
   "source": [
    "head(songs, 3)"
   ]
  },
  {
   "cell_type": "markdown",
   "metadata": {},
   "source": [
    "#### There are only 6000 ranked songs - get rid of the rest"
   ]
  },
  {
   "cell_type": "code",
   "execution_count": 88,
   "metadata": {
    "collapsed": false
   },
   "outputs": [
    {
     "data": {
      "text/html": [
       "<table>\n",
       "<thead><tr><th></th><th scope=col>ID</th><th scope=col>Place</th><th scope=col>Artist</th><th scope=col>Song</th><th scope=col>Year</th></tr></thead>\n",
       "<tbody>\n",
       "\t<tr><th scope=row>5998</th><td>6538</td><td>5998</td><td>George Michael</td><td>Too Funky</td><td>1992</td></tr>\n",
       "\t<tr><th scope=row>5999</th><td>6196</td><td>5999</td><td>Eddie Cochran</td><td>Three Steps to Heaven</td><td>1960</td></tr>\n",
       "\t<tr><th scope=row>6000</th><td>6672</td><td>6000</td><td>Daryl Hall & John Oates</td><td>Kiss on My List</td><td>1981</td></tr>\n",
       "\t<tr><th scope=row>6001</th><td>5057</td><td></td><td>!!!</td><td>Hello? Is This Thing On?</td><td>2004</td></tr>\n",
       "\t<tr><th scope=row>6002</th><td>5058</td><td></td><td>!!!</td><td>Pardon My Freedom</td><td>2004</td></tr>\n",
       "\t<tr><th scope=row>6003</th><td>8720</td><td></td><td>\\Tennessee\\ Ernie Ford</td><td>Shot Gun Boogie</td><td>1950</td></tr>\n",
       "</tbody>\n",
       "</table>\n"
      ],
      "text/latex": [
       "\\begin{tabular}{r|lllll}\n",
       "  & ID & Place & Artist & Song & Year\\\\\n",
       "\\hline\n",
       "\t5998 & 6538 & 5998 & George Michael & Too Funky & 1992\\\\\n",
       "\t5999 & 6196 & 5999 & Eddie Cochran & Three Steps to Heaven & 1960\\\\\n",
       "\t6000 & 6672 & 6000 & Daryl Hall & John Oates & Kiss on My List & 1981\\\\\n",
       "\t6001 & 5057 &  & !!! & Hello? Is This Thing On? & 2004\\\\\n",
       "\t6002 & 5058 &  & !!! & Pardon My Freedom & 2004\\\\\n",
       "\t6003 & 8720 &  & \\Tennessee\\ Ernie Ford & Shot Gun Boogie & 1950\\\\\n",
       "\\end{tabular}\n"
      ],
      "text/plain": [
       "       ID Place                   Artist                     Song Year\n",
       "5998 6538  5998           George Michael                Too Funky 1992\n",
       "5999 6196  5999            Eddie Cochran    Three Steps to Heaven 1960\n",
       "6000 6672  6000  Daryl Hall & John Oates          Kiss on My List 1981\n",
       "6001 5057                            !!! Hello? Is This Thing On? 2004\n",
       "6002 5058                            !!!        Pardon My Freedom 2004\n",
       "6003 8720       \\\\Tennessee\\\\ Ernie Ford          Shot Gun Boogie 1950"
      ]
     },
     "execution_count": 88,
     "metadata": {},
     "output_type": "execute_result"
    }
   ],
   "source": [
    "songs[5998:6003,]"
   ]
  },
  {
   "cell_type": "code",
   "execution_count": 89,
   "metadata": {
    "collapsed": false
   },
   "outputs": [],
   "source": [
    "songs <- songs[1:6000,]"
   ]
  },
  {
   "cell_type": "code",
   "execution_count": 102,
   "metadata": {
    "collapsed": false
   },
   "outputs": [
    {
     "data": {
      "text/html": [
       "<table>\n",
       "<thead><tr><th></th><th scope=col>ID</th><th scope=col>Place</th><th scope=col>Artist</th><th scope=col>Song</th><th scope=col>Year</th></tr></thead>\n",
       "<tbody>\n",
       "\t<tr><th scope=row>5998</th><td>6538</td><td>5558</td><td>George Michael</td><td>Too Funky</td><td>1992-06-24</td></tr>\n",
       "\t<tr><th scope=row>5999</th><td>6196</td><td>5559</td><td>Eddie Cochran</td><td>Three Steps to Heaven</td><td>1960-06-24</td></tr>\n",
       "\t<tr><th scope=row>6000</th><td>6672</td><td>5563</td><td>Daryl Hall & John Oates</td><td>Kiss on My List</td><td>1981-06-24</td></tr>\n",
       "</tbody>\n",
       "</table>\n"
      ],
      "text/latex": [
       "\\begin{tabular}{r|lllll}\n",
       "  & ID & Place & Artist & Song & Year\\\\\n",
       "\\hline\n",
       "\t5998 & 6538 & 5558 & George Michael & Too Funky & 1992-06-24\\\\\n",
       "\t5999 & 6196 & 5559 & Eddie Cochran & Three Steps to Heaven & 1960-06-24\\\\\n",
       "\t6000 & 6672 & 5563 & Daryl Hall & John Oates & Kiss on My List & 1981-06-24\\\\\n",
       "\\end{tabular}\n"
      ],
      "text/plain": [
       "       ID Place                  Artist                  Song       Year\n",
       "5998 6538  5558          George Michael             Too Funky 1992-06-24\n",
       "5999 6196  5559           Eddie Cochran Three Steps to Heaven 1960-06-24\n",
       "6000 6672  5563 Daryl Hall & John Oates       Kiss on My List 1981-06-24"
      ]
     },
     "execution_count": 102,
     "metadata": {},
     "output_type": "execute_result"
    }
   ],
   "source": [
    "tail(songs, 3)"
   ]
  },
  {
   "cell_type": "markdown",
   "metadata": {},
   "source": [
    "#### Take a closer look at the type of each column"
   ]
  },
  {
   "cell_type": "code",
   "execution_count": 104,
   "metadata": {
    "collapsed": false
   },
   "outputs": [
    {
     "data": {
      "text/html": [
       "<dl class=dl-horizontal>\n",
       "\t<dt>ID</dt>\n",
       "\t\t<dd>'factor'</dd>\n",
       "\t<dt>Place</dt>\n",
       "\t\t<dd>'numeric'</dd>\n",
       "\t<dt>Artist</dt>\n",
       "\t\t<dd>'factor'</dd>\n",
       "\t<dt>Song</dt>\n",
       "\t\t<dd>'factor'</dd>\n",
       "\t<dt>Year</dt>\n",
       "\t\t<dd>'Date'</dd>\n",
       "</dl>\n"
      ],
      "text/latex": [
       "\\begin{description*}\n",
       "\\item[ID] 'factor'\n",
       "\\item[Place] 'numeric'\n",
       "\\item[Artist] 'factor'\n",
       "\\item[Song] 'factor'\n",
       "\\item[Year] 'Date'\n",
       "\\end{description*}\n"
      ],
      "text/markdown": [
       "ID\n",
       ":   'factor'Place\n",
       ":   'numeric'Artist\n",
       ":   'factor'Song\n",
       ":   'factor'Year\n",
       ":   'Date'\n",
       "\n"
      ],
      "text/plain": [
       "       ID     Place    Artist      Song      Year \n",
       " \"factor\" \"numeric\"  \"factor\"  \"factor\"    \"Date\" "
      ]
     },
     "execution_count": 104,
     "metadata": {},
     "output_type": "execute_result"
    }
   ],
   "source": [
    "sapply(songs, class)"
   ]
  },
  {
   "cell_type": "markdown",
   "metadata": {},
   "source": [
    "#### Change types to more appropriate classes so that we can manipulate them"
   ]
  },
  {
   "cell_type": "code",
   "execution_count": 105,
   "metadata": {
    "collapsed": true
   },
   "outputs": [],
   "source": [
    "songs$Place <- as.numeric(songs$Place)\n",
    "songs$ID <- as.numeric(songs$ID)"
   ]
  },
  {
   "cell_type": "code",
   "execution_count": 100,
   "metadata": {
    "collapsed": true
   },
   "outputs": [],
   "source": [
    "songs$Year <- as.Date(songs$Year, format='%Y')"
   ]
  },
  {
   "cell_type": "code",
   "execution_count": 107,
   "metadata": {
    "collapsed": false
   },
   "outputs": [],
   "source": [
    "i <- sapply(songs, is.factor)\n",
    "songs[i] <- sapply(songs[i], as.character)"
   ]
  },
  {
   "cell_type": "code",
   "execution_count": 108,
   "metadata": {
    "collapsed": false
   },
   "outputs": [
    {
     "data": {
      "text/html": [
       "<dl class=dl-horizontal>\n",
       "\t<dt>ID</dt>\n",
       "\t\t<dd>'numeric'</dd>\n",
       "\t<dt>Place</dt>\n",
       "\t\t<dd>'numeric'</dd>\n",
       "\t<dt>Artist</dt>\n",
       "\t\t<dd>'character'</dd>\n",
       "\t<dt>Song</dt>\n",
       "\t\t<dd>'character'</dd>\n",
       "\t<dt>Year</dt>\n",
       "\t\t<dd>'Date'</dd>\n",
       "</dl>\n"
      ],
      "text/latex": [
       "\\begin{description*}\n",
       "\\item[ID] 'numeric'\n",
       "\\item[Place] 'numeric'\n",
       "\\item[Artist] 'character'\n",
       "\\item[Song] 'character'\n",
       "\\item[Year] 'Date'\n",
       "\\end{description*}\n"
      ],
      "text/markdown": [
       "ID\n",
       ":   'numeric'Place\n",
       ":   'numeric'Artist\n",
       ":   'character'Song\n",
       ":   'character'Year\n",
       ":   'Date'\n",
       "\n"
      ],
      "text/plain": [
       "         ID       Place      Artist        Song        Year \n",
       "  \"numeric\"   \"numeric\" \"character\" \"character\"      \"Date\" "
      ]
     },
     "execution_count": 108,
     "metadata": {},
     "output_type": "execute_result"
    }
   ],
   "source": [
    "sapply(songs, class)"
   ]
  },
  {
   "cell_type": "markdown",
   "metadata": {},
   "source": [
    "Work!\n",
    "----"
   ]
  },
  {
   "cell_type": "markdown",
   "metadata": {},
   "source": [
    "There is a spreadsheet of the top 5,000 albums available at http://www.acclaimedmusic.net/Current/top_3000_albums_140727.xls\n",
    "\n",
    "Create a dataframe called albums that holds the contents of this spreadsheet."
   ]
  },
  {
   "cell_type": "code",
   "execution_count": null,
   "metadata": {
    "collapsed": true
   },
   "outputs": [],
   "source": [
    "\n",
    "\n",
    "\n"
   ]
  },
  {
   "cell_type": "markdown",
   "metadata": {},
   "source": [
    "How many rows and columns are there in the datafraem?"
   ]
  },
  {
   "cell_type": "code",
   "execution_count": null,
   "metadata": {
    "collapsed": true
   },
   "outputs": [],
   "source": [
    "\n",
    "\n",
    "\n"
   ]
  },
  {
   "cell_type": "markdown",
   "metadata": {},
   "source": [
    "Trim the albums dataframe so that it only contains the top 5,000 albusm and the first 5 columns."
   ]
  },
  {
   "cell_type": "code",
   "execution_count": null,
   "metadata": {
    "collapsed": true
   },
   "outputs": [],
   "source": [
    "\n",
    "\n",
    "\n"
   ]
  },
  {
   "cell_type": "markdown",
   "metadata": {},
   "source": [
    "Convert the types of each column similar to what was done for the songs dataframe."
   ]
  },
  {
   "cell_type": "markdown",
   "metadata": {},
   "source": [
    "\n",
    "\n",
    "\n"
   ]
  },
  {
   "cell_type": "markdown",
   "metadata": {},
   "source": [
    "Selecting and summarizing dataframes\n",
    "----"
   ]
  },
  {
   "cell_type": "code",
   "execution_count": null,
   "metadata": {
    "collapsed": true
   },
   "outputs": [],
   "source": []
  }
 ],
 "metadata": {
  "kernelspec": {
   "display_name": "R",
   "language": "R",
   "name": "ir"
  },
  "language_info": {
   "codemirror_mode": "r",
   "file_extension": ".r",
   "mimetype": "text/x-r-source",
   "name": "R",
   "pygments_lexer": "r",
   "version": "3.1.2"
  }
 },
 "nbformat": 4,
 "nbformat_minor": 0
}
