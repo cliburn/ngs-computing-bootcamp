{
 "cells": [
  {
   "cell_type": "code",
   "execution_count": 1,
   "metadata": {
    "collapsed": false
   },
   "outputs": [
    {
     "data": {
      "text/html": [
       "<dl class=dl-horizontal>\n",
       "\t<dt>ggplot2</dt>\n",
       "\t\t<dd>TRUE</dd>\n",
       "\t<dt>gplots</dt>\n",
       "\t\t<dd>TRUE</dd>\n",
       "\t<dt>lattice</dt>\n",
       "\t\t<dd>TRUE</dd>\n",
       "\t<dt>plyr</dt>\n",
       "\t\t<dd>TRUE</dd>\n",
       "\t<dt>reshape2</dt>\n",
       "\t\t<dd>TRUE</dd>\n",
       "\t<dt>RColorBrewer</dt>\n",
       "\t\t<dd>TRUE</dd>\n",
       "\t<dt>grid</dt>\n",
       "\t\t<dd>TRUE</dd>\n",
       "\t<dt>gridExtra</dt>\n",
       "\t\t<dd>TRUE</dd>\n",
       "\t<dt>igraph</dt>\n",
       "\t\t<dd>TRUE</dd>\n",
       "\t<dt>igraphdata</dt>\n",
       "\t\t<dd>TRUE</dd>\n",
       "</dl>\n"
      ],
      "text/latex": [
       "\\begin{description*}\n",
       "\\item[ggplot2] TRUE\n",
       "\\item[gplots] TRUE\n",
       "\\item[lattice] TRUE\n",
       "\\item[plyr] TRUE\n",
       "\\item[reshape2] TRUE\n",
       "\\item[RColorBrewer] TRUE\n",
       "\\item[grid] TRUE\n",
       "\\item[gridExtra] TRUE\n",
       "\\item[igraph] TRUE\n",
       "\\item[igraphdata] TRUE\n",
       "\\end{description*}\n"
      ],
      "text/markdown": [
       "ggplot2\n",
       ":   TRUEgplots\n",
       ":   TRUElattice\n",
       ":   TRUEplyr\n",
       ":   TRUEreshape2\n",
       ":   TRUERColorBrewer\n",
       ":   TRUEgrid\n",
       ":   TRUEgridExtra\n",
       ":   TRUEigraph\n",
       ":   TRUEigraphdata\n",
       ":   TRUE\n",
       "\n"
      ],
      "text/plain": [
       "     ggplot2       gplots      lattice         plyr     reshape2 RColorBrewer \n",
       "        TRUE         TRUE         TRUE         TRUE         TRUE         TRUE \n",
       "        grid    gridExtra       igraph   igraphdata \n",
       "        TRUE         TRUE         TRUE         TRUE "
      ]
     },
     "execution_count": 1,
     "metadata": {},
     "output_type": "execute_result"
    }
   ],
   "source": [
    "# from https://gist.github.com/stevenworthington/3178163\n",
    "ipak <- function(pkg){\n",
    "    new.pkg <- pkg[!(pkg %in% installed.packages()[, \"Package\"])]\n",
    "    if (length(new.pkg)) \n",
    "        install.packages(new.pkg, dependencies = TRUE, repos = \"http://cran.r-project.org\")\n",
    "    sapply(pkg, require, character.only = TRUE)\n",
    "}\n",
    " \n",
    "# usage\n",
    "packages <- c(\"ggplot2\",  \"gplots\", \"lattice\", \"plyr\", \"reshape2\",\n",
    "              \"RColorBrewer\", \"grid\", \"gridExtra\", \"igraph\", \"igraphdata\")\n",
    "suppressMessages(ipak(packages))"
   ]
  },
  {
   "cell_type": "code",
   "execution_count": null,
   "metadata": {
    "collapsed": true
   },
   "outputs": [],
   "source": []
  }
 ],
 "metadata": {
  "kernelspec": {
   "display_name": "R",
   "language": "R",
   "name": "ir"
  },
  "language_info": {
   "codemirror_mode": "r",
   "file_extension": ".r",
   "mimetype": "text/x-r-source",
   "name": "R",
   "pygments_lexer": "r",
   "version": "3.2.0"
  }
 },
 "nbformat": 4,
 "nbformat_minor": 0
}
