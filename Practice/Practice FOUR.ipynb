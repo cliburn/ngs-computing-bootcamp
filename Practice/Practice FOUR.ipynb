{
 "cells": [
  {
   "cell_type": "markdown",
   "metadata": {},
   "source": [
    "Work!\n",
    "---"
   ]
  },
  {
   "cell_type": "code",
   "execution_count": 46,
   "metadata": {
    "collapsed": false
   },
   "outputs": [],
   "source": [
    "library(ggplot2)\n",
    "library(reshape2)\n",
    "library(pheatmap)\n",
    "library(genefilter) # for rowttests\n",
    "library(nlme)\n",
    "data(Rail)"
   ]
  },
  {
   "cell_type": "code",
   "execution_count": 1,
   "metadata": {
    "collapsed": false
   },
   "outputs": [
    {
     "data": {
      "text/html": [
       "<table>\n",
       "<thead><tr><th></th><th scope=col>Sepal.Length</th><th scope=col>Sepal.Width</th><th scope=col>Petal.Length</th><th scope=col>Petal.Width</th><th scope=col>Species</th></tr></thead>\n",
       "<tbody>\n",
       "\t<tr><th scope=row>1</th><td>5.1</td><td>3.5</td><td>1.4</td><td>0.2</td><td>setosa</td></tr>\n",
       "\t<tr><th scope=row>2</th><td>4.9</td><td>3</td><td>1.4</td><td>0.2</td><td>setosa</td></tr>\n",
       "\t<tr><th scope=row>3</th><td>4.7</td><td>3.2</td><td>1.3</td><td>0.2</td><td>setosa</td></tr>\n",
       "\t<tr><th scope=row>4</th><td>4.6</td><td>3.1</td><td>1.5</td><td>0.2</td><td>setosa</td></tr>\n",
       "\t<tr><th scope=row>5</th><td>5</td><td>3.6</td><td>1.4</td><td>0.2</td><td>setosa</td></tr>\n",
       "\t<tr><th scope=row>6</th><td>5.4</td><td>3.9</td><td>1.7</td><td>0.4</td><td>setosa</td></tr>\n",
       "</tbody>\n",
       "</table>\n"
      ],
      "text/latex": [
       "\\begin{tabular}{r|lllll}\n",
       "  & Sepal.Length & Sepal.Width & Petal.Length & Petal.Width & Species\\\\\n",
       "\\hline\n",
       "\t1 & 5.1 & 3.5 & 1.4 & 0.2 & setosa\\\\\n",
       "\t2 & 4.9 & 3 & 1.4 & 0.2 & setosa\\\\\n",
       "\t3 & 4.7 & 3.2 & 1.3 & 0.2 & setosa\\\\\n",
       "\t4 & 4.6 & 3.1 & 1.5 & 0.2 & setosa\\\\\n",
       "\t5 & 5 & 3.6 & 1.4 & 0.2 & setosa\\\\\n",
       "\t6 & 5.4 & 3.9 & 1.7 & 0.4 & setosa\\\\\n",
       "\\end{tabular}\n"
      ],
      "text/plain": [
       "  Sepal.Length Sepal.Width Petal.Length Petal.Width Species\n",
       "1          5.1         3.5          1.4         0.2  setosa\n",
       "2          4.9         3.0          1.4         0.2  setosa\n",
       "3          4.7         3.2          1.3         0.2  setosa\n",
       "4          4.6         3.1          1.5         0.2  setosa\n",
       "5          5.0         3.6          1.4         0.2  setosa\n",
       "6          5.4         3.9          1.7         0.4  setosa"
      ]
     },
     "execution_count": 1,
     "metadata": {},
     "output_type": "execute_result"
    }
   ],
   "source": [
    "head(iris)"
   ]
  },
  {
   "cell_type": "markdown",
   "metadata": {},
   "source": [
    "**Exericse 0**\n",
    "\n",
    "Using base graphics, make a 2 x 2 grid for plotting.\n",
    "\n",
    "Top left\n",
    "    - Generate 100 random numbers from a t-distribution with 5 degrees of freedom\n",
    "    - Plot a normalized histogram (i.e. area sums to 1) with 8 breaks\n",
    "    - Overlay a smoothed density estimate (using `density`) in orange\n",
    "    - Overlay the true density estimate (using `dt`) in red\n",
    "    - Add a rug\n",
    "    \n",
    "Tor right\n",
    "    - Using the `iris` data set, make a scatter plot of Sepal length agaisnt Sepal width. Color the points by Species.\n",
    "    - Add your own title and x and y lables\n",
    "    \n",
    "Bottom left\n",
    "    - Generate 100 numbers from a Poisson distribution with rate = 3\n",
    "    - Plot a bar chart showing the counts for each value\n",
    "    \n",
    "Bottom right\n",
    "    - Make a box and whiskers plot of the 4 numeric variables in the `iris` data set\n",
    "    - Show vertical labels for all Species names\n",
    "    - Adjust the margins so that the labels are visible using the `mar` (bottom, left, top, right) parameter. You can see the default values with `par()$mar`. Remember to restore the orignal parameters at the end.\n",
    "    \n",
    "Save the plot as a Portable Neetwork Graphics (png) file."
   ]
  },
  {
   "cell_type": "code",
   "execution_count": null,
   "metadata": {
    "collapsed": false
   },
   "outputs": [],
   "source": [
    "\n",
    "\n",
    "\n"
   ]
  },
  {
   "cell_type": "code",
   "execution_count": 47,
   "metadata": {
    "collapsed": false
   },
   "outputs": [
    {
     "data": {
      "text/html": [
       "<table>\n",
       "<thead><tr><th></th><th scope=col>Rail</th><th scope=col>travel</th></tr></thead>\n",
       "<tbody>\n",
       "\t<tr><th scope=row>1</th><td>1</td><td>55</td></tr>\n",
       "\t<tr><th scope=row>2</th><td>1</td><td>53</td></tr>\n",
       "\t<tr><th scope=row>3</th><td>1</td><td>54</td></tr>\n",
       "\t<tr><th scope=row>4</th><td>2</td><td>26</td></tr>\n",
       "\t<tr><th scope=row>5</th><td>2</td><td>37</td></tr>\n",
       "\t<tr><th scope=row>6</th><td>2</td><td>32</td></tr>\n",
       "</tbody>\n",
       "</table>\n"
      ],
      "text/latex": [
       "\\begin{tabular}{r|ll}\n",
       "  & Rail & travel\\\\\n",
       "\\hline\n",
       "\t1 & 1 & 55\\\\\n",
       "\t2 & 1 & 53\\\\\n",
       "\t3 & 1 & 54\\\\\n",
       "\t4 & 2 & 26\\\\\n",
       "\t5 & 2 & 37\\\\\n",
       "\t6 & 2 & 32\\\\\n",
       "\\end{tabular}\n"
      ],
      "text/plain": [
       "Grouped Data: travel ~ 1 | Rail\n",
       "  Rail travel\n",
       "1    1     55\n",
       "2    1     53\n",
       "3    1     54\n",
       "4    2     26\n",
       "5    2     37\n",
       "6    2     32"
      ]
     },
     "execution_count": 47,
     "metadata": {},
     "output_type": "execute_result"
    }
   ],
   "source": [
    "head(Rail)"
   ]
  },
  {
   "cell_type": "markdown",
   "metadata": {},
   "source": [
    "#### Exercise 1\n",
    "\n",
    "- Use the ggplot function\n",
    "- Create a scatter plot with Rail on the x-axis and travel on the y-axis.\n",
    "- CHange the title to \"I made this!\"\n",
    "- Change the y-axis label to be \"Zero-force travel time (nano-seconds)\"\n",
    "- Change the size of the points to 5\n",
    "- Change the color of potins to blue and transparency to 0.5\n",
    "- Add a simple linear regression line to the plot with 90% confidence intervals"
   ]
  },
  {
   "cell_type": "code",
   "execution_count": null,
   "metadata": {
    "collapsed": false
   },
   "outputs": [],
   "source": [
    "\n",
    "\n",
    "\n"
   ]
  },
  {
   "cell_type": "markdown",
   "metadata": {},
   "source": [
    "#### Exercise 2\n",
    "\n",
    "Here we will try to replicate the noise discovery heatmaps shown in the statistics class."
   ]
  },
  {
   "cell_type": "code",
   "execution_count": 49,
   "metadata": {
    "collapsed": false
   },
   "outputs": [],
   "source": [
    "set.seed(123)\n",
    "\n",
    "n <- 20 # number of subjects\n",
    "m <- 20000 # number of genes \n",
    "alpha <- 0.005 # significance level\n",
    "\n",
    "# create a matrix of gene expression values with m rows and 2*n columns\n",
    "M <- matrix(rnorm(2*n*m), m, 2*n)\n",
    "\n",
    "# give row and column names\n",
    "rownames(M) <- paste(\"G\", 1:m, sep=\"\")\n",
    "colnames(M) <- paste(\"id\", 1:(2*n), sep=\"\")\n",
    "\n",
    "# assign subjects inot equal sized groups\n",
    "grp <- factor(rep(0:1, c(n, n)))\n",
    "\n",
    "# calculate p-value using t-test for mean experession value of each gene\n",
    "pvals <- rowttests(M, grp)$p.value\n",
    "\n",
    "# extract the genes which meet the specified significance level\n",
    "hits <- M[pvals < alpha,]"
   ]
  },
  {
   "cell_type": "markdown",
   "metadata": {},
   "source": [
    "- Use pheatmap to plot a heatmap\n",
    "- Remove the row names (Use tAB or R's built-in help to figure out to do this)\n",
    "- Use this color palette to map expression values to a red-blakc-green scale `colorRampPalette(c(\"red3\", \"black\", \"green3\"))(50)`"
   ]
  },
  {
   "cell_type": "code",
   "execution_count": null,
   "metadata": {
    "collapsed": false
   },
   "outputs": [],
   "source": [
    "\n",
    "\n",
    "\n"
   ]
  },
  {
   "cell_type": "code",
   "execution_count": 51,
   "metadata": {
    "collapsed": true
   },
   "outputs": [],
   "source": [
    "a1 <- 1\n",
    "a2 <- 2\n",
    "sigma1 <- 25\n",
    "sigma2 <- 25\n",
    "\n",
    "subject <- paste(\"PID\", rep(1:2, each=5))\n",
    "dose <- rep(seq(10, 100, 20), 2)\n",
    "geneA <- a1 * dose + rnorm(length(dose), sd=sigma1)\n",
    "geneB <- a2 * dose + rnorm(length(dose), sd=sigma2)\n",
    "\n",
    "df <- data.frame(subject=subject, dose=dose, geneA=geneA, geneB=geneB)"
   ]
  },
  {
   "cell_type": "code",
   "execution_count": 52,
   "metadata": {
    "collapsed": false
   },
   "outputs": [
    {
     "data": {
      "text/html": [
       "<table>\n",
       "<thead><tr><th></th><th scope=col>subject</th><th scope=col>dose</th><th scope=col>geneA</th><th scope=col>geneB</th></tr></thead>\n",
       "<tbody>\n",
       "\t<tr><th scope=row>1</th><td>PID 1</td><td>10</td><td>-3.367338</td><td>-31.18716</td></tr>\n",
       "\t<tr><th scope=row>2</th><td>PID 1</td><td>30</td><td>54.03613</td><td>91.78636</td></tr>\n",
       "\t<tr><th scope=row>3</th><td>PID 1</td><td>50</td><td>22.40099</td><td>124.477</td></tr>\n",
       "\t<tr><th scope=row>4</th><td>PID 1</td><td>70</td><td>73.61274</td><td>111.6039</td></tr>\n",
       "\t<tr><th scope=row>5</th><td>PID 1</td><td>90</td><td>84.05749</td><td>188.5058</td></tr>\n",
       "\t<tr><th scope=row>6</th><td>PID 2</td><td>10</td><td>-13.63179</td><td>12.04911</td></tr>\n",
       "\t<tr><th scope=row>7</th><td>PID 2</td><td>30</td><td>40.03472</td><td>57.40407</td></tr>\n",
       "\t<tr><th scope=row>8</th><td>PID 2</td><td>50</td><td>64.98747</td><td>79.04738</td></tr>\n",
       "\t<tr><th scope=row>9</th><td>PID 2</td><td>70</td><td>91.22307</td><td>147.4357</td></tr>\n",
       "\t<tr><th scope=row>10</th><td>PID 2</td><td>90</td><td>70.94818</td><td>166.8696</td></tr>\n",
       "</tbody>\n",
       "</table>\n"
      ],
      "text/latex": [
       "\\begin{tabular}{r|llll}\n",
       "  & subject & dose & geneA & geneB\\\\\n",
       "\\hline\n",
       "\t1 & PID 1 & 10 & -3.367338 & -31.18716\\\\\n",
       "\t2 & PID 1 & 30 & 54.03613 & 91.78636\\\\\n",
       "\t3 & PID 1 & 50 & 22.40099 & 124.477\\\\\n",
       "\t4 & PID 1 & 70 & 73.61274 & 111.6039\\\\\n",
       "\t5 & PID 1 & 90 & 84.05749 & 188.5058\\\\\n",
       "\t6 & PID 2 & 10 & -13.63179 & 12.04911\\\\\n",
       "\t7 & PID 2 & 30 & 40.03472 & 57.40407\\\\\n",
       "\t8 & PID 2 & 50 & 64.98747 & 79.04738\\\\\n",
       "\t9 & PID 2 & 70 & 91.22307 & 147.4357\\\\\n",
       "\t10 & PID 2 & 90 & 70.94818 & 166.8696\\\\\n",
       "\\end{tabular}\n"
      ],
      "text/plain": [
       "   subject dose      geneA     geneB\n",
       "1    PID 1   10  -3.367338 -31.18716\n",
       "2    PID 1   30  54.036125  91.78636\n",
       "3    PID 1   50  22.400994 124.47701\n",
       "4    PID 1   70  73.612743 111.60390\n",
       "5    PID 1   90  84.057490 188.50579\n",
       "6    PID 2   10 -13.631795  12.04911\n",
       "7    PID 2   30  40.034722  57.40407\n",
       "8    PID 2   50  64.987473  79.04738\n",
       "9    PID 2   70  91.223072 147.43574\n",
       "10   PID 2   90  70.948176 166.86961"
      ]
     },
     "execution_count": 52,
     "metadata": {},
     "output_type": "execute_result"
    }
   ],
   "source": [
    "df"
   ]
  },
  {
   "cell_type": "markdown",
   "metadata": {},
   "source": [
    "**Exercise 3** \n",
    "\n",
    "Using `ggplot2`, plot gene expression agaisnt does, using differnt colors for differetn genes and differnet shapes for different subjects. (Hint: The `reshape2` library may come in useful)"
   ]
  },
  {
   "cell_type": "code",
   "execution_count": 53,
   "metadata": {
    "collapsed": true
   },
   "outputs": [],
   "source": [
    "md <- melt(df, id=c(\"subject\", \"dose\"))"
   ]
  },
  {
   "cell_type": "code",
   "execution_count": 54,
   "metadata": {
    "collapsed": false
   },
   "outputs": [
    {
     "data": {
      "text/html": [
       "<table>\n",
       "<thead><tr><th></th><th scope=col>subject</th><th scope=col>dose</th><th scope=col>variable</th><th scope=col>value</th></tr></thead>\n",
       "<tbody>\n",
       "\t<tr><th scope=row>1</th><td>PID 1</td><td>10</td><td>geneA</td><td>-3.367338</td></tr>\n",
       "\t<tr><th scope=row>2</th><td>PID 1</td><td>30</td><td>geneA</td><td>54.03613</td></tr>\n",
       "\t<tr><th scope=row>3</th><td>PID 1</td><td>50</td><td>geneA</td><td>22.40099</td></tr>\n",
       "\t<tr><th scope=row>4</th><td>PID 1</td><td>70</td><td>geneA</td><td>73.61274</td></tr>\n",
       "\t<tr><th scope=row>5</th><td>PID 1</td><td>90</td><td>geneA</td><td>84.05749</td></tr>\n",
       "\t<tr><th scope=row>6</th><td>PID 2</td><td>10</td><td>geneA</td><td>-13.63179</td></tr>\n",
       "\t<tr><th scope=row>7</th><td>PID 2</td><td>30</td><td>geneA</td><td>40.03472</td></tr>\n",
       "\t<tr><th scope=row>8</th><td>PID 2</td><td>50</td><td>geneA</td><td>64.98747</td></tr>\n",
       "\t<tr><th scope=row>9</th><td>PID 2</td><td>70</td><td>geneA</td><td>91.22307</td></tr>\n",
       "\t<tr><th scope=row>10</th><td>PID 2</td><td>90</td><td>geneA</td><td>70.94818</td></tr>\n",
       "\t<tr><th scope=row>11</th><td>PID 1</td><td>10</td><td>geneB</td><td>-31.18716</td></tr>\n",
       "\t<tr><th scope=row>12</th><td>PID 1</td><td>30</td><td>geneB</td><td>91.78636</td></tr>\n",
       "\t<tr><th scope=row>13</th><td>PID 1</td><td>50</td><td>geneB</td><td>124.477</td></tr>\n",
       "\t<tr><th scope=row>14</th><td>PID 1</td><td>70</td><td>geneB</td><td>111.6039</td></tr>\n",
       "\t<tr><th scope=row>15</th><td>PID 1</td><td>90</td><td>geneB</td><td>188.5058</td></tr>\n",
       "\t<tr><th scope=row>16</th><td>PID 2</td><td>10</td><td>geneB</td><td>12.04911</td></tr>\n",
       "\t<tr><th scope=row>17</th><td>PID 2</td><td>30</td><td>geneB</td><td>57.40407</td></tr>\n",
       "\t<tr><th scope=row>18</th><td>PID 2</td><td>50</td><td>geneB</td><td>79.04738</td></tr>\n",
       "\t<tr><th scope=row>19</th><td>PID 2</td><td>70</td><td>geneB</td><td>147.4357</td></tr>\n",
       "\t<tr><th scope=row>20</th><td>PID 2</td><td>90</td><td>geneB</td><td>166.8696</td></tr>\n",
       "</tbody>\n",
       "</table>\n"
      ],
      "text/latex": [
       "\\begin{tabular}{r|llll}\n",
       "  & subject & dose & variable & value\\\\\n",
       "\\hline\n",
       "\t1 & PID 1 & 10 & geneA & -3.367338\\\\\n",
       "\t2 & PID 1 & 30 & geneA & 54.03613\\\\\n",
       "\t3 & PID 1 & 50 & geneA & 22.40099\\\\\n",
       "\t4 & PID 1 & 70 & geneA & 73.61274\\\\\n",
       "\t5 & PID 1 & 90 & geneA & 84.05749\\\\\n",
       "\t6 & PID 2 & 10 & geneA & -13.63179\\\\\n",
       "\t7 & PID 2 & 30 & geneA & 40.03472\\\\\n",
       "\t8 & PID 2 & 50 & geneA & 64.98747\\\\\n",
       "\t9 & PID 2 & 70 & geneA & 91.22307\\\\\n",
       "\t10 & PID 2 & 90 & geneA & 70.94818\\\\\n",
       "\t11 & PID 1 & 10 & geneB & -31.18716\\\\\n",
       "\t12 & PID 1 & 30 & geneB & 91.78636\\\\\n",
       "\t13 & PID 1 & 50 & geneB & 124.477\\\\\n",
       "\t14 & PID 1 & 70 & geneB & 111.6039\\\\\n",
       "\t15 & PID 1 & 90 & geneB & 188.5058\\\\\n",
       "\t16 & PID 2 & 10 & geneB & 12.04911\\\\\n",
       "\t17 & PID 2 & 30 & geneB & 57.40407\\\\\n",
       "\t18 & PID 2 & 50 & geneB & 79.04738\\\\\n",
       "\t19 & PID 2 & 70 & geneB & 147.4357\\\\\n",
       "\t20 & PID 2 & 90 & geneB & 166.8696\\\\\n",
       "\\end{tabular}\n"
      ],
      "text/plain": [
       "   subject dose variable      value\n",
       "1    PID 1   10    geneA  -3.367338\n",
       "2    PID 1   30    geneA  54.036125\n",
       "3    PID 1   50    geneA  22.400994\n",
       "4    PID 1   70    geneA  73.612743\n",
       "5    PID 1   90    geneA  84.057490\n",
       "6    PID 2   10    geneA -13.631795\n",
       "7    PID 2   30    geneA  40.034722\n",
       "8    PID 2   50    geneA  64.987473\n",
       "9    PID 2   70    geneA  91.223072\n",
       "10   PID 2   90    geneA  70.948176\n",
       "11   PID 1   10    geneB -31.187160\n",
       "12   PID 1   30    geneB  91.786363\n",
       "13   PID 1   50    geneB 124.477013\n",
       "14   PID 1   70    geneB 111.603899\n",
       "15   PID 1   90    geneB 188.505790\n",
       "16   PID 2   10    geneB  12.049107\n",
       "17   PID 2   30    geneB  57.404066\n",
       "18   PID 2   50    geneB  79.047382\n",
       "19   PID 2   70    geneB 147.435739\n",
       "20   PID 2   90    geneB 166.869606"
      ]
     },
     "execution_count": 54,
     "metadata": {},
     "output_type": "execute_result"
    }
   ],
   "source": [
    "md"
   ]
  },
  {
   "cell_type": "code",
   "execution_count": null,
   "metadata": {
    "collapsed": false
   },
   "outputs": [],
   "source": [
    "\n",
    "\n",
    "\n"
   ]
  },
  {
   "cell_type": "markdown",
   "metadata": {},
   "source": [
    "**Exercise 4**\n",
    "\n",
    "Usign `ggplot2`, make a grid of plots with separae colummsn for each subject and separate rows for each gene. Vary the color and size by the gene expression value. Add a linear regression fit with 95% confidence intervals to each plot. "
   ]
  },
  {
   "cell_type": "code",
   "execution_count": null,
   "metadata": {
    "collapsed": false
   },
   "outputs": [],
   "source": [
    "\n",
    "\n",
    "\n"
   ]
  }
 ],
 "metadata": {
  "kernelspec": {
   "display_name": "R",
   "language": "R",
   "name": "ir"
  },
  "language_info": {
   "codemirror_mode": "r",
   "file_extension": ".r",
   "mimetype": "text/x-r-source",
   "name": "R",
   "pygments_lexer": "r",
   "version": "3.2.0"
  }
 },
 "nbformat": 4,
 "nbformat_minor": 0
}
