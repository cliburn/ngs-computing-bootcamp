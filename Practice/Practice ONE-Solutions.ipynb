{
 "cells": [
  {
   "cell_type": "markdown",
   "metadata": {},
   "source": [
    "(1) Create a sequence of integers starting from 12 and ending at 17."
   ]
  },
  {
   "cell_type": "code",
   "execution_count": 1,
   "metadata": {
    "collapsed": false
   },
   "outputs": [
    {
     "data": {
      "text/plain": [
       "[1] 12 13 14 15 16 17"
      ]
     },
     "execution_count": 1,
     "metadata": {},
     "output_type": "execute_result"
    }
   ],
   "source": [
    "12:17\n",
    "\n",
    "\n"
   ]
  },
  {
   "cell_type": "markdown",
   "metadata": {},
   "source": [
    "(2) Create a vector of length 10 starting from $\\pi$ and ending at $2\\pi$ with evenly spaced intervals between numbers."
   ]
  },
  {
   "cell_type": "code",
   "execution_count": 2,
   "metadata": {
    "collapsed": false
   },
   "outputs": [
    {
     "data": {
      "text/plain": [
       " [1] 3.141593 3.490659 3.839724 4.188790 4.537856 4.886922 5.235988 5.585054\n",
       " [9] 5.934119 6.283185"
      ]
     },
     "execution_count": 2,
     "metadata": {},
     "output_type": "execute_result"
    }
   ],
   "source": [
    "seq(pi, 2*pi, length.out = 10)\n",
    "\n",
    "\n"
   ]
  },
  {
   "cell_type": "markdown",
   "metadata": {},
   "source": [
    "(3) Find the sum of all numbers between 1 and 1000 that are divisible by 3."
   ]
  },
  {
   "cell_type": "code",
   "execution_count": 3,
   "metadata": {
    "collapsed": false
   },
   "outputs": [
    {
     "data": {
      "text/plain": [
       "[1] 166833"
      ]
     },
     "execution_count": 3,
     "metadata": {},
     "output_type": "execute_result"
    }
   ],
   "source": [
    "ns <- 1:1000\n",
    "idx <- ns %% 3 == 0\n",
    "sum(ns[idx])\n",
    "\n",
    "\n"
   ]
  },
  {
   "cell_type": "markdown",
   "metadata": {},
   "source": [
    "(4) Find the sum of the square numbers (e.g. 1, 4, 9, 16, ...) from 1 that are less than or equal to 10,000."
   ]
  },
  {
   "cell_type": "code",
   "execution_count": 4,
   "metadata": {
    "collapsed": false
   },
   "outputs": [
    {
     "data": {
      "text/plain": [
       "[1] 338350"
      ]
     },
     "execution_count": 4,
     "metadata": {},
     "output_type": "execute_result"
    }
   ],
   "source": [
    "top <- sqrt(10000)\n",
    "ns <- 1:top\n",
    "sum(ns^2)\n",
    "\n",
    "\n"
   ]
  },
  {
   "cell_type": "markdown",
   "metadata": {},
   "source": [
    "(5) Loop through the numbers from 1 to 20. If the number is divisible by 3, print \"Fizz\". If the number is divisible by 5, print \"Buzz\". If it is divisible by both 3 and 5 print \"FizzBuzz\". Otherwise just print the number. Your output should look something like\n",
    "```\n",
    "1\n",
    "2\n",
    "Fizz\n",
    "4\n",
    "Buzz\n",
    "...\n",
    "```"
   ]
  },
  {
   "cell_type": "code",
   "execution_count": 5,
   "metadata": {
    "collapsed": false
   },
   "outputs": [
    {
     "name": "stdout",
     "output_type": "stream",
     "text": [
      "[1] 1\n",
      "[1] 2\n",
      "[1] \"Fizz\"\n",
      "[1] 4\n",
      "[1] \"Buzz\"\n",
      "[1] \"Fizz\"\n",
      "[1] 7\n",
      "[1] 8\n",
      "[1] \"Fizz\"\n",
      "[1] \"Buzz\"\n",
      "[1] 11\n",
      "[1] \"Fizz\"\n",
      "[1] 13\n",
      "[1] 14\n",
      "[1] \"FizzBuzz\"\n",
      "[1] 16\n",
      "[1] 17\n",
      "[1] \"Fizz\"\n",
      "[1] 19\n",
      "[1] \"Buzz\"\n"
     ]
    }
   ],
   "source": [
    "for (i in 1:20) {\n",
    "    if (i %% 15 == 0)\n",
    "        print(\"FizzBuzz\")\n",
    "    else if (i %% 3 == 0)\n",
    "        print(\"Fizz\")\n",
    "    else if (i %% 5 == 0)\n",
    "        print(\"Buzz\")\n",
    "    else print(i)\n",
    "}\n",
    "\n",
    "\n"
   ]
  },
  {
   "cell_type": "markdown",
   "metadata": {},
   "source": [
    "(6) Generate 1000 numbers from the standard normal distirbution. How many of these numbers are greater than 0?"
   ]
  },
  {
   "cell_type": "code",
   "execution_count": 6,
   "metadata": {
    "collapsed": false
   },
   "outputs": [
    {
     "data": {
      "text/plain": [
       "[1] 503"
      ]
     },
     "execution_count": 6,
     "metadata": {},
     "output_type": "execute_result"
    }
   ],
   "source": [
    "xs <- rnorm(1000)\n",
    "sum(xs > 0)\n",
    "\n",
    "\n"
   ]
  },
  {
   "cell_type": "markdown",
   "metadata": {},
   "source": [
    "(7) Start by copying and pasting the code below in a Code cell\n",
    "```R\n",
    "set.seed(123)\n",
    "n <- 10\n",
    "case <- rnorm(n, 0, 1)\n",
    "ctrl <- rnorm(n, 0.1, 1)\n",
    "```\n",
    "\n",
    "Run the above code, then state the null hypothesis for comparing the mean between cases and controls. Perform a t-test with $n = 10$ and $n = $1000$."
   ]
  },
  {
   "cell_type": "code",
   "execution_count": 7,
   "metadata": {
    "collapsed": false
   },
   "outputs": [
    {
     "data": {
      "text/plain": [
       "\n",
       "\tWelch Two Sample t-test\n",
       "\n",
       "data:  case and ctrl\n",
       "t = -0.5249, df = 17.872, p-value = 0.6061\n",
       "alternative hypothesis: true difference in means is not equal to 0\n",
       "95 percent confidence interval:\n",
       " -1.1710488  0.7030562\n",
       "sample estimates:\n",
       " mean of x  mean of y \n",
       "0.07462564 0.30862196 \n"
      ]
     },
     "execution_count": 7,
     "metadata": {},
     "output_type": "execute_result"
    }
   ],
   "source": [
    "set.seed(123)\n",
    "n <- 10\n",
    "case <- rnorm(n, 0, 1)\n",
    "ctrl <- rnorm(n, 0.1, 1)\n",
    "\n",
    "t.test(case, ctrl)\n",
    "\n"
   ]
  },
  {
   "cell_type": "code",
   "execution_count": 8,
   "metadata": {
    "collapsed": false
   },
   "outputs": [
    {
     "data": {
      "text/plain": [
       "\n",
       "\tWelch Two Sample t-test\n",
       "\n",
       "data:  case and ctrl\n",
       "t = -2.8229, df = 1997.355, p-value = 0.004806\n",
       "alternative hypothesis: true difference in means is not equal to 0\n",
       "95 percent confidence interval:\n",
       " -0.2141064 -0.0385684\n",
       "sample estimates:\n",
       " mean of x  mean of y \n",
       "0.01612787 0.14246525 \n"
      ]
     },
     "execution_count": 8,
     "metadata": {},
     "output_type": "execute_result"
    }
   ],
   "source": [
    "set.seed(123)\n",
    "n <- 1000\n",
    "case <- rnorm(n, 0, 1)\n",
    "ctrl <- rnorm(n, 0.1, 1)\n",
    "\n",
    "t.test(case, ctrl)"
   ]
  },
  {
   "cell_type": "markdown",
   "metadata": {},
   "source": [
    "(8) You are plannning an experiment to test the effect of a new drug on mouse growth as measured in grams. You plan to give the drug to a treatment group and not to an otherwise identical control group. You consider differences to be meaningful if the mean weights differ by at least 10 grams. From previous experiments, you know that the standard deviation between mice weights is 20 grams. What sample size do you need in each group for 80%, 90% and 100% power (use p=0.05)? If you recorded weights in kilograms instead, would the sample sizes need to change?"
   ]
  },
  {
   "cell_type": "code",
   "execution_count": null,
   "metadata": {
    "collapsed": true
   },
   "outputs": [],
   "source": []
  },
  {
   "cell_type": "code",
   "execution_count": 11,
   "metadata": {
    "collapsed": false
   },
   "outputs": [
    {
     "data": {
      "text/plain": [
       "\n",
       "     Two-sample t test power calculation \n",
       "\n",
       "              n = 63.76561\n",
       "              d = 0.5\n",
       "      sig.level = 0.05\n",
       "          power = 0.8\n",
       "    alternative = two.sided\n",
       "\n",
       "NOTE: n is number in *each* group\n"
      ]
     },
     "execution_count": 11,
     "metadata": {},
     "output_type": "execute_result"
    }
   ],
   "source": [
    "library(pwr)\n",
    "pwr.t.test(d = 10/20, sig.level = 0.05, power = 0.8, type = \"two.sample\")\n",
    "\n",
    "\n"
   ]
  },
  {
   "cell_type": "markdown",
   "metadata": {},
   "source": [
    "(9) Make a plot of sample size (y-axis) against power (x-axis) for powers ranging from 0.01 to 0.99 in steps of 0.01 with an effect size of 0.1. Add in curves of different colors for effect sizes of 0.5 and 1.0. Add a legend for each curve."
   ]
  },
  {
   "cell_type": "code",
   "execution_count": 14,
   "metadata": {
    "collapsed": false
   },
   "outputs": [
    {
     "data": {
      "text/plain": [
       "[1] 63.76561"
      ]
     },
     "execution_count": 14,
     "metadata": {},
     "output_type": "execute_result"
    }
   ],
   "source": [
    "ans <- pwr.t.test(d = 10/20, sig.level = 0.05, power = 0.8, type = \"two.sample\")\n",
    "ans$n"
   ]
  },
  {
   "cell_type": "code",
   "execution_count": 41,
   "metadata": {
    "collapsed": false
   },
   "outputs": [
    {
     "data": {
      "image/png": "[encoded data removed]"
     },
     "metadata": {},
     "output_type": "display_data"
    }
   ],
   "source": [
    "pwrs <- seq(0.5, 0.99, by=0.01)\n",
    "ds <- c(0.1, 0.5, 1.0)\n",
    "nrow <- length(pwrs)\n",
    "ncol <- length(ds)\n",
    "ns <- matrix(, nrow=nrow, ncol=ncol)\n",
    "for (i in 1:nrow) {\n",
    "    for (j in 1:ncol) {\n",
    "        ns[i, j] <- pwr.t.test(d = ds[j], sig.level = 0.05, power = pwrs[i], type = \"two.sample\")$n\n",
    "    }\n",
    "}\n",
    "plot(pwrs, ns[,1], type='o', col=\"red\", ylim = c(0, 3800))\n",
    "lines(pwrs, ns[,2], type='o', col=\"blue\")\n",
    "lines(pwrs, ns[,3], type='o', col=\"green\")\n",
    "legend(0.5, 3500, paste(\"effeect size =\", c(\"0.1\", \"0.5\", \"1.0\")), col=c(\"red\", \"blue\", \"green\"), pch=\"o\")"
   ]
  },
  {
   "cell_type": "raw",
   "metadata": {},
   "source": [
    "(10) Calcualte the probabity that you will see the sequence H, H, H, H when you toss a coin 4 times (on pen and paper!). Now conduct 10,000 simulation experiments in which you perform 4 coin tosses per experiment and record the number of heads. What is the frequency of all heads and is this similar to what you calculated?"
   ]
  },
  {
   "cell_type": "code",
   "execution_count": 43,
   "metadata": {
    "collapsed": false
   },
   "outputs": [
    {
     "data": {
      "text/plain": [
       "[1] 0.0625"
      ]
     },
     "execution_count": 43,
     "metadata": {},
     "output_type": "execute_result"
    }
   ],
   "source": [
    "0.5^4"
   ]
  },
  {
   "cell_type": "code",
   "execution_count": 45,
   "metadata": {
    "collapsed": false
   },
   "outputs": [
    {
     "data": {
      "text/plain": [
       "[1] 613"
      ]
     },
     "execution_count": 45,
     "metadata": {},
     "output_type": "execute_result"
    }
   ],
   "source": [
    "expts <- rbinom(10000, size=4, prob=0.5)\n",
    "sum(expts == 4)"
   ]
  },
  {
   "cell_type": "markdown",
   "metadata": {},
   "source": [
    "(11) The `anscombe` dataframe has 8 columns and 11 rows. Perform a linear regression of $y1$ against $x1$, $y2$ against $x2$ and so on and report what the intercept and slope are in each case (Note: the anscombe dataframe is already loaded)."
   ]
  },
  {
   "cell_type": "code",
   "execution_count": 47,
   "metadata": {
    "collapsed": false
   },
   "outputs": [
    {
     "data": {
      "text/plain": [
       "(Intercept)          x1 \n",
       "  3.0000909   0.5000909 "
      ]
     },
     "execution_count": 47,
     "metadata": {},
     "output_type": "execute_result"
    }
   ],
   "source": [
    "model <- lm(y1 ~ x1, data=anscombe)\n",
    "model$coefficients"
   ]
  },
  {
   "cell_type": "code",
   "execution_count": null,
   "metadata": {
    "collapsed": true
   },
   "outputs": [],
   "source": [
    "model <- lm(y2 ~ x2, data=anscombe)\n",
    "model$coefficients"
   ]
  },
  {
   "cell_type": "code",
   "execution_count": null,
   "metadata": {
    "collapsed": true
   },
   "outputs": [],
   "source": [
    "model <- lm(y3 ~ x3, data=anscombe)\n",
    "model$coefficients"
   ]
  },
  {
   "cell_type": "code",
   "execution_count": 48,
   "metadata": {
    "collapsed": false
   },
   "outputs": [
    {
     "data": {
      "text/plain": [
       "(Intercept)          x4 \n",
       "  3.0017273   0.4999091 "
      ]
     },
     "execution_count": 48,
     "metadata": {},
     "output_type": "execute_result"
    }
   ],
   "source": [
    "model <- lm(y4 ~ x4, data=anscombe)\n",
    "model$coefficients"
   ]
  },
  {
   "cell_type": "markdown",
   "metadata": {},
   "source": [
    "(12) Now plot four scatter plots, one for $y1$ against x1$, $y2$ against $x2$ and so on for the same anscombe datafraem."
   ]
  },
  {
   "cell_type": "code",
   "execution_count": 54,
   "metadata": {
    "collapsed": false
   },
   "outputs": [
    {
     "data": {
      "image/png": "[encoded data removed]"
     },
     "metadata": {},
     "output_type": "display_data"
    }
   ],
   "source": [
    "par(mfrow=c(2,2))\n",
    "with(anscombe, plot(x1, y1, type=\"p\"))\n",
    "with(anscombe, plot(x2, y2, type=\"p\"))\n",
    "with(anscombe, plot(x3, y3, type=\"p\"))\n",
    "with(anscombe, plot(x4, y4, type=\"p\"))  "
   ]
  },
  {
   "cell_type": "markdown",
   "metadata": {},
   "source": [
    "(13) Write a function that takes two p-dimensional vectors and retunrs the Euclidean distance between them. The definitiion for Euclidean distance in p dimensions extneds the 2-dimensional definition in the obvious way. For example, the distance between the 3-dimensonal vectors $(1,2,3)$ and $(2,4,6)$ is $\\sqrt{((1-2)^2 + (2-4)^2 + (3-6)^2)}$."
   ]
  },
  {
   "cell_type": "code",
   "execution_count": 59,
   "metadata": {
    "collapsed": false
   },
   "outputs": [
    {
     "data": {
      "text/plain": [
       "[1] 5"
      ]
     },
     "execution_count": 59,
     "metadata": {},
     "output_type": "execute_result"
    }
   ],
   "source": [
    "my.dist <- function(v1, v2) {\n",
    "    return(sqrt(sum((v1-v2)^2)))\n",
    "}\n",
    "\n",
    "my.dist(c(0,0), c(3,4))"
   ]
  },
  {
   "cell_type": "markdown",
   "metadata": {},
   "source": [
    "(14) Write a function to calculate the median of a vector of numbers. Recall that if the vector is of odd length, the median is the central number of the sorted vacotr; othersise it is the average of the two central numbers."
   ]
  },
  {
   "cell_type": "code",
   "execution_count": 78,
   "metadata": {
    "collapsed": false
   },
   "outputs": [],
   "source": [
    "my.median <- function(v) {\n",
    "    v <- sort(v)\n",
    "    n <- length(v)\n",
    "    if (n %% 2 == 1) \n",
    "        ans <- v[floor(n/2)]\n",
    "    else {\n",
    "        low <- floor(n/2)\n",
    "        ans <- mean(v[low:(low+1)])\n",
    "    }\n",
    "    return(ans)\n",
    "}\n",
    "\n",
    "\n"
   ]
  },
  {
   "cell_type": "code",
   "execution_count": 80,
   "metadata": {
    "collapsed": false
   },
   "outputs": [
    {
     "data": {
      "text/plain": [
       "[1] 5"
      ]
     },
     "execution_count": 80,
     "metadata": {},
     "output_type": "execute_result"
    }
   ],
   "source": [
    "my.median(1:11)"
   ]
  },
  {
   "cell_type": "code",
   "execution_count": 81,
   "metadata": {
    "collapsed": false
   },
   "outputs": [
    {
     "data": {
      "text/plain": [
       "[1] 6.5"
      ]
     },
     "execution_count": 81,
     "metadata": {},
     "output_type": "execute_result"
    }
   ],
   "source": [
    "my.median(1:12)"
   ]
  },
  {
   "cell_type": "markdown",
   "metadata": {},
   "source": [
    "(15) Write a function called `peek` that will take a dataframe and a number as arguments - so you would eovke the function with a call like `peek(df, n)`. What this function does is return $n$ rows at random (no duplicate rows). If $n$ is greater than the number of rows, the enitre data frame is returned."
   ]
  },
  {
   "cell_type": "code",
   "execution_count": 84,
   "metadata": {
    "collapsed": true
   },
   "outputs": [],
   "source": [
    "peek <- function(df, n) {\n",
    "    if (n > length(df)) {\n",
    "        ans <- df\n",
    "    }\n",
    "    else {\n",
    "        idx <- sample(1:length(df), n, replace=FALSE)\n",
    "        ans <- df[idx,]\n",
    "    }\n",
    "    return(ans)\n",
    "}\n",
    "\n",
    "\n"
   ]
  },
  {
   "cell_type": "code",
   "execution_count": 85,
   "metadata": {
    "collapsed": false
   },
   "outputs": [
    {
     "data": {
      "text/plain": [
       "  x1 x2 x3 x4   y1   y2    y3   y4\n",
       "4  9  9  9  8 8.81 8.77  7.11 8.84\n",
       "3 13 13 13  8 7.58 8.74 12.74 7.71\n",
       "5 11 11 11  8 8.33 9.26  7.81 8.47"
      ]
     },
     "execution_count": 85,
     "metadata": {},
     "output_type": "execute_result"
    }
   ],
   "source": [
    "peek(anscombe, 3)"
   ]
  },
  {
   "cell_type": "code",
   "execution_count": null,
   "metadata": {
    "collapsed": true
   },
   "outputs": [],
   "source": []
  }
 ],
 "metadata": {
  "kernelspec": {
   "display_name": "R",
   "language": "",
   "name": "ir"
  },
  "language_info": {
   "codemirror_mode": "r",
   "file_extension": ".r",
   "mimetype": "text/x-r-source",
   "name": "R",
   "pygments_lexer": "r",
   "version": "3.1.3"
  }
 },
 "nbformat": 4,
 "nbformat_minor": 0
}
