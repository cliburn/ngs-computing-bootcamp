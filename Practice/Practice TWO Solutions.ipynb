{
 "cells": [
  {
   "cell_type": "markdown",
   "metadata": {},
   "source": [
    "Working with dataframes\n",
    "----\n",
    "\n",
    "Practice TWO is meant to help you get comfortable working with data frames, and the basic ways you can slice and dice datafrmaes."
   ]
  },
  {
   "cell_type": "markdown",
   "metadata": {},
   "source": [
    "(1) How many rows and columns are there in the `mtcars` dataframe?"
   ]
  },
  {
   "cell_type": "code",
   "execution_count": 1,
   "metadata": {
    "collapsed": false
   },
   "outputs": [
    {
     "data": {
      "text/plain": [
       "[1] 32"
      ]
     },
     "execution_count": 1,
     "metadata": {},
     "output_type": "execute_result"
    },
    {
     "data": {
      "text/plain": [
       "[1] 11"
      ]
     },
     "execution_count": 1,
     "metadata": {},
     "output_type": "execute_result"
    }
   ],
   "source": [
    "(nrow(mtcars))\n",
    "(ncol(mtcars))"
   ]
  },
  {
   "cell_type": "code",
   "execution_count": 2,
   "metadata": {
    "collapsed": false
   },
   "outputs": [
    {
     "data": {
      "text/plain": [
       "[1] 32 11"
      ]
     },
     "execution_count": 2,
     "metadata": {},
     "output_type": "execute_result"
    }
   ],
   "source": [
    "dim(mtcars)"
   ]
  },
  {
   "cell_type": "markdown",
   "metadata": {},
   "source": [
    "(2) Show the last 6 rows of `mtcars`."
   ]
  },
  {
   "cell_type": "code",
   "execution_count": 3,
   "metadata": {
    "collapsed": false
   },
   "outputs": [
    {
     "data": {
      "text/plain": [
       "                mpg cyl  disp  hp drat    wt qsec vs am gear carb\n",
       "Porsche 914-2  26.0   4 120.3  91 4.43 2.140 16.7  0  1    5    2\n",
       "Lotus Europa   30.4   4  95.1 113 3.77 1.513 16.9  1  1    5    2\n",
       "Ford Pantera L 15.8   8 351.0 264 4.22 3.170 14.5  0  1    5    4\n",
       "Ferrari Dino   19.7   6 145.0 175 3.62 2.770 15.5  0  1    5    6\n",
       "Maserati Bora  15.0   8 301.0 335 3.54 3.570 14.6  0  1    5    8\n",
       "Volvo 142E     21.4   4 121.0 109 4.11 2.780 18.6  1  1    4    2"
      ]
     },
     "execution_count": 3,
     "metadata": {},
     "output_type": "execute_result"
    }
   ],
   "source": [
    "tail(mtcars, 6)"
   ]
  },
  {
   "cell_type": "markdown",
   "metadata": {},
   "source": [
    "(3) Show 6 rows at random (no duplicates) from `mtcars`"
   ]
  },
  {
   "cell_type": "code",
   "execution_count": 6,
   "metadata": {
    "collapsed": false
   },
   "outputs": [
    {
     "data": {
      "text/plain": [
       "               mpg cyl  disp  hp drat    wt  qsec vs am gear carb\n",
       "Toyota Corona 21.5   4 120.1  97 3.70 2.465 20.01  1  0    3    1\n",
       "Camaro Z28    13.3   8 350.0 245 3.73 3.840 15.41  0  0    3    4\n",
       "Valiant       18.1   6 225.0 105 2.76 3.460 20.22  1  0    3    1\n",
       "Merc 280C     17.8   6 167.6 123 3.92 3.440 18.90  1  0    4    4\n",
       "Fiat 128      32.4   4  78.7  66 4.08 2.200 19.47  1  1    4    1\n",
       "AMC Javelin   15.2   8 304.0 150 3.15 3.435 17.30  0  0    3    2"
      ]
     },
     "execution_count": 6,
     "metadata": {},
     "output_type": "execute_result"
    }
   ],
   "source": [
    "ridx <- sample(1:nrow(mtcars), 6, replace=FALSE)\n",
    "mtcars[ridx,]"
   ]
  },
  {
   "cell_type": "markdown",
   "metadata": {},
   "source": [
    "(4) Display information only for the subset of cars with automatic transmission."
   ]
  },
  {
   "cell_type": "code",
   "execution_count": 7,
   "metadata": {
    "collapsed": false
   },
   "outputs": [
    {
     "data": {
      "text/plain": [
       "                mpg cyl  disp  hp drat    wt  qsec vs am gear carb\n",
       "Mazda RX4      21.0   6 160.0 110 3.90 2.620 16.46  0  1    4    4\n",
       "Mazda RX4 Wag  21.0   6 160.0 110 3.90 2.875 17.02  0  1    4    4\n",
       "Datsun 710     22.8   4 108.0  93 3.85 2.320 18.61  1  1    4    1\n",
       "Fiat 128       32.4   4  78.7  66 4.08 2.200 19.47  1  1    4    1\n",
       "Honda Civic    30.4   4  75.7  52 4.93 1.615 18.52  1  1    4    2\n",
       "Toyota Corolla 33.9   4  71.1  65 4.22 1.835 19.90  1  1    4    1\n",
       "Fiat X1-9      27.3   4  79.0  66 4.08 1.935 18.90  1  1    4    1\n",
       "Porsche 914-2  26.0   4 120.3  91 4.43 2.140 16.70  0  1    5    2\n",
       "Lotus Europa   30.4   4  95.1 113 3.77 1.513 16.90  1  1    5    2\n",
       "Ford Pantera L 15.8   8 351.0 264 4.22 3.170 14.50  0  1    5    4\n",
       "Ferrari Dino   19.7   6 145.0 175 3.62 2.770 15.50  0  1    5    6\n",
       "Maserati Bora  15.0   8 301.0 335 3.54 3.570 14.60  0  1    5    8\n",
       "Volvo 142E     21.4   4 121.0 109 4.11 2.780 18.60  1  1    4    2"
      ]
     },
     "execution_count": 7,
     "metadata": {},
     "output_type": "execute_result"
    }
   ],
   "source": [
    "mtcars[mtcars$am == 1,]"
   ]
  },
  {
   "cell_type": "markdown",
   "metadata": {},
   "source": [
    "(5) Display information only for the subset of cars with weight between 2 and 3."
   ]
  },
  {
   "cell_type": "code",
   "execution_count": 8,
   "metadata": {
    "collapsed": false
   },
   "outputs": [
    {
     "data": {
      "text/plain": [
       "               mpg cyl  disp  hp drat    wt  qsec vs am gear carb\n",
       "Mazda RX4     21.0   6 160.0 110 3.90 2.620 16.46  0  1    4    4\n",
       "Mazda RX4 Wag 21.0   6 160.0 110 3.90 2.875 17.02  0  1    4    4\n",
       "Datsun 710    22.8   4 108.0  93 3.85 2.320 18.61  1  1    4    1\n",
       "Fiat 128      32.4   4  78.7  66 4.08 2.200 19.47  1  1    4    1\n",
       "Toyota Corona 21.5   4 120.1  97 3.70 2.465 20.01  1  0    3    1\n",
       "Porsche 914-2 26.0   4 120.3  91 4.43 2.140 16.70  0  1    5    2\n",
       "Ferrari Dino  19.7   6 145.0 175 3.62 2.770 15.50  0  1    5    6\n",
       "Volvo 142E    21.4   4 121.0 109 4.11 2.780 18.60  1  1    4    2"
      ]
     },
     "execution_count": 8,
     "metadata": {},
     "output_type": "execute_result"
    }
   ],
   "source": [
    "mtcars[(2 < mtcars$wt) & (mtcars$wt < 3),]"
   ]
  },
  {
   "cell_type": "markdown",
   "metadata": {},
   "source": [
    "(6) What is the mean weight of all cars?"
   ]
  },
  {
   "cell_type": "code",
   "execution_count": 9,
   "metadata": {
    "collapsed": false
   },
   "outputs": [
    {
     "data": {
      "text/plain": [
       "[1] 3.21725"
      ]
     },
     "execution_count": 9,
     "metadata": {},
     "output_type": "execute_result"
    }
   ],
   "source": [
    "mean(mtcars$wt)"
   ]
  },
  {
   "cell_type": "code",
   "execution_count": null,
   "metadata": {
    "collapsed": true
   },
   "outputs": [],
   "source": [
    "(7) What is the mean weight of cars wtih `mpg` greater than 20?"
   ]
  },
  {
   "cell_type": "code",
   "execution_count": 12,
   "metadata": {
    "collapsed": false
   },
   "outputs": [
    {
     "data": {
      "text/plain": [
       "[1] 2.418071"
      ]
     },
     "execution_count": 12,
     "metadata": {},
     "output_type": "execute_result"
    }
   ],
   "source": [
    "mean(mtcars[mtcars$mpg > 20, \"wt\"])"
   ]
  },
  {
   "cell_type": "markdown",
   "metadata": {},
   "source": [
    "(8) Add a column `kpl` showing the number of kilometers per liter (1 mile = 1.609344 kilometers, and 1 gallon = 3.78541178 liters)"
   ]
  },
  {
   "cell_type": "code",
   "execution_count": 13,
   "metadata": {
    "collapsed": true
   },
   "outputs": [],
   "source": [
    "mpg.to.kpl <- function(mpg) {\n",
    "    return(mpg * 1.609344 / 3.78541178)\n",
    "}"
   ]
  },
  {
   "cell_type": "code",
   "execution_count": 14,
   "metadata": {
    "collapsed": false
   },
   "outputs": [
    {
     "data": {
      "text/plain": [
       "                   mpg cyl disp  hp drat    wt  qsec vs am gear carb      kpl\n",
       "Mazda RX4         21.0   6  160 110 3.90 2.620 16.46  0  1    4    4 8.928018\n",
       "Mazda RX4 Wag     21.0   6  160 110 3.90 2.875 17.02  0  1    4    4 8.928018\n",
       "Datsun 710        22.8   4  108  93 3.85 2.320 18.61  1  1    4    1 9.693277\n",
       "Hornet 4 Drive    21.4   6  258 110 3.08 3.215 19.44  1  0    3    1 9.098075\n",
       "Hornet Sportabout 18.7   8  360 175 3.15 3.440 17.02  0  0    3    2 7.950187\n",
       "Valiant           18.1   6  225 105 2.76 3.460 20.22  1  0    3    1 7.695101"
      ]
     },
     "execution_count": 14,
     "metadata": {},
     "output_type": "execute_result"
    }
   ],
   "source": [
    "mtcars$kpl <- mpg.to.kpl(mtcars$mpg)\n",
    "head(mtcars)"
   ]
  },
  {
   "cell_type": "markdown",
   "metadata": {},
   "source": [
    "(9) Make a new dataframe `mtcars.1` with only the `mpg` and `kpl` columns."
   ]
  },
  {
   "cell_type": "code",
   "execution_count": 15,
   "metadata": {
    "collapsed": false
   },
   "outputs": [
    {
     "data": {
      "text/plain": [
       "                   mpg      kpl\n",
       "Mazda RX4         21.0 8.928018\n",
       "Mazda RX4 Wag     21.0 8.928018\n",
       "Datsun 710        22.8 9.693277\n",
       "Hornet 4 Drive    21.4 9.098075\n",
       "Hornet Sportabout 18.7 7.950187\n",
       "Valiant           18.1 7.695101"
      ]
     },
     "execution_count": 15,
     "metadata": {},
     "output_type": "execute_result"
    }
   ],
   "source": [
    "mtcars.1 <- mtcars[, c(\"mpg\", \"kpl\")]\n",
    "head(mtcars.1)"
   ]
  },
  {
   "cell_type": "markdown",
   "metadata": {},
   "source": [
    "(10) Perform a linear regression model of `mpg` against `wt`. Plot the model fit."
   ]
  },
  {
   "cell_type": "code",
   "execution_count": 18,
   "metadata": {
    "collapsed": false
   },
   "outputs": [
    {
     "data": {
      "text/plain": [
       "\n",
       "Call:\n",
       "lm(formula = mpg ~ wt, data = mtcars)\n",
       "\n",
       "Residuals:\n",
       "    Min      1Q  Median      3Q     Max \n",
       "-4.5432 -2.3647 -0.1252  1.4096  6.8727 \n",
       "\n",
       "Coefficients:\n",
       "            Estimate Std. Error t value Pr(>|t|)    \n",
       "(Intercept)  37.2851     1.8776  19.858  < 2e-16 ***\n",
       "wt           -5.3445     0.5591  -9.559 1.29e-10 ***\n",
       "---\n",
       "Signif. codes:  0 ‘***’ 0.001 ‘**’ 0.01 ‘*’ 0.05 ‘.’ 0.1 ‘ ’ 1\n",
       "\n",
       "Residual standard error: 3.046 on 30 degrees of freedom\n",
       "Multiple R-squared:  0.7528,\tAdjusted R-squared:  0.7446 \n",
       "F-statistic: 91.38 on 1 and 30 DF,  p-value: 1.294e-10\n"
      ]
     },
     "execution_count": 18,
     "metadata": {},
     "output_type": "execute_result"
    }
   ],
   "source": [
    "fit <- lm(mpg ~ wt, data=mtcars)\n",
    "summary(fit)"
   ]
  },
  {
   "cell_type": "code",
   "execution_count": 30,
   "metadata": {
    "collapsed": false
   },
   "outputs": [
    {
     "data": {
      "image/png": "[encoded data removed]"
     },
     "metadata": {},
     "output_type": "display_data"
    }
   ],
   "source": [
    "plot(mtcars$wt, mtcars$mpg, col=rgb(0,0,1,0.5), pch=16, cex=2.0, \n",
    "    xlab=\"Weigth\", ylab=\"Miles per gallon\", \n",
    "     main=\"Linear regression of MPG against wt\")\n",
    "abline(fit, col=\"red\", lwd=2)"
   ]
  },
  {
   "cell_type": "markdown",
   "metadata": {},
   "source": [
    "(11) Print 10 rows at ranodm from the `iris` dataframe"
   ]
  },
  {
   "cell_type": "code",
   "execution_count": 2,
   "metadata": {
    "collapsed": false
   },
   "outputs": [
    {
     "data": {
      "text/plain": [
       "    Sepal.Length Sepal.Width Petal.Length Petal.Width    Species\n",
       "136          7.7         3.0          6.1         2.3  virginica\n",
       "10           4.9         3.1          1.5         0.1     setosa\n",
       "29           5.2         3.4          1.4         0.2     setosa\n",
       "80           5.7         2.6          3.5         1.0 versicolor\n",
       "54           5.5         2.3          4.0         1.3 versicolor\n",
       "11           5.4         3.7          1.5         0.2     setosa\n",
       "58           4.9         2.4          3.3         1.0 versicolor\n",
       "56           5.7         2.8          4.5         1.3 versicolor\n",
       "150          5.9         3.0          5.1         1.8  virginica\n",
       "59           6.6         2.9          4.6         1.3 versicolor"
      ]
     },
     "execution_count": 2,
     "metadata": {},
     "output_type": "execute_result"
    }
   ],
   "source": [
    "ridx <- sample(1:nrow(iris), 10, replace = FALSE)\n",
    "iris[ridx,]"
   ]
  },
  {
   "cell_type": "markdown",
   "metadata": {},
   "source": [
    "(12) Find the mean Sepal.Length Sepal.Width Petal.Length Petal.Width for each iris species using the `aggregate` command."
   ]
  },
  {
   "cell_type": "code",
   "execution_count": 3,
   "metadata": {
    "collapsed": false
   },
   "outputs": [
    {
     "data": {
      "text/plain": [
       "     Group.1 Sepal.Length Sepal.Width Petal.Length Petal.Width\n",
       "1     setosa        5.006       3.428        1.462       0.246\n",
       "2 versicolor        5.936       2.770        4.260       1.326\n",
       "3  virginica        6.588       2.974        5.552       2.026"
      ]
     },
     "execution_count": 3,
     "metadata": {},
     "output_type": "execute_result"
    }
   ],
   "source": [
    "aggregate(iris[,1:4], by=list(iris$Species), FUN=mean)"
   ]
  }
 ],
 "metadata": {
  "kernelspec": {
   "display_name": "R",
   "language": "",
   "name": "ir"
  },
  "language_info": {
   "codemirror_mode": "r",
   "file_extension": ".r",
   "mimetype": "text/x-r-source",
   "name": "R",
   "pygments_lexer": "r",
   "version": "3.1.3"
  }
 },
 "nbformat": 4,
 "nbformat_minor": 0
}
