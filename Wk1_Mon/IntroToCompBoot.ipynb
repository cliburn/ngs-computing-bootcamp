{
 "cells": [
  {
   "cell_type": "markdown",
   "metadata": {},
   "source": [
    "<H1> Duke HTS Summer Course 2016 - Computational Bootcamp"
   ]
  },
  {
   "cell_type": "markdown",
   "metadata": {},
   "source": [
    "The first thing you should do with this notebook is make a copy! Go to the file menu and choose 'Make a Copy'."
   ]
  },
  {
   "cell_type": "markdown",
   "metadata": {},
   "source": [
    "*Great! Now you should be working in a file called 'IntroToCompBoot-Copy1'*\n",
    "\n",
    "Briefly go back to the other tab and choose 'Close and Halt' from the file menu. Why did we do this? Because we have the lecture materials in something called a 'github repository'. We may need to make changes to notebooks and if and when we do, we will show you how to update your VM with the new materials. We want whatever changes you make to be saved under different files and this seems to be the easiest way. (Note: even if you don't think you are making changes, the notebook 'autosaves' - so your notebook will almost always be considered 'changed' as far as github is concerned... anyway - just trust me!"
   ]
  },
  {
   "cell_type": "markdown",
   "metadata": {},
   "source": [
    "## Purpose of this component\n",
    "\n",
    "\n",
    "In this course, you will learn how to generate and analyze RNAseq data. Roughly, we have the following components:\n",
    "\n",
    "- *Experimental Design* How do we design experiments so that results are easily interpretable and answer the question(s) we are interested in. (Statistics!!!)\n",
    "\n",
    "- *Analysis of Data* How do we **properly** analyze experimental data, so that results are correct. (More statistics!!!)\n",
    "\n",
    "- *Computational Procedure* Analysis pipeline (Bioinformatics)\n",
    "\n",
    "Finally, we want to do all of the above in a **REPRODUCIBLE** fashion. \n",
    "\n",
    "This 'computational bootcamp' component is designed to give you the tools you need to carry out the steps above - and to do so within the context of reproducible research.\n",
    "\n",
    "The analysis pipeline has several different apps. Some are written in R, and so require knowledge of the R programming language (minimal - but some proficiency is needed). Some have components in python, and some are binaries. Both of these last types of applications require moderate proficiency in the 'bash shell' or 'unix command line'. Therefore, we will cover the following topics:\n",
    "\n",
    "- Basic R\n",
    "- Basic Unix/Linux commands\n",
    "\n",
    "Additionally, we will use the bootcamp to reinforce the statistical lecture materials by walking you through some of the examples using R, and we will cover some 'data visualization' techniques that include graphics in R.\n",
    "\n",
    "All of this will be done within the Jupyter notebook tool, which allows for what is called 'literate programming' and reproducible pipelines."
   ]
  },
  {
   "cell_type": "markdown",
   "metadata": {},
   "source": [
    "## The Notebook\n",
    "\n",
    "The Jupyter notebook is an interactive tool that allows the integration of text, code and graphics in one unified environment. \n",
    "\n",
    "### Markdown Cells\n",
    "\n",
    "The notebook uses the concept of 'cells'. There are two types of cells: code and markdown. What you are reading now is in a 'cell' and that 'cell type' is called 'markdown' (essentially just text, but you can use some special sequences to get different effects). Markdown is a subset of html (if that means anything to you). "
   ]
  },
  {
   "cell_type": "markdown",
   "metadata": {},
   "source": [
    "Give it a try! Double click on this cell to get into edit mode. Then, see how this word got *italicized* and how this one is **bold**. Here is a bulleted list:\n",
    "\n",
    "* item 1\n",
    "* item 2\n",
    "  - sub item 2a\n",
    "  - sub item 2b\n",
    "  \n",
    "  \n",
    "How about a bit of math?\n",
    "\n",
    "$$F(t) = \\int_{-\\infty}^t f(x) dx$$\n",
    "\n",
    "That last one is something called latex, and if you aren't familiar, don't worry. It's just to show you that you can do some very pretty things in these kinds of cells."
   ]
  },
  {
   "cell_type": "markdown",
   "metadata": {},
   "source": [
    "### Code Cells\n",
    "\n",
    "Code cells rely on something called a 'kernel'. The kernel is simply the programming environment that a particular notebook file is running. This one is running an R kernel. That means that cells which are not markdown cells (the code cells) are interpreted to be R code (as opposed to shell commands, python, or one of a rapidly growing list of Jupyter kernels). The following cell is a code cell. Note the In[]: "
   ]
  },
  {
   "cell_type": "code",
   "execution_count": 2,
   "metadata": {
    "collapsed": false
   },
   "outputs": [
    {
     "name": "stdout",
     "output_type": "stream",
     "text": [
      "[1] \"This is a code cell\"\n"
     ]
    }
   ],
   "source": [
    "print(\"This is a code cell\")"
   ]
  },
  {
   "cell_type": "markdown",
   "metadata": {},
   "source": [
    "We execute code cells (and markdown cells) by hitting <shift><Enter>. Let's do one more and then move on to discuss R a bit. "
   ]
  },
  {
   "cell_type": "code",
   "execution_count": null,
   "metadata": {
    "collapsed": false
   },
   "outputs": [],
   "source": [
    "# Some arithmetic here"
   ]
  }
 ],
 "metadata": {
  "kernelspec": {
   "display_name": "R",
   "language": "R",
   "name": "ir"
  },
  "language_info": {
   "codemirror_mode": "r",
   "file_extension": ".r",
   "mimetype": "text/x-r-source",
   "name": "R",
   "pygments_lexer": "r",
   "version": "3.1.2"
  }
 },
 "nbformat": 4,
 "nbformat_minor": 0
}
