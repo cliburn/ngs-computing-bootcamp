{
 "cells": [
  {
   "cell_type": "markdown",
   "metadata": {},
   "source": [
    "<H1> Basic R in the Jupyter Notebook and RStudio"
   ]
  },
  {
   "cell_type": "markdown",
   "metadata": {},
   "source": [
    "R is a programming environment created specifically for statistics. It is a scripting language (if you don't know what that means, don't worry for now). R can be used interactively (as we will see in this notebook), or it can be told to execute a list of commands stored in a plain text file (called a 'script').\n",
    "\n",
    "From within the Jupyter notebook, we can access the R 'kernel' (the program that interprets R code and returns results). This is just one way to use R. We will also learn to use a program called Rstudio."
   ]
  },
  {
   "cell_type": "markdown",
   "metadata": {},
   "source": [
    "<H2> The Notebook"
   ]
  },
  {
   "cell_type": "markdown",
   "metadata": {},
   "source": [
    "As you can see, the notebook is browser based (it opens a window in your browser) and works a lot like a web server. This notebook is running an R kernel, but we could chooose a Python kernel, a bash kernel (unix shell) or from a long list that is currently expanding:\n",
    "\n",
    "https://github.com/ipython/ipython/wiki/IPython-kernels-for-other-languages\n",
    "\n",
    "Be careful, though. Much of this is under development and considered 'beta' (or even alpha) - the tools can be buggy. We will be careful to use only the better developed parts of the Jupyter universe.\n",
    "\n",
    "The notebook is comprised of 'cells'. Cells can either be 'code' or 'markdown'. Code is for writing R commands. Markdown is for text and is an extension of html. This cell is a markdown cell.\n",
    "\n",
    "More about markdown here:\n",
    "\n",
    "https://en.wikipedia.org/wiki/Markdown\n",
    "\n",
    "You can type anything you want in markdown (though there are some special characters that will be interpreted as commands). \n",
    "\n",
    "Code cells require R syntax. The following cell is an R cell:"
   ]
  },
  {
   "cell_type": "code",
   "execution_count": 2,
   "metadata": {
    "collapsed": false
   },
   "outputs": [
    {
     "data": {
      "text/html": [
       "4"
      ],
      "text/latex": [
       "4"
      ],
      "text/markdown": [
       "4"
      ],
      "text/plain": [
       "[1] 4"
      ]
     },
     "execution_count": 2,
     "metadata": {},
     "output_type": "execute_result"
    }
   ],
   "source": [
    "# This is an R cell. The '#' tells R this is a comment\n",
    "3+1"
   ]
  },
  {
   "cell_type": "markdown",
   "metadata": {},
   "source": [
    "When I run the code cell, it executes the R code (3+1) and returns the output in an output cell."
   ]
  },
  {
   "cell_type": "markdown",
   "metadata": {},
   "source": [
    "Now, the notebook is a great environment, especially for doing reproducible research, documenting all your steps and exploratory analysis. As an intro to R, though, Rstudio has a few more features - most notable - it has browsable help files, so let's go over there for a moment.\n",
    "\n"
   ]
  },
  {
   "cell_type": "markdown",
   "metadata": {},
   "source": [
    "<H2> Rstudio"
   ]
  },
  {
   "cell_type": "markdown",
   "metadata": {},
   "source": [
    "Your VM has been setup as an Rstudio 'server'. This means that you can connect to it in a similar manner as you did to the notebook server. Use the following URL:\n",
    "\n",
    "http://colab-sbx-XXX.oit.duke.edu:8787\n",
    "\n",
    "Rstudio Server uses the system login authentication, so type in your VM username (bitnami) and the password you were assigned by Duke's OIT.\n",
    "\n",
    "Your window should look like so:\n",
    "\n",
    "![alt text](RstudioScreen.png)"
   ]
  }
 ],
 "metadata": {
  "kernelspec": {
   "display_name": "R",
   "language": "R",
   "name": "ir"
  },
  "language_info": {
   "codemirror_mode": "r",
   "file_extension": ".r",
   "mimetype": "text/x-r-source",
   "name": "R",
   "pygments_lexer": "r",
   "version": "3.2.0"
  }
 },
 "nbformat": 4,
 "nbformat_minor": 0
}
