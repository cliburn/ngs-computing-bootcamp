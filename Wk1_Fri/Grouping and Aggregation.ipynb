{
 "cells": [
  {
   "cell_type": "markdown",
   "metadata": {},
   "source": [
    "Merging data\n",
    "----\n",
    "\n",
    "A common task in data analysis is to link data from two or more datasts, for example, to relate assay data to clinical phenoytpe. \n",
    "\n",
    "Here we will work thought a typical example where the genotype and phenoytpe information come from two different data sets, and the ID information needed to link the two is from a third data set."
   ]
  },
  {
   "cell_type": "code",
   "execution_count": 94,
   "metadata": {
    "collapsed": true
   },
   "outputs": [],
   "source": [
    "phenodat <- read.csv(\"phenodat.csv\") \n",
    "gdat1 <- read.csv(\"gdat1.csv\") \n",
    "gdat2 <- read.csv(\"gdat2.csv\")\n",
    "iddat <- read.csv(\"iddat.csv\")"
   ]
  },
  {
   "cell_type": "markdown",
   "metadata": {},
   "source": [
    "Eyeball data sett\n",
    "----\n",
    "\n",
    "A quick sanity check to see what the data look like."
   ]
  },
  {
   "cell_type": "code",
   "execution_count": 100,
   "metadata": {
    "collapsed": false
   },
   "outputs": [
    {
     "data": {
      "text/html": [
       "<ol class=list-inline>\n",
       "\t<li>10</li>\n",
       "\t<li>2</li>\n",
       "</ol>\n"
      ],
      "text/latex": [
       "\\begin{enumerate*}\n",
       "\\item 10\n",
       "\\item 2\n",
       "\\end{enumerate*}\n"
      ],
      "text/markdown": [
       "1. 10\n",
       "2. 2\n",
       "\n",
       "\n"
      ],
      "text/plain": [
       "[1] 10  2"
      ]
     },
     "execution_count": 100,
     "metadata": {},
     "output_type": "execute_result"
    },
    {
     "data": {
      "text/html": [
       "<ol class=list-inline>\n",
       "\t<li>11</li>\n",
       "\t<li>3</li>\n",
       "</ol>\n"
      ],
      "text/latex": [
       "\\begin{enumerate*}\n",
       "\\item 11\n",
       "\\item 3\n",
       "\\end{enumerate*}\n"
      ],
      "text/markdown": [
       "1. 11\n",
       "2. 3\n",
       "\n",
       "\n"
      ],
      "text/plain": [
       "[1] 11  3"
      ]
     },
     "execution_count": 100,
     "metadata": {},
     "output_type": "execute_result"
    },
    {
     "data": {
      "text/html": [
       "<ol class=list-inline>\n",
       "\t<li>11</li>\n",
       "\t<li>3</li>\n",
       "</ol>\n"
      ],
      "text/latex": [
       "\\begin{enumerate*}\n",
       "\\item 11\n",
       "\\item 3\n",
       "\\end{enumerate*}\n"
      ],
      "text/markdown": [
       "1. 11\n",
       "2. 3\n",
       "\n",
       "\n"
      ],
      "text/plain": [
       "[1] 11  3"
      ]
     },
     "execution_count": 100,
     "metadata": {},
     "output_type": "execute_result"
    },
    {
     "data": {
      "text/html": [
       "<ol class=list-inline>\n",
       "\t<li>20</li>\n",
       "\t<li>2</li>\n",
       "</ol>\n"
      ],
      "text/latex": [
       "\\begin{enumerate*}\n",
       "\\item 20\n",
       "\\item 2\n",
       "\\end{enumerate*}\n"
      ],
      "text/markdown": [
       "1. 20\n",
       "2. 2\n",
       "\n",
       "\n"
      ],
      "text/plain": [
       "[1] 20  2"
      ]
     },
     "execution_count": 100,
     "metadata": {},
     "output_type": "execute_result"
    }
   ],
   "source": [
    "(dim(phenodat))\n",
    "(dim(gdat1))\n",
    "(dim(gdat2))\n",
    "(dim(iddat))"
   ]
  },
  {
   "cell_type": "code",
   "execution_count": 101,
   "metadata": {
    "collapsed": false
   },
   "outputs": [
    {
     "data": {
      "text/html": [
       "<table>\n",
       "<thead><tr><th></th><th scope=col>pid</th><th scope=col>trt</th></tr></thead>\n",
       "<tbody>\n",
       "\t<tr><th scope=row>1</th><td>pid6</td><td>0</td></tr>\n",
       "\t<tr><th scope=row>2</th><td>pid15</td><td>1</td></tr>\n",
       "\t<tr><th scope=row>3</th><td>pid8</td><td>0</td></tr>\n",
       "</tbody>\n",
       "</table>\n"
      ],
      "text/latex": [
       "\\begin{tabular}{r|ll}\n",
       "  & pid & trt\\\\\n",
       "\\hline\n",
       "\t1 & pid6 & 0\\\\\n",
       "\t2 & pid15 & 1\\\\\n",
       "\t3 & pid8 & 0\\\\\n",
       "\\end{tabular}\n"
      ],
      "text/plain": [
       "    pid trt\n",
       "1  pid6   0\n",
       "2 pid15   1\n",
       "3  pid8   0"
      ]
     },
     "execution_count": 101,
     "metadata": {},
     "output_type": "execute_result"
    }
   ],
   "source": [
    "head(phenodat, 3)"
   ]
  },
  {
   "cell_type": "code",
   "execution_count": 102,
   "metadata": {
    "collapsed": false
   },
   "outputs": [
    {
     "data": {
      "text/html": [
       "<table>\n",
       "<thead><tr><th></th><th scope=col>expid</th><th scope=col>gene1</th><th scope=col>gene2</th></tr></thead>\n",
       "<tbody>\n",
       "\t<tr><th scope=row>1</th><td>100020</td><td>-0.4321298</td><td>-0.2288958</td></tr>\n",
       "\t<tr><th scope=row>2</th><td>100018</td><td>-1.318938</td><td>0.7935853</td></tr>\n",
       "\t<tr><th scope=row>3</th><td>100013</td><td>1.242919</td><td>-1.334354</td></tr>\n",
       "</tbody>\n",
       "</table>\n"
      ],
      "text/latex": [
       "\\begin{tabular}{r|lll}\n",
       "  & expid & gene1 & gene2\\\\\n",
       "\\hline\n",
       "\t1 & 100020 & -0.4321298 & -0.2288958\\\\\n",
       "\t2 & 100018 & -1.318938 & 0.7935853\\\\\n",
       "\t3 & 100013 & 1.242919 & -1.334354\\\\\n",
       "\\end{tabular}\n"
      ],
      "text/plain": [
       "   expid      gene1      gene2\n",
       "1 100020 -0.4321298 -0.2288958\n",
       "2 100018 -1.3189376  0.7935853\n",
       "3 100013  1.2429188 -1.3343536"
      ]
     },
     "execution_count": 102,
     "metadata": {},
     "output_type": "execute_result"
    }
   ],
   "source": [
    "head(gdat1, 3)"
   ]
  },
  {
   "cell_type": "code",
   "execution_count": 103,
   "metadata": {
    "collapsed": false
   },
   "outputs": [
    {
     "data": {
      "text/html": [
       "<table>\n",
       "<thead><tr><th></th><th scope=col>expid</th><th scope=col>gene1</th><th scope=col>gene2</th></tr></thead>\n",
       "<tbody>\n",
       "\t<tr><th scope=row>1</th><td>100009</td><td>-1.220512</td><td>-0.2416898</td></tr>\n",
       "\t<tr><th scope=row>2</th><td>100008</td><td>0.2865486</td><td>1.685887</td></tr>\n",
       "\t<tr><th scope=row>3</th><td>100007</td><td>-0.7717918</td><td>-1.070068</td></tr>\n",
       "</tbody>\n",
       "</table>\n"
      ],
      "text/latex": [
       "\\begin{tabular}{r|lll}\n",
       "  & expid & gene1 & gene2\\\\\n",
       "\\hline\n",
       "\t1 & 100009 & -1.220512 & -0.2416898\\\\\n",
       "\t2 & 100008 & 0.2865486 & 1.685887\\\\\n",
       "\t3 & 100007 & -0.7717918 & -1.070068\\\\\n",
       "\\end{tabular}\n"
      ],
      "text/plain": [
       "   expid      gene1      gene2\n",
       "1 100009 -1.2205120 -0.2416898\n",
       "2 100008  0.2865486  1.6858872\n",
       "3 100007 -0.7717918 -1.0700682"
      ]
     },
     "execution_count": 103,
     "metadata": {},
     "output_type": "execute_result"
    }
   ],
   "source": [
    "head(gdat2, 3)"
   ]
  },
  {
   "cell_type": "code",
   "execution_count": 104,
   "metadata": {
    "collapsed": false
   },
   "outputs": [
    {
     "data": {
      "text/html": [
       "<table>\n",
       "<thead><tr><th></th><th scope=col>pid</th><th scope=col>expid</th></tr></thead>\n",
       "<tbody>\n",
       "\t<tr><th scope=row>1</th><td>pid20</td><td>100020</td></tr>\n",
       "\t<tr><th scope=row>2</th><td>pid9</td><td>100009</td></tr>\n",
       "\t<tr><th scope=row>3</th><td>pid13</td><td>100013</td></tr>\n",
       "</tbody>\n",
       "</table>\n"
      ],
      "text/latex": [
       "\\begin{tabular}{r|ll}\n",
       "  & pid & expid\\\\\n",
       "\\hline\n",
       "\t1 & pid20 & 100020\\\\\n",
       "\t2 & pid9 & 100009\\\\\n",
       "\t3 & pid13 & 100013\\\\\n",
       "\\end{tabular}\n"
      ],
      "text/plain": [
       "    pid  expid\n",
       "1 pid20 100020\n",
       "2  pid9 100009\n",
       "3 pid13 100013"
      ]
     },
     "execution_count": 104,
     "metadata": {},
     "output_type": "execute_result"
    }
   ],
   "source": [
    "head(iddat, 3)"
   ]
  },
  {
   "cell_type": "markdown",
   "metadata": {},
   "source": [
    "Combine gene data from two data sets\n",
    "----\n",
    "\n",
    "Often, we have the same type of data stroed in mulitple data sets, for example, one per batch. In this case, we want to combine **rows**."
   ]
  },
  {
   "cell_type": "code",
   "execution_count": 97,
   "metadata": {
    "collapsed": false
   },
   "outputs": [],
   "source": [
    "gdat <- rbind(gdat1, gdat2)"
   ]
  },
  {
   "cell_type": "markdown",
   "metadata": {},
   "source": [
    "Checking for duplicates\n",
    "----   "
   ]
  },
  {
   "cell_type": "code",
   "execution_count": 107,
   "metadata": {
    "collapsed": false
   },
   "outputs": [],
   "source": [
    "show.dups <- function(df) {\n",
    "    return(df[duplicated(df), ])\n",
    "    }"
   ]
  },
  {
   "cell_type": "code",
   "execution_count": 108,
   "metadata": {
    "collapsed": false
   },
   "outputs": [
    {
     "data": {
      "text/html": [
       "<table>\n",
       "<thead><tr><th></th><th scope=col>pid</th><th scope=col>trt</th></tr></thead>\n",
       "<tbody>\n",
       "</tbody>\n",
       "</table>\n"
      ],
      "text/latex": [
       "\\begin{tabular}{r|ll}\n",
       "  & pid & trt\\\\\n",
       "\\hline\n",
       "\\end{tabular}\n"
      ],
      "text/plain": [
       "[1] pid trt\n",
       "<0 rows> (or 0-length row.names)"
      ]
     },
     "execution_count": 108,
     "metadata": {},
     "output_type": "execute_result"
    }
   ],
   "source": [
    "show.dups(phenodat)"
   ]
  },
  {
   "cell_type": "code",
   "execution_count": 109,
   "metadata": {
    "collapsed": false
   },
   "outputs": [
    {
     "data": {
      "text/html": [
       "<table>\n",
       "<thead><tr><th></th><th scope=col>pid</th><th scope=col>expid</th></tr></thead>\n",
       "<tbody>\n",
       "</tbody>\n",
       "</table>\n"
      ],
      "text/latex": [
       "\\begin{tabular}{r|ll}\n",
       "  & pid & expid\\\\\n",
       "\\hline\n",
       "\\end{tabular}\n"
      ],
      "text/plain": [
       "[1] pid   expid\n",
       "<0 rows> (or 0-length row.names)"
      ]
     },
     "execution_count": 109,
     "metadata": {},
     "output_type": "execute_result"
    }
   ],
   "source": [
    "show.dups(iddat)"
   ]
  },
  {
   "cell_type": "code",
   "execution_count": 110,
   "metadata": {
    "collapsed": false
   },
   "outputs": [
    {
     "data": {
      "text/html": [
       "<table>\n",
       "<thead><tr><th></th><th scope=col>expid</th><th scope=col>gene1</th><th scope=col>gene2</th></tr></thead>\n",
       "<tbody>\n",
       "\t<tr><th scope=row>13</th><td>100008</td><td>0.2865486</td><td>1.685887</td></tr>\n",
       "\t<tr><th scope=row>15</th><td>100003</td><td>0.8867361</td><td>0.2760235</td></tr>\n",
       "\t<tr><th scope=row>17</th><td>100004</td><td>-0.151396</td><td>-1.048976</td></tr>\n",
       "\t<tr><th scope=row>18</th><td>100018</td><td>-1.318938</td><td>0.7935853</td></tr>\n",
       "\t<tr><th scope=row>20</th><td>100011</td><td>0.8001769</td><td>-0.7729782</td></tr>\n",
       "\t<tr><th scope=row>21</th><td>100001</td><td>-0.5996083</td><td>1.689873</td></tr>\n",
       "</tbody>\n",
       "</table>\n"
      ],
      "text/latex": [
       "\\begin{tabular}{r|lll}\n",
       "  & expid & gene1 & gene2\\\\\n",
       "\\hline\n",
       "\t13 & 100008 & 0.2865486 & 1.685887\\\\\n",
       "\t15 & 100003 & 0.8867361 & 0.2760235\\\\\n",
       "\t17 & 100004 & -0.151396 & -1.048976\\\\\n",
       "\t18 & 100018 & -1.318938 & 0.7935853\\\\\n",
       "\t20 & 100011 & 0.8001769 & -0.7729782\\\\\n",
       "\t21 & 100001 & -0.5996083 & 1.689873\\\\\n",
       "\\end{tabular}\n"
      ],
      "text/plain": [
       "    expid      gene1      gene2\n",
       "13 100008  0.2865486  1.6858872\n",
       "15 100003  0.8867361  0.2760235\n",
       "17 100004 -0.1513960 -1.0489755\n",
       "18 100018 -1.3189376  0.7935853\n",
       "20 100011  0.8001769 -0.7729782\n",
       "21 100001 -0.5996083  1.6898725"
      ]
     },
     "execution_count": 110,
     "metadata": {},
     "output_type": "execute_result"
    }
   ],
   "source": [
    "show.dups(gdat)"
   ]
  },
  {
   "cell_type": "markdown",
   "metadata": {},
   "source": [
    "Remove duplicates\n",
    "----"
   ]
  },
  {
   "cell_type": "code",
   "execution_count": 111,
   "metadata": {
    "collapsed": false
   },
   "outputs": [],
   "source": [
    "gdat <- unique(gdat)"
   ]
  },
  {
   "cell_type": "code",
   "execution_count": 113,
   "metadata": {
    "collapsed": false
   },
   "outputs": [
    {
     "data": {
      "text/html": [
       "<ol class=list-inline>\n",
       "\t<li>16</li>\n",
       "\t<li>3</li>\n",
       "</ol>\n"
      ],
      "text/latex": [
       "\\begin{enumerate*}\n",
       "\\item 16\n",
       "\\item 3\n",
       "\\end{enumerate*}\n"
      ],
      "text/markdown": [
       "1. 16\n",
       "2. 3\n",
       "\n",
       "\n"
      ],
      "text/plain": [
       "[1] 16  3"
      ]
     },
     "execution_count": 113,
     "metadata": {},
     "output_type": "execute_result"
    }
   ],
   "source": [
    "dim(gdat)"
   ]
  },
  {
   "cell_type": "code",
   "execution_count": 112,
   "metadata": {
    "collapsed": false
   },
   "outputs": [
    {
     "data": {
      "text/html": [
       "<table>\n",
       "<thead><tr><th></th><th scope=col>expid</th><th scope=col>gene1</th><th scope=col>gene2</th></tr></thead>\n",
       "<tbody>\n",
       "</tbody>\n",
       "</table>\n"
      ],
      "text/latex": [
       "\\begin{tabular}{r|lll}\n",
       "  & expid & gene1 & gene2\\\\\n",
       "\\hline\n",
       "\\end{tabular}\n"
      ],
      "text/plain": [
       "[1] expid gene1 gene2\n",
       "<0 rows> (or 0-length row.names)"
      ]
     },
     "execution_count": 112,
     "metadata": {},
     "output_type": "execute_result"
    }
   ],
   "source": [
    "show.dups(gdat)"
   ]
  },
  {
   "cell_type": "markdown",
   "metadata": {},
   "source": [
    "Merging\n",
    "----\n",
    "\n",
    "To combine columns from different data sets, we can perform a `merge` operation. Rows in the different data set need some common identifier to be merged, typcialy information from one or more \"ID\" columns."
   ]
  },
  {
   "cell_type": "markdown",
   "metadata": {},
   "source": [
    "### Merge all rows with information for both phenotype and gene"
   ]
  },
  {
   "cell_type": "markdown",
   "metadata": {},
   "source": [
    "#### First we merge phnenoytpe data with the ID data"
   ]
  },
  {
   "cell_type": "code",
   "execution_count": 114,
   "metadata": {
    "collapsed": false
   },
   "outputs": [
    {
     "data": {
      "text/html": [
       "<table>\n",
       "<thead><tr><th></th><th scope=col>pid</th><th scope=col>trt</th><th scope=col>expid</th></tr></thead>\n",
       "<tbody>\n",
       "\t<tr><th scope=row>1</th><td>pid1</td><td>0</td><td>100001</td></tr>\n",
       "\t<tr><th scope=row>2</th><td>pid12</td><td>1</td><td>100012</td></tr>\n",
       "\t<tr><th scope=row>3</th><td>pid15</td><td>1</td><td>100015</td></tr>\n",
       "\t<tr><th scope=row>4</th><td>pid16</td><td>0</td><td>100016</td></tr>\n",
       "\t<tr><th scope=row>5</th><td>pid17</td><td>0</td><td>100017</td></tr>\n",
       "\t<tr><th scope=row>6</th><td>pid18</td><td>1</td><td>100018</td></tr>\n",
       "\t<tr><th scope=row>7</th><td>pid20</td><td>0</td><td>100020</td></tr>\n",
       "\t<tr><th scope=row>8</th><td>pid6</td><td>0</td><td>100006</td></tr>\n",
       "\t<tr><th scope=row>9</th><td>pid7</td><td>0</td><td>100007</td></tr>\n",
       "\t<tr><th scope=row>10</th><td>pid8</td><td>0</td><td>100008</td></tr>\n",
       "</tbody>\n",
       "</table>\n"
      ],
      "text/latex": [
       "\\begin{tabular}{r|lll}\n",
       "  & pid & trt & expid\\\\\n",
       "\\hline\n",
       "\t1 & pid1 & 0 & 100001\\\\\n",
       "\t2 & pid12 & 1 & 100012\\\\\n",
       "\t3 & pid15 & 1 & 100015\\\\\n",
       "\t4 & pid16 & 0 & 100016\\\\\n",
       "\t5 & pid17 & 0 & 100017\\\\\n",
       "\t6 & pid18 & 1 & 100018\\\\\n",
       "\t7 & pid20 & 0 & 100020\\\\\n",
       "\t8 & pid6 & 0 & 100006\\\\\n",
       "\t9 & pid7 & 0 & 100007\\\\\n",
       "\t10 & pid8 & 0 & 100008\\\\\n",
       "\\end{tabular}\n"
      ],
      "text/plain": [
       "     pid trt  expid\n",
       "1   pid1   0 100001\n",
       "2  pid12   1 100012\n",
       "3  pid15   1 100015\n",
       "4  pid16   0 100016\n",
       "5  pid17   0 100017\n",
       "6  pid18   1 100018\n",
       "7  pid20   0 100020\n",
       "8   pid6   0 100006\n",
       "9   pid7   0 100007\n",
       "10  pid8   0 100008"
      ]
     },
     "execution_count": 114,
     "metadata": {},
     "output_type": "execute_result"
    }
   ],
   "source": [
    "(df1 <- merge(phenodat, iddat, by=\"pid\", all.x=TRUE))"
   ]
  },
  {
   "cell_type": "markdown",
   "metadata": {},
   "source": [
    "#### Then we merge with gene data"
   ]
  },
  {
   "cell_type": "code",
   "execution_count": 116,
   "metadata": {
    "collapsed": false
   },
   "outputs": [
    {
     "data": {
      "text/html": [
       "<table>\n",
       "<thead><tr><th></th><th scope=col>expid</th><th scope=col>gene1</th><th scope=col>gene2</th><th scope=col>pid</th><th scope=col>trt</th></tr></thead>\n",
       "<tbody>\n",
       "\t<tr><th scope=row>1</th><td>100001</td><td>-0.5996083</td><td>1.689873</td><td>pid1</td><td>0</td></tr>\n",
       "\t<tr><th scope=row>2</th><td>100007</td><td>-0.7717918</td><td>-1.070068</td><td>pid7</td><td>0</td></tr>\n",
       "\t<tr><th scope=row>3</th><td>100008</td><td>0.2865486</td><td>1.685887</td><td>pid8</td><td>0</td></tr>\n",
       "\t<tr><th scope=row>4</th><td>100015</td><td>0.3937087</td><td>1.233976</td><td>pid15</td><td>1</td></tr>\n",
       "\t<tr><th scope=row>5</th><td>100017</td><td>-0.8864367</td><td>0.4120223</td><td>pid17</td><td>0</td></tr>\n",
       "\t<tr><th scope=row>6</th><td>100018</td><td>-1.318938</td><td>0.7935853</td><td>pid18</td><td>1</td></tr>\n",
       "\t<tr><th scope=row>7</th><td>100020</td><td>-0.4321298</td><td>-0.2288958</td><td>pid20</td><td>0</td></tr>\n",
       "</tbody>\n",
       "</table>\n"
      ],
      "text/latex": [
       "\\begin{tabular}{r|lllll}\n",
       "  & expid & gene1 & gene2 & pid & trt\\\\\n",
       "\\hline\n",
       "\t1 & 100001 & -0.5996083 & 1.689873 & pid1 & 0\\\\\n",
       "\t2 & 100007 & -0.7717918 & -1.070068 & pid7 & 0\\\\\n",
       "\t3 & 100008 & 0.2865486 & 1.685887 & pid8 & 0\\\\\n",
       "\t4 & 100015 & 0.3937087 & 1.233976 & pid15 & 1\\\\\n",
       "\t5 & 100017 & -0.8864367 & 0.4120223 & pid17 & 0\\\\\n",
       "\t6 & 100018 & -1.318938 & 0.7935853 & pid18 & 1\\\\\n",
       "\t7 & 100020 & -0.4321298 & -0.2288958 & pid20 & 0\\\\\n",
       "\\end{tabular}\n"
      ],
      "text/plain": [
       "   expid      gene1      gene2   pid trt\n",
       "1 100001 -0.5996083  1.6898725  pid1   0\n",
       "2 100007 -0.7717918 -1.0700682  pid7   0\n",
       "3 100008  0.2865486  1.6858872  pid8   0\n",
       "4 100015  0.3937087  1.2339762 pid15   1\n",
       "5 100017 -0.8864367  0.4120223 pid17   0\n",
       "6 100018 -1.3189376  0.7935853 pid18   1\n",
       "7 100020 -0.4321298 -0.2288958 pid20   0"
      ]
     },
     "execution_count": 116,
     "metadata": {},
     "output_type": "execute_result"
    }
   ],
   "source": [
    "(df2 <- merge(gdat, df1, by=\"expid\"))"
   ]
  },
  {
   "cell_type": "markdown",
   "metadata": {},
   "source": [
    "Note that there are now only 7 rows becasue 3 phenotypes did not have matching gene data."
   ]
  },
  {
   "cell_type": "markdown",
   "metadata": {},
   "source": [
    "### What if we want to show all genes even if there is no matching phenotype data?"
   ]
  },
  {
   "cell_type": "code",
   "execution_count": 117,
   "metadata": {
    "collapsed": false
   },
   "outputs": [
    {
     "data": {
      "text/html": [
       "<table>\n",
       "<thead><tr><th></th><th scope=col>expid</th><th scope=col>gene1</th><th scope=col>gene2</th><th scope=col>pid</th><th scope=col>trt</th></tr></thead>\n",
       "<tbody>\n",
       "\t<tr><th scope=row>1</th><td>100001</td><td>-0.5996083</td><td>1.689873</td><td>pid1</td><td>0</td></tr>\n",
       "\t<tr><th scope=row>2</th><td>100002</td><td>-0.1294107</td><td>1.228393</td><td>NA</td><td>NA</td></tr>\n",
       "\t<tr><th scope=row>3</th><td>100003</td><td>0.8867361</td><td>0.2760235</td><td>NA</td><td>NA</td></tr>\n",
       "\t<tr><th scope=row>4</th><td>100004</td><td>-0.151396</td><td>-1.048976</td><td>NA</td><td>NA</td></tr>\n",
       "\t<tr><th scope=row>5</th><td>100005</td><td>0.3297912</td><td>-0.5208693</td><td>NA</td><td>NA</td></tr>\n",
       "\t<tr><th scope=row>6</th><td>100007</td><td>-0.7717918</td><td>-1.070068</td><td>pid7</td><td>0</td></tr>\n",
       "\t<tr><th scope=row>7</th><td>100008</td><td>0.2865486</td><td>1.685887</td><td>pid8</td><td>0</td></tr>\n",
       "\t<tr><th scope=row>8</th><td>100009</td><td>-1.220512</td><td>-0.2416898</td><td>NA</td><td>NA</td></tr>\n",
       "\t<tr><th scope=row>9</th><td>100011</td><td>0.8001769</td><td>-0.7729782</td><td>NA</td><td>NA</td></tr>\n",
       "\t<tr><th scope=row>10</th><td>100013</td><td>1.242919</td><td>-1.334354</td><td>NA</td><td>NA</td></tr>\n",
       "\t<tr><th scope=row>11</th><td>100014</td><td>-0.9343851</td><td>0.4958705</td><td>NA</td><td>NA</td></tr>\n",
       "\t<tr><th scope=row>12</th><td>100015</td><td>0.3937087</td><td>1.233976</td><td>pid15</td><td>1</td></tr>\n",
       "\t<tr><th scope=row>13</th><td>100017</td><td>-0.8864367</td><td>0.4120223</td><td>pid17</td><td>0</td></tr>\n",
       "\t<tr><th scope=row>14</th><td>100018</td><td>-1.318938</td><td>0.7935853</td><td>pid18</td><td>1</td></tr>\n",
       "\t<tr><th scope=row>15</th><td>100019</td><td>0.02884391</td><td>-0.1524106</td><td>NA</td><td>NA</td></tr>\n",
       "\t<tr><th scope=row>16</th><td>100020</td><td>-0.4321298</td><td>-0.2288958</td><td>pid20</td><td>0</td></tr>\n",
       "</tbody>\n",
       "</table>\n"
      ],
      "text/latex": [
       "\\begin{tabular}{r|lllll}\n",
       "  & expid & gene1 & gene2 & pid & trt\\\\\n",
       "\\hline\n",
       "\t1 & 100001 & -0.5996083 & 1.689873 & pid1 & 0\\\\\n",
       "\t2 & 100002 & -0.1294107 & 1.228393 & NA & NA\\\\\n",
       "\t3 & 100003 & 0.8867361 & 0.2760235 & NA & NA\\\\\n",
       "\t4 & 100004 & -0.151396 & -1.048976 & NA & NA\\\\\n",
       "\t5 & 100005 & 0.3297912 & -0.5208693 & NA & NA\\\\\n",
       "\t6 & 100007 & -0.7717918 & -1.070068 & pid7 & 0\\\\\n",
       "\t7 & 100008 & 0.2865486 & 1.685887 & pid8 & 0\\\\\n",
       "\t8 & 100009 & -1.220512 & -0.2416898 & NA & NA\\\\\n",
       "\t9 & 100011 & 0.8001769 & -0.7729782 & NA & NA\\\\\n",
       "\t10 & 100013 & 1.242919 & -1.334354 & NA & NA\\\\\n",
       "\t11 & 100014 & -0.9343851 & 0.4958705 & NA & NA\\\\\n",
       "\t12 & 100015 & 0.3937087 & 1.233976 & pid15 & 1\\\\\n",
       "\t13 & 100017 & -0.8864367 & 0.4120223 & pid17 & 0\\\\\n",
       "\t14 & 100018 & -1.318938 & 0.7935853 & pid18 & 1\\\\\n",
       "\t15 & 100019 & 0.02884391 & -0.1524106 & NA & NA\\\\\n",
       "\t16 & 100020 & -0.4321298 & -0.2288958 & pid20 & 0\\\\\n",
       "\\end{tabular}\n"
      ],
      "text/plain": [
       "    expid       gene1      gene2   pid trt\n",
       "1  100001 -0.59960833  1.6898725  pid1   0\n",
       "2  100002 -0.12941069  1.2283928  <NA>  NA\n",
       "3  100003  0.88673615  0.2760235  <NA>  NA\n",
       "4  100004 -0.15139596 -1.0489755  <NA>  NA\n",
       "5  100005  0.32979120 -0.5208693  <NA>  NA\n",
       "6  100007 -0.77179177 -1.0700682  pid7   0\n",
       "7  100008  0.28654857  1.6858872  pid8   0\n",
       "8  100009 -1.22051198 -0.2416898  <NA>  NA\n",
       "9  100011  0.80017687 -0.7729782  <NA>  NA\n",
       "10 100013  1.24291877 -1.3343536  <NA>  NA\n",
       "11 100014 -0.93438506  0.4958705  <NA>  NA\n",
       "12 100015  0.39370865  1.2339762 pid15   1\n",
       "13 100017 -0.88643672  0.4120223 pid17   0\n",
       "14 100018 -1.31893760  0.7935853 pid18   1\n",
       "15 100019  0.02884391 -0.1524106  <NA>  NA\n",
       "16 100020 -0.43212979 -0.2288958 pid20   0"
      ]
     },
     "execution_count": 117,
     "metadata": {},
     "output_type": "execute_result"
    }
   ],
   "source": [
    "(df3 <- merge(gdat, df1, by=\"expid\", all.x=TRUE))"
   ]
  },
  {
   "cell_type": "markdown",
   "metadata": {},
   "source": [
    "### What if we want to show all phenotypes even if there is no matching gene data?"
   ]
  },
  {
   "cell_type": "code",
   "execution_count": 118,
   "metadata": {
    "collapsed": false
   },
   "outputs": [
    {
     "data": {
      "text/html": [
       "<table>\n",
       "<thead><tr><th></th><th scope=col>expid</th><th scope=col>gene1</th><th scope=col>gene2</th><th scope=col>pid</th><th scope=col>trt</th></tr></thead>\n",
       "<tbody>\n",
       "\t<tr><th scope=row>1</th><td>100001</td><td>-0.5996083</td><td>1.689873</td><td>pid1</td><td>0</td></tr>\n",
       "\t<tr><th scope=row>2</th><td>100006</td><td>NA</td><td>NA</td><td>pid6</td><td>0</td></tr>\n",
       "\t<tr><th scope=row>3</th><td>100007</td><td>-0.7717918</td><td>-1.070068</td><td>pid7</td><td>0</td></tr>\n",
       "\t<tr><th scope=row>4</th><td>100008</td><td>0.2865486</td><td>1.685887</td><td>pid8</td><td>0</td></tr>\n",
       "\t<tr><th scope=row>5</th><td>100012</td><td>NA</td><td>NA</td><td>pid12</td><td>1</td></tr>\n",
       "\t<tr><th scope=row>6</th><td>100015</td><td>0.3937087</td><td>1.233976</td><td>pid15</td><td>1</td></tr>\n",
       "\t<tr><th scope=row>7</th><td>100016</td><td>NA</td><td>NA</td><td>pid16</td><td>0</td></tr>\n",
       "\t<tr><th scope=row>8</th><td>100017</td><td>-0.8864367</td><td>0.4120223</td><td>pid17</td><td>0</td></tr>\n",
       "\t<tr><th scope=row>9</th><td>100018</td><td>-1.318938</td><td>0.7935853</td><td>pid18</td><td>1</td></tr>\n",
       "\t<tr><th scope=row>10</th><td>100020</td><td>-0.4321298</td><td>-0.2288958</td><td>pid20</td><td>0</td></tr>\n",
       "</tbody>\n",
       "</table>\n"
      ],
      "text/latex": [
       "\\begin{tabular}{r|lllll}\n",
       "  & expid & gene1 & gene2 & pid & trt\\\\\n",
       "\\hline\n",
       "\t1 & 100001 & -0.5996083 & 1.689873 & pid1 & 0\\\\\n",
       "\t2 & 100006 & NA & NA & pid6 & 0\\\\\n",
       "\t3 & 100007 & -0.7717918 & -1.070068 & pid7 & 0\\\\\n",
       "\t4 & 100008 & 0.2865486 & 1.685887 & pid8 & 0\\\\\n",
       "\t5 & 100012 & NA & NA & pid12 & 1\\\\\n",
       "\t6 & 100015 & 0.3937087 & 1.233976 & pid15 & 1\\\\\n",
       "\t7 & 100016 & NA & NA & pid16 & 0\\\\\n",
       "\t8 & 100017 & -0.8864367 & 0.4120223 & pid17 & 0\\\\\n",
       "\t9 & 100018 & -1.318938 & 0.7935853 & pid18 & 1\\\\\n",
       "\t10 & 100020 & -0.4321298 & -0.2288958 & pid20 & 0\\\\\n",
       "\\end{tabular}\n"
      ],
      "text/plain": [
       "    expid      gene1      gene2   pid trt\n",
       "1  100001 -0.5996083  1.6898725  pid1   0\n",
       "2  100006         NA         NA  pid6   0\n",
       "3  100007 -0.7717918 -1.0700682  pid7   0\n",
       "4  100008  0.2865486  1.6858872  pid8   0\n",
       "5  100012         NA         NA pid12   1\n",
       "6  100015  0.3937087  1.2339762 pid15   1\n",
       "7  100016         NA         NA pid16   0\n",
       "8  100017 -0.8864367  0.4120223 pid17   0\n",
       "9  100018 -1.3189376  0.7935853 pid18   1\n",
       "10 100020 -0.4321298 -0.2288958 pid20   0"
      ]
     },
     "execution_count": 118,
     "metadata": {},
     "output_type": "execute_result"
    }
   ],
   "source": [
    "(df4 <- merge(gdat, df1, by=\"expid\", all.y=TRUE))"
   ]
  },
  {
   "cell_type": "markdown",
   "metadata": {},
   "source": [
    "### What if we want to show everything?"
   ]
  },
  {
   "cell_type": "code",
   "execution_count": 119,
   "metadata": {
    "collapsed": false
   },
   "outputs": [
    {
     "data": {
      "text/html": [
       "<table>\n",
       "<thead><tr><th></th><th scope=col>expid</th><th scope=col>gene1</th><th scope=col>gene2</th><th scope=col>pid</th><th scope=col>trt</th></tr></thead>\n",
       "<tbody>\n",
       "\t<tr><th scope=row>1</th><td>100001</td><td>-0.5996083</td><td>1.689873</td><td>pid1</td><td>0</td></tr>\n",
       "\t<tr><th scope=row>2</th><td>100002</td><td>-0.1294107</td><td>1.228393</td><td>NA</td><td>NA</td></tr>\n",
       "\t<tr><th scope=row>3</th><td>100003</td><td>0.8867361</td><td>0.2760235</td><td>NA</td><td>NA</td></tr>\n",
       "\t<tr><th scope=row>4</th><td>100004</td><td>-0.151396</td><td>-1.048976</td><td>NA</td><td>NA</td></tr>\n",
       "\t<tr><th scope=row>5</th><td>100005</td><td>0.3297912</td><td>-0.5208693</td><td>NA</td><td>NA</td></tr>\n",
       "\t<tr><th scope=row>6</th><td>100006</td><td>NA</td><td>NA</td><td>pid6</td><td>0</td></tr>\n",
       "\t<tr><th scope=row>7</th><td>100007</td><td>-0.7717918</td><td>-1.070068</td><td>pid7</td><td>0</td></tr>\n",
       "\t<tr><th scope=row>8</th><td>100008</td><td>0.2865486</td><td>1.685887</td><td>pid8</td><td>0</td></tr>\n",
       "\t<tr><th scope=row>9</th><td>100009</td><td>-1.220512</td><td>-0.2416898</td><td>NA</td><td>NA</td></tr>\n",
       "\t<tr><th scope=row>10</th><td>100011</td><td>0.8001769</td><td>-0.7729782</td><td>NA</td><td>NA</td></tr>\n",
       "\t<tr><th scope=row>11</th><td>100012</td><td>NA</td><td>NA</td><td>pid12</td><td>1</td></tr>\n",
       "\t<tr><th scope=row>12</th><td>100013</td><td>1.242919</td><td>-1.334354</td><td>NA</td><td>NA</td></tr>\n",
       "\t<tr><th scope=row>13</th><td>100014</td><td>-0.9343851</td><td>0.4958705</td><td>NA</td><td>NA</td></tr>\n",
       "\t<tr><th scope=row>14</th><td>100015</td><td>0.3937087</td><td>1.233976</td><td>pid15</td><td>1</td></tr>\n",
       "\t<tr><th scope=row>15</th><td>100016</td><td>NA</td><td>NA</td><td>pid16</td><td>0</td></tr>\n",
       "\t<tr><th scope=row>16</th><td>100017</td><td>-0.8864367</td><td>0.4120223</td><td>pid17</td><td>0</td></tr>\n",
       "\t<tr><th scope=row>17</th><td>100018</td><td>-1.318938</td><td>0.7935853</td><td>pid18</td><td>1</td></tr>\n",
       "\t<tr><th scope=row>18</th><td>100019</td><td>0.02884391</td><td>-0.1524106</td><td>NA</td><td>NA</td></tr>\n",
       "\t<tr><th scope=row>19</th><td>100020</td><td>-0.4321298</td><td>-0.2288958</td><td>pid20</td><td>0</td></tr>\n",
       "</tbody>\n",
       "</table>\n"
      ],
      "text/latex": [
       "\\begin{tabular}{r|lllll}\n",
       "  & expid & gene1 & gene2 & pid & trt\\\\\n",
       "\\hline\n",
       "\t1 & 100001 & -0.5996083 & 1.689873 & pid1 & 0\\\\\n",
       "\t2 & 100002 & -0.1294107 & 1.228393 & NA & NA\\\\\n",
       "\t3 & 100003 & 0.8867361 & 0.2760235 & NA & NA\\\\\n",
       "\t4 & 100004 & -0.151396 & -1.048976 & NA & NA\\\\\n",
       "\t5 & 100005 & 0.3297912 & -0.5208693 & NA & NA\\\\\n",
       "\t6 & 100006 & NA & NA & pid6 & 0\\\\\n",
       "\t7 & 100007 & -0.7717918 & -1.070068 & pid7 & 0\\\\\n",
       "\t8 & 100008 & 0.2865486 & 1.685887 & pid8 & 0\\\\\n",
       "\t9 & 100009 & -1.220512 & -0.2416898 & NA & NA\\\\\n",
       "\t10 & 100011 & 0.8001769 & -0.7729782 & NA & NA\\\\\n",
       "\t11 & 100012 & NA & NA & pid12 & 1\\\\\n",
       "\t12 & 100013 & 1.242919 & -1.334354 & NA & NA\\\\\n",
       "\t13 & 100014 & -0.9343851 & 0.4958705 & NA & NA\\\\\n",
       "\t14 & 100015 & 0.3937087 & 1.233976 & pid15 & 1\\\\\n",
       "\t15 & 100016 & NA & NA & pid16 & 0\\\\\n",
       "\t16 & 100017 & -0.8864367 & 0.4120223 & pid17 & 0\\\\\n",
       "\t17 & 100018 & -1.318938 & 0.7935853 & pid18 & 1\\\\\n",
       "\t18 & 100019 & 0.02884391 & -0.1524106 & NA & NA\\\\\n",
       "\t19 & 100020 & -0.4321298 & -0.2288958 & pid20 & 0\\\\\n",
       "\\end{tabular}\n"
      ],
      "text/plain": [
       "    expid       gene1      gene2   pid trt\n",
       "1  100001 -0.59960833  1.6898725  pid1   0\n",
       "2  100002 -0.12941069  1.2283928  <NA>  NA\n",
       "3  100003  0.88673615  0.2760235  <NA>  NA\n",
       "4  100004 -0.15139596 -1.0489755  <NA>  NA\n",
       "5  100005  0.32979120 -0.5208693  <NA>  NA\n",
       "6  100006          NA         NA  pid6   0\n",
       "7  100007 -0.77179177 -1.0700682  pid7   0\n",
       "8  100008  0.28654857  1.6858872  pid8   0\n",
       "9  100009 -1.22051198 -0.2416898  <NA>  NA\n",
       "10 100011  0.80017687 -0.7729782  <NA>  NA\n",
       "11 100012          NA         NA pid12   1\n",
       "12 100013  1.24291877 -1.3343536  <NA>  NA\n",
       "13 100014 -0.93438506  0.4958705  <NA>  NA\n",
       "14 100015  0.39370865  1.2339762 pid15   1\n",
       "15 100016          NA         NA pid16   0\n",
       "16 100017 -0.88643672  0.4120223 pid17   0\n",
       "17 100018 -1.31893760  0.7935853 pid18   1\n",
       "18 100019  0.02884391 -0.1524106  <NA>  NA\n",
       "19 100020 -0.43212979 -0.2288958 pid20   0"
      ]
     },
     "execution_count": 119,
     "metadata": {},
     "output_type": "execute_result"
    }
   ],
   "source": [
    "(df5 <- merge(gdat, df1, by=\"expid\", all.x=TRUE, all.y=TRUE))"
   ]
  },
  {
   "cell_type": "markdown",
   "metadata": {},
   "source": [
    "Rearrange column order\n",
    "-----"
   ]
  },
  {
   "cell_type": "code",
   "execution_count": 56,
   "metadata": {
    "collapsed": false
   },
   "outputs": [
    {
     "data": {
      "text/html": [
       "<table>\n",
       "<thead><tr><th></th><th scope=col>pid</th><th scope=col>expid</th><th scope=col>gene1</th><th scope=col>gene2</th><th scope=col>trt</th></tr></thead>\n",
       "<tbody>\n",
       "\t<tr><th scope=row>1</th><td>pid1</td><td>100001</td><td>0.6886403</td><td>-0.4028848</td><td>1</td></tr>\n",
       "\t<tr><th scope=row>2</th><td>pid8</td><td>100008</td><td>0.5539177</td><td>-0.4666554</td><td>1</td></tr>\n",
       "\t<tr><th scope=row>3</th><td>pid18</td><td>100018</td><td>0.8951257</td><td>2.168956</td><td>1</td></tr>\n",
       "\t<tr><th scope=row>4</th><td>pid20</td><td>100020</td><td>-0.2950715</td><td>-1.265396</td><td>0</td></tr>\n",
       "</tbody>\n",
       "</table>\n"
      ],
      "text/latex": [
       "\\begin{tabular}{r|lllll}\n",
       "  & pid & expid & gene1 & gene2 & trt\\\\\n",
       "\\hline\n",
       "\t1 & pid1 & 100001 & 0.6886403 & -0.4028848 & 1\\\\\n",
       "\t2 & pid8 & 100008 & 0.5539177 & -0.4666554 & 1\\\\\n",
       "\t3 & pid18 & 100018 & 0.8951257 & 2.168956 & 1\\\\\n",
       "\t4 & pid20 & 100020 & -0.2950715 & -1.265396 & 0\\\\\n",
       "\\end{tabular}\n"
      ],
      "text/plain": [
       "    pid  expid      gene1      gene2 trt\n",
       "1  pid1 100001  0.6886403 -0.4028848   1\n",
       "2  pid8 100008  0.5539177 -0.4666554   1\n",
       "3 pid18 100018  0.8951257  2.1689560   1\n",
       "4 pid20 100020 -0.2950715 -1.2653964   0"
      ]
     },
     "execution_count": 56,
     "metadata": {},
     "output_type": "execute_result"
    }
   ],
   "source": [
    "df2[, c(4,1,2,3,5)]"
   ]
  },
  {
   "cell_type": "markdown",
   "metadata": {},
   "source": [
    "Sorting data\n",
    "---"
   ]
  },
  {
   "cell_type": "code",
   "execution_count": 120,
   "metadata": {
    "collapsed": false
   },
   "outputs": [
    {
     "data": {
      "text/html": [
       "<table>\n",
       "<thead><tr><th></th><th scope=col>expid</th><th scope=col>gene1</th><th scope=col>gene2</th><th scope=col>pid</th><th scope=col>trt</th></tr></thead>\n",
       "<tbody>\n",
       "\t<tr><th scope=row>1</th><td>100001</td><td>-0.5996083</td><td>1.689873</td><td>pid1</td><td>0</td></tr>\n",
       "\t<tr><th scope=row>2</th><td>100007</td><td>-0.7717918</td><td>-1.070068</td><td>pid7</td><td>0</td></tr>\n",
       "\t<tr><th scope=row>3</th><td>100008</td><td>0.2865486</td><td>1.685887</td><td>pid8</td><td>0</td></tr>\n",
       "\t<tr><th scope=row>4</th><td>100015</td><td>0.3937087</td><td>1.233976</td><td>pid15</td><td>1</td></tr>\n",
       "\t<tr><th scope=row>5</th><td>100017</td><td>-0.8864367</td><td>0.4120223</td><td>pid17</td><td>0</td></tr>\n",
       "\t<tr><th scope=row>6</th><td>100018</td><td>-1.318938</td><td>0.7935853</td><td>pid18</td><td>1</td></tr>\n",
       "\t<tr><th scope=row>7</th><td>100020</td><td>-0.4321298</td><td>-0.2288958</td><td>pid20</td><td>0</td></tr>\n",
       "</tbody>\n",
       "</table>\n"
      ],
      "text/latex": [
       "\\begin{tabular}{r|lllll}\n",
       "  & expid & gene1 & gene2 & pid & trt\\\\\n",
       "\\hline\n",
       "\t1 & 100001 & -0.5996083 & 1.689873 & pid1 & 0\\\\\n",
       "\t2 & 100007 & -0.7717918 & -1.070068 & pid7 & 0\\\\\n",
       "\t3 & 100008 & 0.2865486 & 1.685887 & pid8 & 0\\\\\n",
       "\t4 & 100015 & 0.3937087 & 1.233976 & pid15 & 1\\\\\n",
       "\t5 & 100017 & -0.8864367 & 0.4120223 & pid17 & 0\\\\\n",
       "\t6 & 100018 & -1.318938 & 0.7935853 & pid18 & 1\\\\\n",
       "\t7 & 100020 & -0.4321298 & -0.2288958 & pid20 & 0\\\\\n",
       "\\end{tabular}\n"
      ],
      "text/plain": [
       "   expid      gene1      gene2   pid trt\n",
       "1 100001 -0.5996083  1.6898725  pid1   0\n",
       "2 100007 -0.7717918 -1.0700682  pid7   0\n",
       "3 100008  0.2865486  1.6858872  pid8   0\n",
       "4 100015  0.3937087  1.2339762 pid15   1\n",
       "5 100017 -0.8864367  0.4120223 pid17   0\n",
       "6 100018 -1.3189376  0.7935853 pid18   1\n",
       "7 100020 -0.4321298 -0.2288958 pid20   0"
      ]
     },
     "execution_count": 120,
     "metadata": {},
     "output_type": "execute_result"
    }
   ],
   "source": [
    "df2"
   ]
  },
  {
   "cell_type": "markdown",
   "metadata": {},
   "source": [
    "#### Sort by expid"
   ]
  },
  {
   "cell_type": "code",
   "execution_count": 122,
   "metadata": {
    "collapsed": false
   },
   "outputs": [
    {
     "data": {
      "text/html": [
       "<table>\n",
       "<thead><tr><th></th><th scope=col>expid</th><th scope=col>gene1</th><th scope=col>gene2</th><th scope=col>pid</th><th scope=col>trt</th></tr></thead>\n",
       "<tbody>\n",
       "\t<tr><th scope=row>1</th><td>100001</td><td>-0.5996083</td><td>1.689873</td><td>pid1</td><td>0</td></tr>\n",
       "\t<tr><th scope=row>2</th><td>100007</td><td>-0.7717918</td><td>-1.070068</td><td>pid7</td><td>0</td></tr>\n",
       "\t<tr><th scope=row>3</th><td>100008</td><td>0.2865486</td><td>1.685887</td><td>pid8</td><td>0</td></tr>\n",
       "\t<tr><th scope=row>4</th><td>100015</td><td>0.3937087</td><td>1.233976</td><td>pid15</td><td>1</td></tr>\n",
       "\t<tr><th scope=row>5</th><td>100017</td><td>-0.8864367</td><td>0.4120223</td><td>pid17</td><td>0</td></tr>\n",
       "\t<tr><th scope=row>6</th><td>100018</td><td>-1.318938</td><td>0.7935853</td><td>pid18</td><td>1</td></tr>\n",
       "\t<tr><th scope=row>7</th><td>100020</td><td>-0.4321298</td><td>-0.2288958</td><td>pid20</td><td>0</td></tr>\n",
       "</tbody>\n",
       "</table>\n"
      ],
      "text/latex": [
       "\\begin{tabular}{r|lllll}\n",
       "  & expid & gene1 & gene2 & pid & trt\\\\\n",
       "\\hline\n",
       "\t1 & 100001 & -0.5996083 & 1.689873 & pid1 & 0\\\\\n",
       "\t2 & 100007 & -0.7717918 & -1.070068 & pid7 & 0\\\\\n",
       "\t3 & 100008 & 0.2865486 & 1.685887 & pid8 & 0\\\\\n",
       "\t4 & 100015 & 0.3937087 & 1.233976 & pid15 & 1\\\\\n",
       "\t5 & 100017 & -0.8864367 & 0.4120223 & pid17 & 0\\\\\n",
       "\t6 & 100018 & -1.318938 & 0.7935853 & pid18 & 1\\\\\n",
       "\t7 & 100020 & -0.4321298 & -0.2288958 & pid20 & 0\\\\\n",
       "\\end{tabular}\n"
      ],
      "text/plain": [
       "   expid      gene1      gene2   pid trt\n",
       "1 100001 -0.5996083  1.6898725  pid1   0\n",
       "2 100007 -0.7717918 -1.0700682  pid7   0\n",
       "3 100008  0.2865486  1.6858872  pid8   0\n",
       "4 100015  0.3937087  1.2339762 pid15   1\n",
       "5 100017 -0.8864367  0.4120223 pid17   0\n",
       "6 100018 -1.3189376  0.7935853 pid18   1\n",
       "7 100020 -0.4321298 -0.2288958 pid20   0"
      ]
     },
     "execution_count": 122,
     "metadata": {},
     "output_type": "execute_result"
    }
   ],
   "source": [
    "df2[order(df2$expid),]"
   ]
  },
  {
   "cell_type": "markdown",
   "metadata": {},
   "source": [
    "#### Sort by pid"
   ]
  },
  {
   "cell_type": "code",
   "execution_count": 123,
   "metadata": {
    "collapsed": false
   },
   "outputs": [
    {
     "data": {
      "text/html": [
       "<table>\n",
       "<thead><tr><th></th><th scope=col>expid</th><th scope=col>gene1</th><th scope=col>gene2</th><th scope=col>pid</th><th scope=col>trt</th></tr></thead>\n",
       "<tbody>\n",
       "\t<tr><th scope=row>1</th><td>100001</td><td>-0.5996083</td><td>1.689873</td><td>pid1</td><td>0</td></tr>\n",
       "\t<tr><th scope=row>4</th><td>100015</td><td>0.3937087</td><td>1.233976</td><td>pid15</td><td>1</td></tr>\n",
       "\t<tr><th scope=row>5</th><td>100017</td><td>-0.8864367</td><td>0.4120223</td><td>pid17</td><td>0</td></tr>\n",
       "\t<tr><th scope=row>6</th><td>100018</td><td>-1.318938</td><td>0.7935853</td><td>pid18</td><td>1</td></tr>\n",
       "\t<tr><th scope=row>7</th><td>100020</td><td>-0.4321298</td><td>-0.2288958</td><td>pid20</td><td>0</td></tr>\n",
       "\t<tr><th scope=row>2</th><td>100007</td><td>-0.7717918</td><td>-1.070068</td><td>pid7</td><td>0</td></tr>\n",
       "\t<tr><th scope=row>3</th><td>100008</td><td>0.2865486</td><td>1.685887</td><td>pid8</td><td>0</td></tr>\n",
       "</tbody>\n",
       "</table>\n"
      ],
      "text/latex": [
       "\\begin{tabular}{r|lllll}\n",
       "  & expid & gene1 & gene2 & pid & trt\\\\\n",
       "\\hline\n",
       "\t1 & 100001 & -0.5996083 & 1.689873 & pid1 & 0\\\\\n",
       "\t4 & 100015 & 0.3937087 & 1.233976 & pid15 & 1\\\\\n",
       "\t5 & 100017 & -0.8864367 & 0.4120223 & pid17 & 0\\\\\n",
       "\t6 & 100018 & -1.318938 & 0.7935853 & pid18 & 1\\\\\n",
       "\t7 & 100020 & -0.4321298 & -0.2288958 & pid20 & 0\\\\\n",
       "\t2 & 100007 & -0.7717918 & -1.070068 & pid7 & 0\\\\\n",
       "\t3 & 100008 & 0.2865486 & 1.685887 & pid8 & 0\\\\\n",
       "\\end{tabular}\n"
      ],
      "text/plain": [
       "   expid      gene1      gene2   pid trt\n",
       "1 100001 -0.5996083  1.6898725  pid1   0\n",
       "4 100015  0.3937087  1.2339762 pid15   1\n",
       "5 100017 -0.8864367  0.4120223 pid17   0\n",
       "6 100018 -1.3189376  0.7935853 pid18   1\n",
       "7 100020 -0.4321298 -0.2288958 pid20   0\n",
       "2 100007 -0.7717918 -1.0700682  pid7   0\n",
       "3 100008  0.2865486  1.6858872  pid8   0"
      ]
     },
     "execution_count": 123,
     "metadata": {},
     "output_type": "execute_result"
    }
   ],
   "source": [
    "df2[order(df2$pid),]"
   ]
  },
  {
   "cell_type": "markdown",
   "metadata": {},
   "source": [
    "#### Sort by pid, then by expid"
   ]
  },
  {
   "cell_type": "code",
   "execution_count": 125,
   "metadata": {
    "collapsed": false
   },
   "outputs": [
    {
     "data": {
      "text/html": [
       "<table>\n",
       "<thead><tr><th></th><th scope=col>expid</th><th scope=col>gene1</th><th scope=col>gene2</th><th scope=col>pid</th><th scope=col>trt</th></tr></thead>\n",
       "<tbody>\n",
       "\t<tr><th scope=row>1</th><td>100001</td><td>-0.5996083</td><td>1.689873</td><td>pid1</td><td>0</td></tr>\n",
       "\t<tr><th scope=row>4</th><td>100015</td><td>0.3937087</td><td>1.233976</td><td>pid15</td><td>1</td></tr>\n",
       "\t<tr><th scope=row>5</th><td>100017</td><td>-0.8864367</td><td>0.4120223</td><td>pid17</td><td>0</td></tr>\n",
       "\t<tr><th scope=row>6</th><td>100018</td><td>-1.318938</td><td>0.7935853</td><td>pid18</td><td>1</td></tr>\n",
       "\t<tr><th scope=row>7</th><td>100020</td><td>-0.4321298</td><td>-0.2288958</td><td>pid20</td><td>0</td></tr>\n",
       "\t<tr><th scope=row>2</th><td>100007</td><td>-0.7717918</td><td>-1.070068</td><td>pid7</td><td>0</td></tr>\n",
       "\t<tr><th scope=row>3</th><td>100008</td><td>0.2865486</td><td>1.685887</td><td>pid8</td><td>0</td></tr>\n",
       "</tbody>\n",
       "</table>\n"
      ],
      "text/latex": [
       "\\begin{tabular}{r|lllll}\n",
       "  & expid & gene1 & gene2 & pid & trt\\\\\n",
       "\\hline\n",
       "\t1 & 100001 & -0.5996083 & 1.689873 & pid1 & 0\\\\\n",
       "\t4 & 100015 & 0.3937087 & 1.233976 & pid15 & 1\\\\\n",
       "\t5 & 100017 & -0.8864367 & 0.4120223 & pid17 & 0\\\\\n",
       "\t6 & 100018 & -1.318938 & 0.7935853 & pid18 & 1\\\\\n",
       "\t7 & 100020 & -0.4321298 & -0.2288958 & pid20 & 0\\\\\n",
       "\t2 & 100007 & -0.7717918 & -1.070068 & pid7 & 0\\\\\n",
       "\t3 & 100008 & 0.2865486 & 1.685887 & pid8 & 0\\\\\n",
       "\\end{tabular}\n"
      ],
      "text/plain": [
       "   expid      gene1      gene2   pid trt\n",
       "1 100001 -0.5996083  1.6898725  pid1   0\n",
       "4 100015  0.3937087  1.2339762 pid15   1\n",
       "5 100017 -0.8864367  0.4120223 pid17   0\n",
       "6 100018 -1.3189376  0.7935853 pid18   1\n",
       "7 100020 -0.4321298 -0.2288958 pid20   0\n",
       "2 100007 -0.7717918 -1.0700682  pid7   0\n",
       "3 100008  0.2865486  1.6858872  pid8   0"
      ]
     },
     "execution_count": 125,
     "metadata": {},
     "output_type": "execute_result"
    }
   ],
   "source": [
    "df2[order(df2$pid, df2$expid),]"
   ]
  },
  {
   "cell_type": "markdown",
   "metadata": {},
   "source": [
    "#### Sort by gene1 in decreasing order"
   ]
  },
  {
   "cell_type": "code",
   "execution_count": 128,
   "metadata": {
    "collapsed": false
   },
   "outputs": [
    {
     "data": {
      "text/html": [
       "<table>\n",
       "<thead><tr><th></th><th scope=col>expid</th><th scope=col>gene1</th><th scope=col>gene2</th><th scope=col>pid</th><th scope=col>trt</th></tr></thead>\n",
       "<tbody>\n",
       "\t<tr><th scope=row>4</th><td>100015</td><td>0.3937087</td><td>1.233976</td><td>pid15</td><td>1</td></tr>\n",
       "\t<tr><th scope=row>3</th><td>100008</td><td>0.2865486</td><td>1.685887</td><td>pid8</td><td>0</td></tr>\n",
       "\t<tr><th scope=row>7</th><td>100020</td><td>-0.4321298</td><td>-0.2288958</td><td>pid20</td><td>0</td></tr>\n",
       "\t<tr><th scope=row>1</th><td>100001</td><td>-0.5996083</td><td>1.689873</td><td>pid1</td><td>0</td></tr>\n",
       "\t<tr><th scope=row>2</th><td>100007</td><td>-0.7717918</td><td>-1.070068</td><td>pid7</td><td>0</td></tr>\n",
       "\t<tr><th scope=row>5</th><td>100017</td><td>-0.8864367</td><td>0.4120223</td><td>pid17</td><td>0</td></tr>\n",
       "\t<tr><th scope=row>6</th><td>100018</td><td>-1.318938</td><td>0.7935853</td><td>pid18</td><td>1</td></tr>\n",
       "</tbody>\n",
       "</table>\n"
      ],
      "text/latex": [
       "\\begin{tabular}{r|lllll}\n",
       "  & expid & gene1 & gene2 & pid & trt\\\\\n",
       "\\hline\n",
       "\t4 & 100015 & 0.3937087 & 1.233976 & pid15 & 1\\\\\n",
       "\t3 & 100008 & 0.2865486 & 1.685887 & pid8 & 0\\\\\n",
       "\t7 & 100020 & -0.4321298 & -0.2288958 & pid20 & 0\\\\\n",
       "\t1 & 100001 & -0.5996083 & 1.689873 & pid1 & 0\\\\\n",
       "\t2 & 100007 & -0.7717918 & -1.070068 & pid7 & 0\\\\\n",
       "\t5 & 100017 & -0.8864367 & 0.4120223 & pid17 & 0\\\\\n",
       "\t6 & 100018 & -1.318938 & 0.7935853 & pid18 & 1\\\\\n",
       "\\end{tabular}\n"
      ],
      "text/plain": [
       "   expid      gene1      gene2   pid trt\n",
       "4 100015  0.3937087  1.2339762 pid15   1\n",
       "3 100008  0.2865486  1.6858872  pid8   0\n",
       "7 100020 -0.4321298 -0.2288958 pid20   0\n",
       "1 100001 -0.5996083  1.6898725  pid1   0\n",
       "2 100007 -0.7717918 -1.0700682  pid7   0\n",
       "5 100017 -0.8864367  0.4120223 pid17   0\n",
       "6 100018 -1.3189376  0.7935853 pid18   1"
      ]
     },
     "execution_count": 128,
     "metadata": {},
     "output_type": "execute_result"
    }
   ],
   "source": [
    "df2[order(df2$gene1, decreasing = TRUE),]"
   ]
  },
  {
   "cell_type": "code",
   "execution_count": null,
   "metadata": {
    "collapsed": true
   },
   "outputs": [],
   "source": []
  }
 ],
 "metadata": {
  "kernelspec": {
   "display_name": "R",
   "language": "R",
   "name": "ir"
  },
  "language_info": {
   "codemirror_mode": "r",
   "file_extension": ".r",
   "mimetype": "text/x-r-source",
   "name": "R",
   "pygments_lexer": "r",
   "version": "3.2.0"
  }
 },
 "nbformat": 4,
 "nbformat_minor": 0
}
