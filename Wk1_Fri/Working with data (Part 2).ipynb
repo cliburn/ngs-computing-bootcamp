{
 "cells": [
  {
   "cell_type": "markdown",
   "metadata": {},
   "source": [
    "Getting data\n",
    "----\n",
    "\n",
    "In biomedical contexts, data most often comes from external text files such as spreadsheets. Here we will look at how to import such data into R as a data frame. In order to read spreadsheets correctly, you need to be follow some simple rules when cosntrucitng the table:"
   ]
  },
  {
   "cell_type": "markdown",
   "metadata": {},
   "source": [
    "### Do this\n",
    "\n",
    "- A table has column headers and a number of rows and nothing else – it is RECTANGULAR\n",
    "\n",
    "<img src=\"good_spreadsheet.png\" width=\"600\">"
   ]
  },
  {
   "cell_type": "markdown",
   "metadata": {},
   "source": [
    "### Not this\n",
    "\n",
    "- Do not put more than 1 table in a worksheet\n",
    "- Do not use non-rectangular tables\n",
    "\n",
    "<img src=\"bad_spreadsheet.png\" width=\"600\">"
   ]
  },
  {
   "cell_type": "markdown",
   "metadata": {},
   "source": [
    "### Do this\n",
    "\n",
    "- One cell = one value\n",
    "- Easy to filter by tube, sample or subject\n",
    "- Easy to write validation rules or lookup table\n",
    "\n",
    "<img src=\"simple_information.png\" width=\"600\">"
   ]
  },
  {
   "cell_type": "markdown",
   "metadata": {},
   "source": [
    "### Not this\n",
    "\n",
    "- ID column has 3 different values\n",
    "- Need to do text parsing to recover information – very error prone\n",
    "\n",
    "<img src=\"complex_information.png\" width=\"600\">"
   ]
  },
  {
   "cell_type": "markdown",
   "metadata": {},
   "source": [
    "### Round-trip from Excel to CSV and back to Excel\n",
    "\n",
    "#### Before\n",
    "\n",
    "- Inofmration in highlighting\n",
    "- Information in comment notes\n",
    "- Information in font color\n",
    "- Merged cells\n",
    "\n",
    "<img src=\"before.png\" width=\"600\">\n",
    "\n",
    "### After\n",
    "\n",
    "- Comments are lost\n",
    "- Highlighting is lost\n",
    "- Bad cell formatting is lost\n",
    "- Merged cells become missing information\n",
    "\n",
    "<img src=\"after.png\" width=\"600\">\n"
   ]
  },
  {
   "cell_type": "markdown",
   "metadata": {},
   "source": [
    "Other suggestions\n",
    "----\n",
    "\n",
    "- Use a lookup table rather than typing if possible to avoid errors due to typos\n",
    "- Use a special marker to indicate misssing values - do not use 0 or 999 etc\n",
    "- Do not keeep multiple copies of the same spredsheet \n",
    "- If you must keep multiple copies, make sure you version them clearly in the fileanme\n",
    "- Excel is OK if you use almost NONE of its features!"
   ]
  },
  {
   "cell_type": "code",
   "execution_count": 58,
   "metadata": {
    "collapsed": true
   },
   "outputs": [],
   "source": [
    "# Don't show warnign messages to keep interface clean\n",
    "options(warn = -1)"
   ]
  },
  {
   "cell_type": "markdown",
   "metadata": {
    "collapsed": true
   },
   "source": [
    "Reading data from a spreadsheet\n",
    "----"
   ]
  },
  {
   "cell_type": "code",
   "execution_count": 59,
   "metadata": {
    "collapsed": false
   },
   "outputs": [],
   "source": [
    "library(RCurl)\n",
    "library(gdata)"
   ]
  },
  {
   "cell_type": "code",
   "execution_count": 60,
   "metadata": {
    "collapsed": true
   },
   "outputs": [],
   "source": [
    "songs.url <- \"http://www.acclaimedmusic.net/Current/top_6000_songs_140727.xls\""
   ]
  },
  {
   "cell_type": "code",
   "execution_count": 135,
   "metadata": {
    "collapsed": false
   },
   "outputs": [],
   "source": [
    "songs <- read.xls(songs.url, stringsAsFactors=FALSE)"
   ]
  },
  {
   "cell_type": "code",
   "execution_count": 136,
   "metadata": {
    "collapsed": false
   },
   "outputs": [
    {
     "data": {
      "text/html": [
       "<ol class=list-inline>\n",
       "\t<li>7662</li>\n",
       "\t<li>18</li>\n",
       "</ol>\n"
      ],
      "text/latex": [
       "\\begin{enumerate*}\n",
       "\\item 7662\n",
       "\\item 18\n",
       "\\end{enumerate*}\n"
      ],
      "text/markdown": [
       "1. 7662\n",
       "2. 18\n",
       "\n",
       "\n"
      ],
      "text/plain": [
       "[1] 7662   18"
      ]
     },
     "execution_count": 136,
     "metadata": {},
     "output_type": "execute_result"
    }
   ],
   "source": [
    "dim(songs)"
   ]
  },
  {
   "cell_type": "markdown",
   "metadata": {},
   "source": [
    "### Cleaning the song and album dataframes"
   ]
  },
  {
   "cell_type": "code",
   "execution_count": 137,
   "metadata": {
    "collapsed": false
   },
   "outputs": [
    {
     "data": {
      "text/html": [
       "<table>\n",
       "<thead><tr><th></th><th scope=col>ID</th><th scope=col>PLACE.2014.JUL.27</th><th scope=col>Artist</th><th scope=col>Song</th><th scope=col>Year</th><th scope=col>X</th><th scope=col>PLACE.2008.NOV.29</th><th scope=col>PLACE.2011.NOV.10</th><th scope=col>PLACE.2013.JUN.21</th><th scope=col>PLACE.2014.JUL.27.1</th><th scope=col>X.1</th><th scope=col>CHANGE.2008.2011</th><th scope=col>CHANGE.2011.2013</th><th scope=col>CHANGE.2013.2014</th><th scope=col>X.2</th><th scope=col>Trend</th><th scope=col>X.3</th><th scope=col>X.4</th></tr></thead>\n",
       "<tbody>\n",
       "\t<tr><th scope=row>1</th><td>991</td><td>1</td><td>Bob Dylan</td><td>Like a Rolling Stone</td><td>1965</td><td></td><td>1</td><td>1</td><td>1</td><td>1</td><td></td><td>0</td><td>0</td><td>0</td><td></td><td>0</td><td>0</td><td>0</td></tr>\n",
       "\t<tr><th scope=row>2</th><td>182</td><td>2</td><td>Nirvana</td><td>Smells Like Teen Spirit</td><td>1991</td><td></td><td>4</td><td>3</td><td>3</td><td>2</td><td></td><td>1</td><td>0</td><td>1</td><td></td><td>0.25</td><td>0</td><td>0.333333333333333</td></tr>\n",
       "\t<tr><th scope=row>3</th><td>961</td><td>3</td><td>The Beach Boys</td><td>Good Vibrations</td><td>1966</td><td></td><td>3</td><td>4</td><td>4</td><td>3</td><td></td><td>-1</td><td>0</td><td>1</td><td></td><td>-0.25</td><td>0</td><td>0.25</td></tr>\n",
       "</tbody>\n",
       "</table>\n"
      ],
      "text/latex": [
       "\\begin{tabular}{r|llllllllllllllllll}\n",
       "  & ID & PLACE.2014.JUL.27 & Artist & Song & Year & X & PLACE.2008.NOV.29 & PLACE.2011.NOV.10 & PLACE.2013.JUN.21 & PLACE.2014.JUL.27.1 & X.1 & CHANGE.2008.2011 & CHANGE.2011.2013 & CHANGE.2013.2014 & X.2 & Trend & X.3 & X.4\\\\\n",
       "\\hline\n",
       "\t1 & 991 & 1 & Bob Dylan & Like a Rolling Stone & 1965 &  & 1 & 1 & 1 & 1 &  & 0 & 0 & 0 &  & 0 & 0 & 0\\\\\n",
       "\t2 & 182 & 2 & Nirvana & Smells Like Teen Spirit & 1991 &  & 4 & 3 & 3 & 2 &  & 1 & 0 & 1 &  & 0.25 & 0 & 0.333333333333333\\\\\n",
       "\t3 & 961 & 3 & The Beach Boys & Good Vibrations & 1966 &  & 3 & 4 & 4 & 3 &  & -1 & 0 & 1 &  & -0.25 & 0 & 0.25\\\\\n",
       "\\end{tabular}\n"
      ],
      "text/plain": [
       "   ID PLACE.2014.JUL.27         Artist                    Song Year X\n",
       "1 991                 1      Bob Dylan    Like a Rolling Stone 1965  \n",
       "2 182                 2        Nirvana Smells Like Teen Spirit 1991  \n",
       "3 961                 3 The Beach Boys         Good Vibrations 1966  \n",
       "  PLACE.2008.NOV.29 PLACE.2011.NOV.10 PLACE.2013.JUN.21 PLACE.2014.JUL.27.1 X.1\n",
       "1                 1                 1                 1                   1    \n",
       "2                 4                 3                 3                   2    \n",
       "3                 3                 4                 4                   3    \n",
       "  CHANGE.2008.2011 CHANGE.2011.2013 CHANGE.2013.2014 X.2 Trend X.3\n",
       "1                0                0                0         0   0\n",
       "2                1                0                1      0.25   0\n",
       "3               -1                0                1     -0.25   0\n",
       "                X.4\n",
       "1                 0\n",
       "2 0.333333333333333\n",
       "3              0.25"
      ]
     },
     "execution_count": 137,
     "metadata": {},
     "output_type": "execute_result"
    }
   ],
   "source": [
    "head(songs, 3)"
   ]
  },
  {
   "cell_type": "code",
   "execution_count": 138,
   "metadata": {
    "collapsed": false
   },
   "outputs": [
    {
     "data": {
      "text/html": [
       "<ol class=list-inline>\n",
       "\t<li>'ID'</li>\n",
       "\t<li>'PLACE.2014.JUL.27'</li>\n",
       "\t<li>'Artist'</li>\n",
       "\t<li>'Song'</li>\n",
       "\t<li>'Year'</li>\n",
       "\t<li>'X'</li>\n",
       "\t<li>'PLACE.2008.NOV.29'</li>\n",
       "\t<li>'PLACE.2011.NOV.10'</li>\n",
       "\t<li>'PLACE.2013.JUN.21'</li>\n",
       "\t<li>'PLACE.2014.JUL.27.1'</li>\n",
       "\t<li>'X.1'</li>\n",
       "\t<li>'CHANGE.2008.2011'</li>\n",
       "\t<li>'CHANGE.2011.2013'</li>\n",
       "\t<li>'CHANGE.2013.2014'</li>\n",
       "\t<li>'X.2'</li>\n",
       "\t<li>'Trend'</li>\n",
       "\t<li>'X.3'</li>\n",
       "\t<li>'X.4'</li>\n",
       "</ol>\n"
      ],
      "text/latex": [
       "\\begin{enumerate*}\n",
       "\\item 'ID'\n",
       "\\item 'PLACE.2014.JUL.27'\n",
       "\\item 'Artist'\n",
       "\\item 'Song'\n",
       "\\item 'Year'\n",
       "\\item 'X'\n",
       "\\item 'PLACE.2008.NOV.29'\n",
       "\\item 'PLACE.2011.NOV.10'\n",
       "\\item 'PLACE.2013.JUN.21'\n",
       "\\item 'PLACE.2014.JUL.27.1'\n",
       "\\item 'X.1'\n",
       "\\item 'CHANGE.2008.2011'\n",
       "\\item 'CHANGE.2011.2013'\n",
       "\\item 'CHANGE.2013.2014'\n",
       "\\item 'X.2'\n",
       "\\item 'Trend'\n",
       "\\item 'X.3'\n",
       "\\item 'X.4'\n",
       "\\end{enumerate*}\n"
      ],
      "text/markdown": [
       "1. 'ID'\n",
       "2. 'PLACE.2014.JUL.27'\n",
       "3. 'Artist'\n",
       "4. 'Song'\n",
       "5. 'Year'\n",
       "6. 'X'\n",
       "7. 'PLACE.2008.NOV.29'\n",
       "8. 'PLACE.2011.NOV.10'\n",
       "9. 'PLACE.2013.JUN.21'\n",
       "10. 'PLACE.2014.JUL.27.1'\n",
       "11. 'X.1'\n",
       "12. 'CHANGE.2008.2011'\n",
       "13. 'CHANGE.2011.2013'\n",
       "14. 'CHANGE.2013.2014'\n",
       "15. 'X.2'\n",
       "16. 'Trend'\n",
       "17. 'X.3'\n",
       "18. 'X.4'\n",
       "\n",
       "\n"
      ],
      "text/plain": [
       " [1] \"ID\"                  \"PLACE.2014.JUL.27\"   \"Artist\"             \n",
       " [4] \"Song\"                \"Year\"                \"X\"                  \n",
       " [7] \"PLACE.2008.NOV.29\"   \"PLACE.2011.NOV.10\"   \"PLACE.2013.JUN.21\"  \n",
       "[10] \"PLACE.2014.JUL.27.1\" \"X.1\"                 \"CHANGE.2008.2011\"   \n",
       "[13] \"CHANGE.2011.2013\"    \"CHANGE.2013.2014\"    \"X.2\"                \n",
       "[16] \"Trend\"               \"X.3\"                 \"X.4\"                "
      ]
     },
     "execution_count": 138,
     "metadata": {},
     "output_type": "execute_result"
    }
   ],
   "source": [
    "colnames(songs)"
   ]
  },
  {
   "cell_type": "markdown",
   "metadata": {},
   "source": [
    "#### Let's just keep the first 5 columns"
   ]
  },
  {
   "cell_type": "code",
   "execution_count": 139,
   "metadata": {
    "collapsed": false
   },
   "outputs": [],
   "source": [
    "keep <- c('ID', 'PLACE.2014.JUL.27', 'Artist', 'Song', 'Year')\n",
    "songs <- songs[,keep]"
   ]
  },
  {
   "cell_type": "markdown",
   "metadata": {},
   "source": [
    "#### Shorten the 2nd column name to 'Place'"
   ]
  },
  {
   "cell_type": "code",
   "execution_count": 140,
   "metadata": {
    "collapsed": true
   },
   "outputs": [],
   "source": [
    "colnames(songs)[2] <- 'Place'"
   ]
  },
  {
   "cell_type": "code",
   "execution_count": 141,
   "metadata": {
    "collapsed": false
   },
   "outputs": [
    {
     "data": {
      "text/html": [
       "<table>\n",
       "<thead><tr><th></th><th scope=col>ID</th><th scope=col>Place</th><th scope=col>Artist</th><th scope=col>Song</th><th scope=col>Year</th></tr></thead>\n",
       "<tbody>\n",
       "\t<tr><th scope=row>1</th><td>991</td><td>1</td><td>Bob Dylan</td><td>Like a Rolling Stone</td><td>1965</td></tr>\n",
       "\t<tr><th scope=row>2</th><td>182</td><td>2</td><td>Nirvana</td><td>Smells Like Teen Spirit</td><td>1991</td></tr>\n",
       "\t<tr><th scope=row>3</th><td>961</td><td>3</td><td>The Beach Boys</td><td>Good Vibrations</td><td>1966</td></tr>\n",
       "</tbody>\n",
       "</table>\n"
      ],
      "text/latex": [
       "\\begin{tabular}{r|lllll}\n",
       "  & ID & Place & Artist & Song & Year\\\\\n",
       "\\hline\n",
       "\t1 & 991 & 1 & Bob Dylan & Like a Rolling Stone & 1965\\\\\n",
       "\t2 & 182 & 2 & Nirvana & Smells Like Teen Spirit & 1991\\\\\n",
       "\t3 & 961 & 3 & The Beach Boys & Good Vibrations & 1966\\\\\n",
       "\\end{tabular}\n"
      ],
      "text/plain": [
       "   ID Place         Artist                    Song Year\n",
       "1 991     1      Bob Dylan    Like a Rolling Stone 1965\n",
       "2 182     2        Nirvana Smells Like Teen Spirit 1991\n",
       "3 961     3 The Beach Boys         Good Vibrations 1966"
      ]
     },
     "execution_count": 141,
     "metadata": {},
     "output_type": "execute_result"
    }
   ],
   "source": [
    "head(songs, 3)"
   ]
  },
  {
   "cell_type": "markdown",
   "metadata": {},
   "source": [
    "#### There are only 6000 ranked songs - get rid of the rest"
   ]
  },
  {
   "cell_type": "code",
   "execution_count": 142,
   "metadata": {
    "collapsed": false
   },
   "outputs": [
    {
     "data": {
      "text/html": [
       "<table>\n",
       "<thead><tr><th></th><th scope=col>ID</th><th scope=col>Place</th><th scope=col>Artist</th><th scope=col>Song</th><th scope=col>Year</th></tr></thead>\n",
       "<tbody>\n",
       "\t<tr><th scope=row>5998</th><td>6538</td><td>5998</td><td>George Michael</td><td>Too Funky</td><td>1992</td></tr>\n",
       "\t<tr><th scope=row>5999</th><td>6196</td><td>5999</td><td>Eddie Cochran</td><td>Three Steps to Heaven</td><td>1960</td></tr>\n",
       "\t<tr><th scope=row>6000</th><td>6672</td><td>6000</td><td>Daryl Hall & John Oates</td><td>Kiss on My List</td><td>1981</td></tr>\n",
       "\t<tr><th scope=row>6001</th><td>5057</td><td></td><td>!!!</td><td>Hello? Is This Thing On?</td><td>2004</td></tr>\n",
       "\t<tr><th scope=row>6002</th><td>5058</td><td></td><td>!!!</td><td>Pardon My Freedom</td><td>2004</td></tr>\n",
       "\t<tr><th scope=row>6003</th><td>8720</td><td></td><td>\\Tennessee\\ Ernie Ford</td><td>Shot Gun Boogie</td><td>1950</td></tr>\n",
       "</tbody>\n",
       "</table>\n"
      ],
      "text/latex": [
       "\\begin{tabular}{r|lllll}\n",
       "  & ID & Place & Artist & Song & Year\\\\\n",
       "\\hline\n",
       "\t5998 & 6538 & 5998 & George Michael & Too Funky & 1992\\\\\n",
       "\t5999 & 6196 & 5999 & Eddie Cochran & Three Steps to Heaven & 1960\\\\\n",
       "\t6000 & 6672 & 6000 & Daryl Hall & John Oates & Kiss on My List & 1981\\\\\n",
       "\t6001 & 5057 &  & !!! & Hello? Is This Thing On? & 2004\\\\\n",
       "\t6002 & 5058 &  & !!! & Pardon My Freedom & 2004\\\\\n",
       "\t6003 & 8720 &  & \\Tennessee\\ Ernie Ford & Shot Gun Boogie & 1950\\\\\n",
       "\\end{tabular}\n"
      ],
      "text/plain": [
       "       ID Place                   Artist                     Song Year\n",
       "5998 6538  5998           George Michael                Too Funky 1992\n",
       "5999 6196  5999            Eddie Cochran    Three Steps to Heaven 1960\n",
       "6000 6672  6000  Daryl Hall & John Oates          Kiss on My List 1981\n",
       "6001 5057                            !!! Hello? Is This Thing On? 2004\n",
       "6002 5058                            !!!        Pardon My Freedom 2004\n",
       "6003 8720       \\\\Tennessee\\\\ Ernie Ford          Shot Gun Boogie 1950"
      ]
     },
     "execution_count": 142,
     "metadata": {},
     "output_type": "execute_result"
    }
   ],
   "source": [
    "songs[5998:6003,]"
   ]
  },
  {
   "cell_type": "code",
   "execution_count": 143,
   "metadata": {
    "collapsed": false
   },
   "outputs": [],
   "source": [
    "songs <- songs[1:6000,]"
   ]
  },
  {
   "cell_type": "code",
   "execution_count": 144,
   "metadata": {
    "collapsed": false
   },
   "outputs": [
    {
     "data": {
      "text/html": [
       "<table>\n",
       "<thead><tr><th></th><th scope=col>ID</th><th scope=col>Place</th><th scope=col>Artist</th><th scope=col>Song</th><th scope=col>Year</th></tr></thead>\n",
       "<tbody>\n",
       "\t<tr><th scope=row>5998</th><td>6538</td><td>5998</td><td>George Michael</td><td>Too Funky</td><td>1992</td></tr>\n",
       "\t<tr><th scope=row>5999</th><td>6196</td><td>5999</td><td>Eddie Cochran</td><td>Three Steps to Heaven</td><td>1960</td></tr>\n",
       "\t<tr><th scope=row>6000</th><td>6672</td><td>6000</td><td>Daryl Hall & John Oates</td><td>Kiss on My List</td><td>1981</td></tr>\n",
       "</tbody>\n",
       "</table>\n"
      ],
      "text/latex": [
       "\\begin{tabular}{r|lllll}\n",
       "  & ID & Place & Artist & Song & Year\\\\\n",
       "\\hline\n",
       "\t5998 & 6538 & 5998 & George Michael & Too Funky & 1992\\\\\n",
       "\t5999 & 6196 & 5999 & Eddie Cochran & Three Steps to Heaven & 1960\\\\\n",
       "\t6000 & 6672 & 6000 & Daryl Hall & John Oates & Kiss on My List & 1981\\\\\n",
       "\\end{tabular}\n"
      ],
      "text/plain": [
       "       ID Place                  Artist                  Song Year\n",
       "5998 6538  5998          George Michael             Too Funky 1992\n",
       "5999 6196  5999           Eddie Cochran Three Steps to Heaven 1960\n",
       "6000 6672  6000 Daryl Hall & John Oates       Kiss on My List 1981"
      ]
     },
     "execution_count": 144,
     "metadata": {},
     "output_type": "execute_result"
    }
   ],
   "source": [
    "tail(songs, 3)"
   ]
  },
  {
   "cell_type": "markdown",
   "metadata": {},
   "source": [
    "#### Take a closer look at the type of each column"
   ]
  },
  {
   "cell_type": "code",
   "execution_count": 145,
   "metadata": {
    "collapsed": false
   },
   "outputs": [
    {
     "data": {
      "text/html": [
       "<dl class=dl-horizontal>\n",
       "\t<dt>ID</dt>\n",
       "\t\t<dd>'character'</dd>\n",
       "\t<dt>Place</dt>\n",
       "\t\t<dd>'character'</dd>\n",
       "\t<dt>Artist</dt>\n",
       "\t\t<dd>'character'</dd>\n",
       "\t<dt>Song</dt>\n",
       "\t\t<dd>'character'</dd>\n",
       "\t<dt>Year</dt>\n",
       "\t\t<dd>'character'</dd>\n",
       "</dl>\n"
      ],
      "text/latex": [
       "\\begin{description*}\n",
       "\\item[ID] 'character'\n",
       "\\item[Place] 'character'\n",
       "\\item[Artist] 'character'\n",
       "\\item[Song] 'character'\n",
       "\\item[Year] 'character'\n",
       "\\end{description*}\n"
      ],
      "text/markdown": [
       "ID\n",
       ":   'character'Place\n",
       ":   'character'Artist\n",
       ":   'character'Song\n",
       ":   'character'Year\n",
       ":   'character'\n",
       "\n"
      ],
      "text/plain": [
       "         ID       Place      Artist        Song        Year \n",
       "\"character\" \"character\" \"character\" \"character\" \"character\" "
      ]
     },
     "execution_count": 145,
     "metadata": {},
     "output_type": "execute_result"
    }
   ],
   "source": [
    "sapply(songs, class)"
   ]
  },
  {
   "cell_type": "markdown",
   "metadata": {},
   "source": [
    "#### Change types to more appropriate classes so that we can manipulate them"
   ]
  },
  {
   "cell_type": "code",
   "execution_count": 105,
   "metadata": {
    "collapsed": true
   },
   "outputs": [],
   "source": [
    "songs$Place <- as.numeric(songs$Place)"
   ]
  },
  {
   "cell_type": "code",
   "execution_count": 148,
   "metadata": {
    "collapsed": false
   },
   "outputs": [],
   "source": [
    "songs[, c('ID', 'Place', 'Year')] <- sapply(songs[, c('ID', 'Place', 'Year')], as.numeric)"
   ]
  },
  {
   "cell_type": "code",
   "execution_count": 149,
   "metadata": {
    "collapsed": false
   },
   "outputs": [
    {
     "data": {
      "text/html": [
       "<dl class=dl-horizontal>\n",
       "\t<dt>ID</dt>\n",
       "\t\t<dd>'numeric'</dd>\n",
       "\t<dt>Place</dt>\n",
       "\t\t<dd>'numeric'</dd>\n",
       "\t<dt>Artist</dt>\n",
       "\t\t<dd>'character'</dd>\n",
       "\t<dt>Song</dt>\n",
       "\t\t<dd>'character'</dd>\n",
       "\t<dt>Year</dt>\n",
       "\t\t<dd>'numeric'</dd>\n",
       "</dl>\n"
      ],
      "text/latex": [
       "\\begin{description*}\n",
       "\\item[ID] 'numeric'\n",
       "\\item[Place] 'numeric'\n",
       "\\item[Artist] 'character'\n",
       "\\item[Song] 'character'\n",
       "\\item[Year] 'numeric'\n",
       "\\end{description*}\n"
      ],
      "text/markdown": [
       "ID\n",
       ":   'numeric'Place\n",
       ":   'numeric'Artist\n",
       ":   'character'Song\n",
       ":   'character'Year\n",
       ":   'numeric'\n",
       "\n"
      ],
      "text/plain": [
       "         ID       Place      Artist        Song        Year \n",
       "  \"numeric\"   \"numeric\" \"character\" \"character\"   \"numeric\" "
      ]
     },
     "execution_count": 149,
     "metadata": {},
     "output_type": "execute_result"
    }
   ],
   "source": [
    "sapply(songs, class)"
   ]
  },
  {
   "cell_type": "markdown",
   "metadata": {},
   "source": [
    "Work!\n",
    "----"
   ]
  },
  {
   "cell_type": "markdown",
   "metadata": {},
   "source": [
    "There is a spreadsheet of the top 5,000 albums available at http://www.acclaimedmusic.net/Current/top_3000_albums_140727.xls\n",
    "\n",
    "Create a dataframe called albums that holds the contents of this spreadsheet."
   ]
  },
  {
   "cell_type": "code",
   "execution_count": null,
   "metadata": {
    "collapsed": true
   },
   "outputs": [],
   "source": [
    "\n",
    "\n",
    "\n"
   ]
  },
  {
   "cell_type": "markdown",
   "metadata": {},
   "source": [
    "How many rows and columns are there in the datafraem?"
   ]
  },
  {
   "cell_type": "code",
   "execution_count": null,
   "metadata": {
    "collapsed": true
   },
   "outputs": [],
   "source": [
    "\n",
    "\n",
    "\n"
   ]
  },
  {
   "cell_type": "markdown",
   "metadata": {},
   "source": [
    "Trim the albums dataframe so that it only contains the top 5,000 albusm and the first 5 columns."
   ]
  },
  {
   "cell_type": "code",
   "execution_count": null,
   "metadata": {
    "collapsed": true
   },
   "outputs": [],
   "source": [
    "\n",
    "\n",
    "\n"
   ]
  },
  {
   "cell_type": "markdown",
   "metadata": {},
   "source": [
    "Convert the types of each column similar to what was done for the songs dataframe."
   ]
  },
  {
   "cell_type": "markdown",
   "metadata": {},
   "source": [
    "\n",
    "\n",
    "\n"
   ]
  },
  {
   "cell_type": "markdown",
   "metadata": {},
   "source": [
    "Getting information from dataframes\n",
    "----"
   ]
  },
  {
   "cell_type": "markdown",
   "metadata": {},
   "source": [
    "### Indexing"
   ]
  },
  {
   "cell_type": "code",
   "execution_count": 150,
   "metadata": {
    "collapsed": false
   },
   "outputs": [
    {
     "data": {
      "text/html": [
       "<table>\n",
       "<thead><tr><th></th><th scope=col>ID</th><th scope=col>Place</th><th scope=col>Artist</th><th scope=col>Song</th><th scope=col>Year</th></tr></thead>\n",
       "<tbody>\n",
       "\t<tr><th scope=row>100</th><td>1055</td><td>100</td><td>The Beatles</td><td>She Loves You</td><td>1963</td></tr>\n",
       "</tbody>\n",
       "</table>\n"
      ],
      "text/latex": [
       "\\begin{tabular}{r|lllll}\n",
       "  & ID & Place & Artist & Song & Year\\\\\n",
       "\\hline\n",
       "\t100 & 1055 & 100 & The Beatles & She Loves You & 1963\\\\\n",
       "\\end{tabular}\n"
      ],
      "text/plain": [
       "      ID Place      Artist          Song Year\n",
       "100 1055   100 The Beatles She Loves You 1963"
      ]
     },
     "execution_count": 150,
     "metadata": {},
     "output_type": "execute_result"
    }
   ],
   "source": [
    "# Gettting one row\n",
    "songs[100,]"
   ]
  },
  {
   "cell_type": "code",
   "execution_count": 151,
   "metadata": {
    "collapsed": false
   },
   "outputs": [
    {
     "data": {
      "text/html": [
       "<ol class=list-inline>\n",
       "\t<li>'Chuck Berry'</li>\n",
       "\t<li>'Marvin Gaye'</li>\n",
       "\t<li>'Otis Redding'</li>\n",
       "\t<li>'Bruce Springsteen'</li>\n",
       "</ol>\n"
      ],
      "text/latex": [
       "\\begin{enumerate*}\n",
       "\\item 'Chuck Berry'\n",
       "\\item 'Marvin Gaye'\n",
       "\\item 'Otis Redding'\n",
       "\\item 'Bruce Springsteen'\n",
       "\\end{enumerate*}\n"
      ],
      "text/markdown": [
       "1. 'Chuck Berry'\n",
       "2. 'Marvin Gaye'\n",
       "3. 'Otis Redding'\n",
       "4. 'Bruce Springsteen'\n",
       "\n",
       "\n"
      ],
      "text/plain": [
       "[1] \"Chuck Berry\"       \"Marvin Gaye\"       \"Otis Redding\"     \n",
       "[4] \"Bruce Springsteen\""
      ]
     },
     "execution_count": 151,
     "metadata": {},
     "output_type": "execute_result"
    }
   ],
   "source": [
    "# getting rows from one column\n",
    "songs[10:13, 3]"
   ]
  },
  {
   "cell_type": "code",
   "execution_count": 152,
   "metadata": {
    "collapsed": false
   },
   "outputs": [
    {
     "data": {
      "text/html": [
       "<ol class=list-inline>\n",
       "\t<li>'Chuck Berry'</li>\n",
       "\t<li>'Marvin Gaye'</li>\n",
       "\t<li>'Otis Redding'</li>\n",
       "\t<li>'Bruce Springsteen'</li>\n",
       "</ol>\n"
      ],
      "text/latex": [
       "\\begin{enumerate*}\n",
       "\\item 'Chuck Berry'\n",
       "\\item 'Marvin Gaye'\n",
       "\\item 'Otis Redding'\n",
       "\\item 'Bruce Springsteen'\n",
       "\\end{enumerate*}\n"
      ],
      "text/markdown": [
       "1. 'Chuck Berry'\n",
       "2. 'Marvin Gaye'\n",
       "3. 'Otis Redding'\n",
       "4. 'Bruce Springsteen'\n",
       "\n",
       "\n"
      ],
      "text/plain": [
       "[1] \"Chuck Berry\"       \"Marvin Gaye\"       \"Otis Redding\"     \n",
       "[4] \"Bruce Springsteen\""
      ]
     },
     "execution_count": 152,
     "metadata": {},
     "output_type": "execute_result"
    }
   ],
   "source": [
    "# using column names\n",
    "songs[10:13, 'Artist']"
   ]
  },
  {
   "cell_type": "markdown",
   "metadata": {},
   "source": [
    "#### Using conditions to filter rows"
   ]
  },
  {
   "cell_type": "code",
   "execution_count": 153,
   "metadata": {
    "collapsed": false
   },
   "outputs": [
    {
     "data": {
      "text/html": [
       "<table>\n",
       "<thead><tr><th></th><th scope=col>ID</th><th scope=col>Place</th><th scope=col>Artist</th><th scope=col>Song</th><th scope=col>Year</th></tr></thead>\n",
       "<tbody>\n",
       "\t<tr><th scope=row>10</th><td>1201</td><td>10</td><td>Chuck Berry</td><td>Johnny B. Goode</td><td>1958</td></tr>\n",
       "\t<tr><th scope=row>11</th><td>811</td><td>11</td><td>Marvin Gaye</td><td>What's Going On</td><td>1971</td></tr>\n",
       "\t<tr><th scope=row>12</th><td>902</td><td>12</td><td>Otis Redding</td><td>(Sittin' On) The Dock of the Bay</td><td>1968</td></tr>\n",
       "</tbody>\n",
       "</table>\n"
      ],
      "text/latex": [
       "\\begin{tabular}{r|lllll}\n",
       "  & ID & Place & Artist & Song & Year\\\\\n",
       "\\hline\n",
       "\t10 & 1201 & 10 & Chuck Berry & Johnny B. Goode & 1958\\\\\n",
       "\t11 & 811 & 11 & Marvin Gaye & What's Going On & 1971\\\\\n",
       "\t12 & 902 & 12 & Otis Redding & (Sittin' On) The Dock of the Bay & 1968\\\\\n",
       "\\end{tabular}\n"
      ],
      "text/plain": [
       "     ID Place       Artist                             Song Year\n",
       "10 1201    10  Chuck Berry                  Johnny B. Goode 1958\n",
       "11  811    11  Marvin Gaye                  What's Going On 1971\n",
       "12  902    12 Otis Redding (Sittin' On) The Dock of the Bay 1968"
      ]
     },
     "execution_count": 153,
     "metadata": {},
     "output_type": "execute_result"
    }
   ],
   "source": [
    "songs[(songs$Place >= 10) & (songs$Place < 13),]"
   ]
  },
  {
   "cell_type": "code",
   "execution_count": 154,
   "metadata": {
    "collapsed": false
   },
   "outputs": [
    {
     "data": {
      "text/html": [
       "<table>\n",
       "<thead><tr><th></th><th scope=col>ID</th><th scope=col>Place</th><th scope=col>Artist</th><th scope=col>Song</th><th scope=col>Year</th></tr></thead>\n",
       "<tbody>\n",
       "\t<tr><th scope=row>401</th><td>860</td><td>401</td><td>James Taylor</td><td>Fire and Rain</td><td>1970</td></tr>\n",
       "</tbody>\n",
       "</table>\n"
      ],
      "text/latex": [
       "\\begin{tabular}{r|lllll}\n",
       "  & ID & Place & Artist & Song & Year\\\\\n",
       "\\hline\n",
       "\t401 & 860 & 401 & James Taylor & Fire and Rain & 1970\\\\\n",
       "\\end{tabular}\n"
      ],
      "text/plain": [
       "     ID Place       Artist          Song Year\n",
       "401 860   401 James Taylor Fire and Rain 1970"
      ]
     },
     "execution_count": 154,
     "metadata": {},
     "output_type": "execute_result"
    }
   ],
   "source": [
    "# What is James Taylor's highest ranked song?\n",
    "songs[match(\"James Taylor\", songs$Artist),]"
   ]
  },
  {
   "cell_type": "code",
   "execution_count": 155,
   "metadata": {
    "collapsed": false
   },
   "outputs": [
    {
     "data": {
      "text/html": [
       "<table>\n",
       "<thead><tr><th></th><th scope=col>ID</th><th scope=col>Place</th><th scope=col>Artist</th><th scope=col>Song</th><th scope=col>Year</th></tr></thead>\n",
       "<tbody>\n",
       "\t<tr><th scope=row>197</th><td>948</td><td>197</td><td>Pink Floyd</td><td>See Emily Play</td><td>1967</td></tr>\n",
       "\t<tr><th scope=row>319</th><td>4888</td><td>319</td><td>Ariel Pink</td><td>Round and Round</td><td>2010</td></tr>\n",
       "\t<tr><th scope=row>398</th><td>2589</td><td>398</td><td>Pink Floyd</td><td>Wish You Were Here</td><td>1975</td></tr>\n",
       "\t<tr><th scope=row>693</th><td>1839</td><td>693</td><td>Pink Floyd</td><td>Comfortably Numb</td><td>1979</td></tr>\n",
       "\t<tr><th scope=row>712</th><td>586</td><td>712</td><td>Pink Floyd</td><td>Another Brick in the Wall, Part 2</td><td>1979</td></tr>\n",
       "\t<tr><th scope=row>919</th><td>762</td><td>919</td><td>Pink Floyd</td><td>Money</td><td>1973</td></tr>\n",
       "\t<tr><th scope=row>1108</th><td>4825</td><td>1108</td><td>The Big Pink</td><td>Dominos</td><td>2009</td></tr>\n",
       "\t<tr><th scope=row>1311</th><td>1691</td><td>1311</td><td>Pink Floyd</td><td>Arnold Layne</td><td>1967</td></tr>\n",
       "\t<tr><th scope=row>1388</th><td>3702</td><td>1388</td><td>Pink Floyd</td><td>Astronomy Domine</td><td>1967</td></tr>\n",
       "\t<tr><th scope=row>1771</th><td>1771</td><td>1771</td><td>Pink Floyd</td><td>Shine On You Crazy Diamond</td><td>1975</td></tr>\n",
       "\t<tr><th scope=row>2338</th><td>775</td><td>2338</td><td>Pink Floyd</td><td>Us and Them</td><td>1973</td></tr>\n",
       "\t<tr><th scope=row>2409</th><td>2223</td><td>2409</td><td>Pink</td><td>Get the Party Started</td><td>2001</td></tr>\n",
       "\t<tr><th scope=row>2711</th><td>2576</td><td>2711</td><td>Pink Floyd</td><td>Time</td><td>1973</td></tr>\n",
       "\t<tr><th scope=row>3451</th><td>3703</td><td>3451</td><td>Pink Floyd</td><td>Interstellar Overdrive</td><td>1967</td></tr>\n",
       "\t<tr><th scope=row>3485</th><td>4826</td><td>3485</td><td>The Big Pink</td><td>Velvet</td><td>2009</td></tr>\n",
       "\t<tr><th scope=row>3585</th><td>5234</td><td>3585</td><td>Ariel Pink</td><td>Only in My Dreams</td><td>2012</td></tr>\n",
       "\t<tr><th scope=row>4766</th><td>3704</td><td>4766</td><td>Pink Floyd</td><td>Set the Controls for the Heart of the Sun</td><td>1968</td></tr>\n",
       "\t<tr><th scope=row>5189</th><td>7963</td><td>5189</td><td>Pink Floyd</td><td>The Great Gig in the Sky</td><td>1973</td></tr>\n",
       "\t<tr><th scope=row>5205</th><td>4740</td><td>5205</td><td>Pink</td><td>So What</td><td>2008</td></tr>\n",
       "</tbody>\n",
       "</table>\n"
      ],
      "text/latex": [
       "\\begin{tabular}{r|lllll}\n",
       "  & ID & Place & Artist & Song & Year\\\\\n",
       "\\hline\n",
       "\t197 & 948 & 197 & Pink Floyd & See Emily Play & 1967\\\\\n",
       "\t319 & 4888 & 319 & Ariel Pink & Round and Round & 2010\\\\\n",
       "\t398 & 2589 & 398 & Pink Floyd & Wish You Were Here & 1975\\\\\n",
       "\t693 & 1839 & 693 & Pink Floyd & Comfortably Numb & 1979\\\\\n",
       "\t712 & 586 & 712 & Pink Floyd & Another Brick in the Wall, Part 2 & 1979\\\\\n",
       "\t919 & 762 & 919 & Pink Floyd & Money & 1973\\\\\n",
       "\t1108 & 4825 & 1108 & The Big Pink & Dominos & 2009\\\\\n",
       "\t1311 & 1691 & 1311 & Pink Floyd & Arnold Layne & 1967\\\\\n",
       "\t1388 & 3702 & 1388 & Pink Floyd & Astronomy Domine & 1967\\\\\n",
       "\t1771 & 1771 & 1771 & Pink Floyd & Shine On You Crazy Diamond & 1975\\\\\n",
       "\t2338 & 775 & 2338 & Pink Floyd & Us and Them & 1973\\\\\n",
       "\t2409 & 2223 & 2409 & Pink & Get the Party Started & 2001\\\\\n",
       "\t2711 & 2576 & 2711 & Pink Floyd & Time & 1973\\\\\n",
       "\t3451 & 3703 & 3451 & Pink Floyd & Interstellar Overdrive & 1967\\\\\n",
       "\t3485 & 4826 & 3485 & The Big Pink & Velvet & 2009\\\\\n",
       "\t3585 & 5234 & 3585 & Ariel Pink & Only in My Dreams & 2012\\\\\n",
       "\t4766 & 3704 & 4766 & Pink Floyd & Set the Controls for the Heart of the Sun & 1968\\\\\n",
       "\t5189 & 7963 & 5189 & Pink Floyd & The Great Gig in the Sky & 1973\\\\\n",
       "\t5205 & 4740 & 5205 & Pink & So What & 2008\\\\\n",
       "\\end{tabular}\n"
      ],
      "text/plain": [
       "       ID Place       Artist                                      Song Year\n",
       "197   948   197   Pink Floyd                            See Emily Play 1967\n",
       "319  4888   319   Ariel Pink                           Round and Round 2010\n",
       "398  2589   398   Pink Floyd                        Wish You Were Here 1975\n",
       "693  1839   693   Pink Floyd                          Comfortably Numb 1979\n",
       "712   586   712   Pink Floyd         Another Brick in the Wall, Part 2 1979\n",
       "919   762   919   Pink Floyd                                     Money 1973\n",
       "1108 4825  1108 The Big Pink                                   Dominos 2009\n",
       "1311 1691  1311   Pink Floyd                              Arnold Layne 1967\n",
       "1388 3702  1388   Pink Floyd                          Astronomy Domine 1967\n",
       "1771 1771  1771   Pink Floyd                Shine On You Crazy Diamond 1975\n",
       "2338  775  2338   Pink Floyd                               Us and Them 1973\n",
       "2409 2223  2409         Pink                     Get the Party Started 2001\n",
       "2711 2576  2711   Pink Floyd                                      Time 1973\n",
       "3451 3703  3451   Pink Floyd                    Interstellar Overdrive 1967\n",
       "3485 4826  3485 The Big Pink                                    Velvet 2009\n",
       "3585 5234  3585   Ariel Pink                         Only in My Dreams 2012\n",
       "4766 3704  4766   Pink Floyd Set the Controls for the Heart of the Sun 1968\n",
       "5189 7963  5189   Pink Floyd                  The Great Gig in the Sky 1973\n",
       "5205 4740  5205         Pink                                   So What 2008"
      ]
     },
     "execution_count": 155,
     "metadata": {},
     "output_type": "execute_result"
    }
   ],
   "source": [
    "# Find all songs fro groups or artists with pink in their name\n",
    "idx <- grep(\"pink\", songs$Artist, ignore.case=TRUE)\n",
    "songs[idx,]"
   ]
  },
  {
   "cell_type": "code",
   "execution_count": 156,
   "metadata": {
    "collapsed": false
   },
   "outputs": [
    {
     "data": {
      "text/html": [
       "13"
      ],
      "text/latex": [
       "13"
      ],
      "text/markdown": [
       "13"
      ],
      "text/plain": [
       "[1] 13"
      ]
     },
     "execution_count": 156,
     "metadata": {},
     "output_type": "execute_result"
    }
   ],
   "source": [
    "# How many songs does Pink Floyd have in the songs dataframe?\n",
    "sum(songs$Artist == \"Pink Floyd\")"
   ]
  },
  {
   "cell_type": "markdown",
   "metadata": {},
   "source": [
    "Work!\n",
    "----"
   ]
  },
  {
   "cell_type": "markdown",
   "metadata": {},
   "source": [
    "List the songs in positions 1000, 2000, 3000, 4000, 5000 and 6000."
   ]
  },
  {
   "cell_type": "code",
   "execution_count": null,
   "metadata": {
    "collapsed": true
   },
   "outputs": [],
   "source": [
    "\n",
    "\n",
    "\n"
   ]
  },
  {
   "cell_type": "markdown",
   "metadata": {},
   "source": [
    "How mnay songs have \"blue\" in the song title?"
   ]
  },
  {
   "cell_type": "code",
   "execution_count": null,
   "metadata": {
    "collapsed": true
   },
   "outputs": [],
   "source": [
    "\n",
    "\n",
    "\n"
   ]
  },
  {
   "cell_type": "markdown",
   "metadata": {},
   "source": [
    "How many top songs were there in total in the years 2012, 2013 and 2014?"
   ]
  },
  {
   "cell_type": "code",
   "execution_count": null,
   "metadata": {
    "collapsed": true
   },
   "outputs": [],
   "source": [
    "\n",
    "\n",
    "\n"
   ]
  },
  {
   "cell_type": "markdown",
   "metadata": {},
   "source": [
    "Getting summary statistics\n",
    "----"
   ]
  },
  {
   "cell_type": "code",
   "execution_count": 110,
   "metadata": {
    "collapsed": false
   },
   "outputs": [
    {
     "data": {
      "text/plain": [
       "       ID           Place         Artist              Song          \n",
       " Min.   :   4   Min.   :   5   Length:6000        Length:6000       \n",
       " 1st Qu.:1550   1st Qu.:1505   Class :character   Class :character  \n",
       " Median :3242   Median :3004   Mode  :character   Mode  :character  \n",
       " Mean   :3507   Mean   :3004                                        \n",
       " 3rd Qu.:5458   3rd Qu.:4504                                        \n",
       " Max.   :7662   Max.   :6004                                        \n",
       "      Year           \n",
       " Min.   :1897-06-24  \n",
       " 1st Qu.:1969-06-24  \n",
       " Median :1983-06-24  \n",
       " Mean   :1982-11-09  \n",
       " 3rd Qu.:1998-06-24  \n",
       " Max.   :2013-06-24  "
      ]
     },
     "execution_count": 110,
     "metadata": {},
     "output_type": "execute_result"
    }
   ],
   "source": [
    "summary(songs)"
   ]
  },
  {
   "cell_type": "code",
   "execution_count": null,
   "metadata": {
    "collapsed": true
   },
   "outputs": [],
   "source": [
    "byYear <- xtabs(~ Year, songs)"
   ]
  },
  {
   "cell_type": "code",
   "execution_count": 181,
   "metadata": {
    "collapsed": false
   },
   "outputs": [
    {
     "data": {
      "text/html": [
       "<dl class=dl-horizontal>\n",
       "\t<dt>2011</dt>\n",
       "\t\t<dd>102</dd>\n",
       "\t<dt>2012</dt>\n",
       "\t\t<dd>101</dd>\n",
       "\t<dt>2013</dt>\n",
       "\t\t<dd>95</dd>\n",
       "</dl>\n"
      ],
      "text/latex": [
       "\\begin{description*}\n",
       "\\item[2011] 102\n",
       "\\item[2012] 101\n",
       "\\item[2013] 95\n",
       "\\end{description*}\n"
      ],
      "text/markdown": [
       "2011\n",
       ":   1022012\n",
       ":   1012013\n",
       ":   95\n",
       "\n"
      ],
      "text/plain": [
       "Year\n",
       "2011 2012 2013 \n",
       " 102  101   95 "
      ]
     },
     "execution_count": 181,
     "metadata": {},
     "output_type": "execute_result"
    }
   ],
   "source": [
    "tail(byYear, 3)"
   ]
  },
  {
   "cell_type": "code",
   "execution_count": 254,
   "metadata": {
    "collapsed": false
   },
   "outputs": [
    {
     "data": {
      "text/html": [
       "<dl class=dl-horizontal>\n",
       "\t<dt>Zomby</dt>\n",
       "\t\t<dd>1</dd>\n",
       "\t<dt>Zoot Woman</dt>\n",
       "\t\t<dd>2</dd>\n",
       "\t<dt>ZZ Top</dt>\n",
       "\t\t<dd>5</dd>\n",
       "</dl>\n"
      ],
      "text/latex": [
       "\\begin{description*}\n",
       "\\item[Zomby] 1\n",
       "\\item[Zoot Woman] 2\n",
       "\\item[ZZ Top] 5\n",
       "\\end{description*}\n"
      ],
      "text/markdown": [
       "Zomby\n",
       ":   1Zoot Woman\n",
       ":   2ZZ Top\n",
       ":   5\n",
       "\n"
      ],
      "text/plain": [
       "     Zomby Zoot Woman     ZZ Top \n",
       "         1          2          5 "
      ]
     },
     "execution_count": 254,
     "metadata": {},
     "output_type": "execute_result"
    }
   ],
   "source": [
    "tail(rowSums(byArtistYear), 3)"
   ]
  },
  {
   "cell_type": "code",
   "execution_count": 252,
   "metadata": {
    "collapsed": false
   },
   "outputs": [
    {
     "data": {
      "text/html": [
       "<dl class=dl-horizontal>\n",
       "\t<dt>The Beatles</dt>\n",
       "\t\t<dd>78</dd>\n",
       "\t<dt>The Rolling Stones</dt>\n",
       "\t\t<dd>53</dd>\n",
       "\t<dt>Bob Dylan</dt>\n",
       "\t\t<dd>48</dd>\n",
       "\t<dt>David Bowie</dt>\n",
       "\t\t<dd>33</dd>\n",
       "\t<dt>Bruce Springsteen</dt>\n",
       "\t\t<dd>28</dd>\n",
       "\t<dt>Elvis Presley</dt>\n",
       "\t\t<dd>28</dd>\n",
       "\t<dt>U2</dt>\n",
       "\t\t<dd>26</dd>\n",
       "\t<dt>Madonna</dt>\n",
       "\t\t<dd>25</dd>\n",
       "\t<dt>Prince</dt>\n",
       "\t\t<dd>25</dd>\n",
       "\t<dt>R.E.M.</dt>\n",
       "\t\t<dd>24</dd>\n",
       "</dl>\n"
      ],
      "text/latex": [
       "\\begin{description*}\n",
       "\\item[The Beatles] 78\n",
       "\\item[The Rolling Stones] 53\n",
       "\\item[Bob Dylan] 48\n",
       "\\item[David Bowie] 33\n",
       "\\item[Bruce Springsteen] 28\n",
       "\\item[Elvis Presley] 28\n",
       "\\item[U2] 26\n",
       "\\item[Madonna] 25\n",
       "\\item[Prince] 25\n",
       "\\item[R.E.M.] 24\n",
       "\\end{description*}\n"
      ],
      "text/markdown": [
       "The Beatles\n",
       ":   78The Rolling Stones\n",
       ":   53Bob Dylan\n",
       ":   48David Bowie\n",
       ":   33Bruce Springsteen\n",
       ":   28Elvis Presley\n",
       ":   28U2\n",
       ":   26Madonna\n",
       ":   25Prince\n",
       ":   25R.E.M.\n",
       ":   24\n",
       "\n"
      ],
      "text/plain": [
       "Artist\n",
       "       The Beatles The Rolling Stones          Bob Dylan        David Bowie \n",
       "                78                 53                 48                 33 \n",
       " Bruce Springsteen      Elvis Presley                 U2            Madonna \n",
       "                28                 28                 26                 25 \n",
       "            Prince             R.E.M. \n",
       "                25                 24 "
      ]
     },
     "execution_count": 252,
     "metadata": {},
     "output_type": "execute_result"
    }
   ],
   "source": [
    "byArtist <- xtabs(~ Artist, songs)\n",
    "popular.artist <- byArtist[order(-byArtist)]\n",
    "popular.artist[1:10]"
   ]
  },
  {
   "cell_type": "code",
   "execution_count": 246,
   "metadata": {
    "collapsed": false
   },
   "outputs": [
    {
     "data": {
      "text/html": [
       "<table>\n",
       "<thead><tr><th></th><th scope=col>ID</th><th scope=col>Place</th><th scope=col>Artist</th><th scope=col>Song</th><th scope=col>Year</th></tr></thead>\n",
       "<tbody>\n",
       "\t<tr><th scope=row>1</th><td>991</td><td>1</td><td>Bob Dylan</td><td>Like a Rolling Stone</td><td>1965</td></tr>\n",
       "\t<tr><th scope=row>2</th><td>182</td><td>2</td><td>Nirvana</td><td>Smells Like Teen Spirit</td><td>1991</td></tr>\n",
       "\t<tr><th scope=row>3</th><td>961</td><td>3</td><td>The Beach Boys</td><td>Good Vibrations</td><td>1966</td></tr>\n",
       "\t<tr><th scope=row>4</th><td>992</td><td>4</td><td>The Rolling Stones</td><td>(I Can't Get No) Satisfaction</td><td>1965</td></tr>\n",
       "\t<tr><th scope=row>5</th><td>2517</td><td>5</td><td>The Beatles</td><td>A Day in the Life</td><td>1967</td></tr>\n",
       "\t<tr><th scope=row>6</th><td>901</td><td>6</td><td>Marvin Gaye</td><td>I Heard It Through the Grapevine</td><td>1968</td></tr>\n",
       "</tbody>\n",
       "</table>\n"
      ],
      "text/latex": [
       "\\begin{tabular}{r|lllll}\n",
       "  & ID & Place & Artist & Song & Year\\\\\n",
       "\\hline\n",
       "\t1 & 991 & 1 & Bob Dylan & Like a Rolling Stone & 1965\\\\\n",
       "\t2 & 182 & 2 & Nirvana & Smells Like Teen Spirit & 1991\\\\\n",
       "\t3 & 961 & 3 & The Beach Boys & Good Vibrations & 1966\\\\\n",
       "\t4 & 992 & 4 & The Rolling Stones & (I Can't Get No) Satisfaction & 1965\\\\\n",
       "\t5 & 2517 & 5 & The Beatles & A Day in the Life & 1967\\\\\n",
       "\t6 & 901 & 6 & Marvin Gaye & I Heard It Through the Grapevine & 1968\\\\\n",
       "\\end{tabular}\n"
      ],
      "text/plain": [
       "    ID Place             Artist                             Song Year\n",
       "1  991     1          Bob Dylan             Like a Rolling Stone 1965\n",
       "2  182     2            Nirvana          Smells Like Teen Spirit 1991\n",
       "3  961     3     The Beach Boys                  Good Vibrations 1966\n",
       "4  992     4 The Rolling Stones    (I Can't Get No) Satisfaction 1965\n",
       "5 2517     5        The Beatles                A Day in the Life 1967\n",
       "6  901     6        Marvin Gaye I Heard It Through the Grapevine 1968"
      ]
     },
     "execution_count": 246,
     "metadata": {},
     "output_type": "execute_result"
    }
   ],
   "source": [
    "head(songs)"
   ]
  },
  {
   "cell_type": "code",
   "execution_count": 183,
   "metadata": {
    "collapsed": false
   },
   "outputs": [],
   "source": [
    "byArtistYear <- xtabs(~ Artist + Year, songs)"
   ]
  },
  {
   "cell_type": "code",
   "execution_count": 259,
   "metadata": {
    "collapsed": false
   },
   "outputs": [
    {
     "data": {
      "text/html": [
       "<table>\n",
       "<thead><tr><th></th><th scope=col>2003</th><th scope=col>2004</th><th scope=col>2005</th><th scope=col>2006</th><th scope=col>2007</th><th scope=col>2008</th><th scope=col>2009</th><th scope=col>2010</th><th scope=col>2011</th><th scope=col>2012</th><th scope=col>2013</th></tr></thead>\n",
       "<tbody>\n",
       "\t<tr><th scope=row>Zomby</th><td>0</td><td>0</td><td>0</td><td>0</td><td>0</td><td>0</td><td>0</td><td>0</td><td>1</td><td>0</td><td>0</td></tr>\n",
       "\t<tr><th scope=row>Zoot Woman</th><td>1</td><td>0</td><td>0</td><td>0</td><td>0</td><td>0</td><td>0</td><td>0</td><td>0</td><td>0</td><td>0</td></tr>\n",
       "\t<tr><th scope=row>ZZ Top</th><td>0</td><td>0</td><td>0</td><td>0</td><td>0</td><td>0</td><td>0</td><td>0</td><td>0</td><td>0</td><td>0</td></tr>\n",
       "</tbody>\n",
       "</table>\n"
      ],
      "text/latex": [
       "\\begin{tabular}{r|lllllllllll}\n",
       "  & 2003 & 2004 & 2005 & 2006 & 2007 & 2008 & 2009 & 2010 & 2011 & 2012 & 2013\\\\\n",
       "\\hline\n",
       "\tZomby & 0 & 0 & 0 & 0 & 0 & 0 & 0 & 0 & 1 & 0 & 0\\\\\n",
       "\tZoot Woman & 1 & 0 & 0 & 0 & 0 & 0 & 0 & 0 & 0 & 0 & 0\\\\\n",
       "\tZZ Top & 0 & 0 & 0 & 0 & 0 & 0 & 0 & 0 & 0 & 0 & 0\\\\\n",
       "\\end{tabular}\n"
      ],
      "text/markdown": [
       "1. 0\n",
       "2. 1\n",
       "3. 0\n",
       "4. 0\n",
       "5. 0\n",
       "6. 0\n",
       "7. 0\n",
       "8. 0\n",
       "9. 0\n",
       "10. 0\n",
       "11. 0\n",
       "12. 0\n",
       "13. 0\n",
       "14. 0\n",
       "15. 0\n",
       "16. 0\n",
       "17. 0\n",
       "18. 0\n",
       "19. 0\n",
       "20. 0\n",
       "21. 0\n",
       "22. 0\n",
       "23. 0\n",
       "24. 0\n",
       "25. 1\n",
       "26. 0\n",
       "27. 0\n",
       "28. 0\n",
       "29. 0\n",
       "30. 0\n",
       "31. 0\n",
       "32. 0\n",
       "33. 0\n",
       "\n",
       "\n"
      ],
      "text/plain": [
       "            Year\n",
       "Artist       2003 2004 2005 2006 2007 2008 2009 2010 2011 2012 2013\n",
       "  Zomby         0    0    0    0    0    0    0    0    1    0    0\n",
       "  Zoot Woman    1    0    0    0    0    0    0    0    0    0    0\n",
       "  ZZ Top        0    0    0    0    0    0    0    0    0    0    0"
      ]
     },
     "execution_count": 259,
     "metadata": {},
     "output_type": "execute_result"
    }
   ],
   "source": [
    "ncols <- ncol(byArtistYear)\n",
    "tail(byArtistYear[, (ncols-10):ncols], 3)"
   ]
  },
  {
   "cell_type": "code",
   "execution_count": 260,
   "metadata": {
    "collapsed": false
   },
   "outputs": [
    {
     "data": {
      "text/html": [
       "<dl class=dl-horizontal>\n",
       "\t<dt>2011</dt>\n",
       "\t\t<dd>102</dd>\n",
       "\t<dt>2012</dt>\n",
       "\t\t<dd>101</dd>\n",
       "\t<dt>2013</dt>\n",
       "\t\t<dd>95</dd>\n",
       "</dl>\n"
      ],
      "text/latex": [
       "\\begin{description*}\n",
       "\\item[2011] 102\n",
       "\\item[2012] 101\n",
       "\\item[2013] 95\n",
       "\\end{description*}\n"
      ],
      "text/markdown": [
       "2011\n",
       ":   1022012\n",
       ":   1012013\n",
       ":   95\n",
       "\n"
      ],
      "text/plain": [
       "2011 2012 2013 \n",
       " 102  101   95 "
      ]
     },
     "execution_count": 260,
     "metadata": {},
     "output_type": "execute_result"
    }
   ],
   "source": [
    "tail(colSums(byArtistYear), 3)"
   ]
  },
  {
   "cell_type": "code",
   "execution_count": 261,
   "metadata": {
    "collapsed": false
   },
   "outputs": [
    {
     "data": {
      "text/html": [
       "<dl class=dl-horizontal>\n",
       "\t<dt>2011</dt>\n",
       "\t\t<dd>102</dd>\n",
       "\t<dt>2012</dt>\n",
       "\t\t<dd>101</dd>\n",
       "\t<dt>2013</dt>\n",
       "\t\t<dd>95</dd>\n",
       "</dl>\n"
      ],
      "text/latex": [
       "\\begin{description*}\n",
       "\\item[2011] 102\n",
       "\\item[2012] 101\n",
       "\\item[2013] 95\n",
       "\\end{description*}\n"
      ],
      "text/markdown": [
       "2011\n",
       ":   1022012\n",
       ":   1012013\n",
       ":   95\n",
       "\n"
      ],
      "text/plain": [
       "2011 2012 2013 \n",
       " 102  101   95 "
      ]
     },
     "execution_count": 261,
     "metadata": {},
     "output_type": "execute_result"
    }
   ],
   "source": [
    "tail(apply(byArtistYear, 2, sum), 3)"
   ]
  },
  {
   "cell_type": "markdown",
   "metadata": {},
   "source": [
    "Work!\n",
    "----"
   ]
  },
  {
   "cell_type": "code",
   "execution_count": null,
   "metadata": {
    "collapsed": true
   },
   "outputs": [],
   "source": []
  },
  {
   "cell_type": "code",
   "execution_count": null,
   "metadata": {
    "collapsed": true
   },
   "outputs": [],
   "source": []
  },
  {
   "cell_type": "code",
   "execution_count": null,
   "metadata": {
    "collapsed": true
   },
   "outputs": [],
   "source": []
  },
  {
   "cell_type": "code",
   "execution_count": null,
   "metadata": {
    "collapsed": true
   },
   "outputs": [],
   "source": []
  },
  {
   "cell_type": "markdown",
   "metadata": {},
   "source": [
    "Combining dataframes\n",
    "----"
   ]
  },
  {
   "cell_type": "code",
   "execution_count": 262,
   "metadata": {
    "collapsed": true
   },
   "outputs": [],
   "source": [
    "albums.url <- \"http://www.acclaimedmusic.net/Current/top_3000_albums_140727.xls\"\n",
    "albums <- read.xls(albums.url, , stringsAsFactors=FALSE)"
   ]
  },
  {
   "cell_type": "code",
   "execution_count": 263,
   "metadata": {
    "collapsed": false
   },
   "outputs": [
    {
     "data": {
      "text/html": [
       "<table>\n",
       "<thead><tr><th></th><th scope=col>i</th><th scope=col>PLACE.2014.JUL.27</th><th scope=col>Artist</th><th scope=col>Album</th><th scope=col>Year</th><th scope=col>X</th><th scope=col>PLACE.2008.NOV.30</th><th scope=col>PLACE.2009.NOV.08</th><th scope=col>PLACE.2010.NOV.28</th><th scope=col>PLACE.2013.JUN.21</th><th scope=col>PLACE.2014.JUL.27.1</th><th scope=col>X.1</th><th scope=col>CHANGE.2008.2009</th><th scope=col>CHANGE.2009.2010</th><th scope=col>CHANGE.2010.2013</th><th scope=col>CHANGE.2013.2014</th><th scope=col>X.2</th><th scope=col>Trend</th><th scope=col>X.3</th><th scope=col>X.4</th><th scope=col>X.5</th></tr></thead>\n",
       "<tbody>\n",
       "\t<tr><th scope=row>1</th><td>63</td><td>1</td><td>The Beatles</td><td>Revolver</td><td>1966</td><td>NA</td><td>2</td><td>2</td><td>2</td><td>1</td><td>1</td><td>NA</td><td>0</td><td>0</td><td>1</td><td>0</td><td>NA</td><td>0</td><td>0</td><td>0.5</td><td>0</td></tr>\n",
       "\t<tr><th scope=row>2</th><td>62</td><td>2</td><td>The Beach Boys</td><td>Pet Sounds</td><td>1966</td><td>NA</td><td>1</td><td>1</td><td>1</td><td>2</td><td>2</td><td>NA</td><td>0</td><td>0</td><td>-1</td><td>0</td><td>NA</td><td>0</td><td>0</td><td>-0.5</td><td>0</td></tr>\n",
       "\t<tr><th scope=row>3</th><td>811</td><td>3</td><td>Nirvana</td><td>Nevermind</td><td>1991</td><td>NA</td><td>3</td><td>3</td><td>3</td><td>3</td><td>3</td><td>NA</td><td>0</td><td>0</td><td>0</td><td>0</td><td>NA</td><td>0</td><td>0</td><td>0</td><td>0</td></tr>\n",
       "</tbody>\n",
       "</table>\n"
      ],
      "text/latex": [
       "\\begin{tabular}{r|lllllllllllllllllllll}\n",
       "  & i & PLACE.2014.JUL.27 & Artist & Album & Year & X & PLACE.2008.NOV.30 & PLACE.2009.NOV.08 & PLACE.2010.NOV.28 & PLACE.2013.JUN.21 & PLACE.2014.JUL.27.1 & X.1 & CHANGE.2008.2009 & CHANGE.2009.2010 & CHANGE.2010.2013 & CHANGE.2013.2014 & X.2 & Trend & X.3 & X.4 & X.5\\\\\n",
       "\\hline\n",
       "\t1 & 63 & 1 & The Beatles & Revolver & 1966 & NA & 2 & 2 & 2 & 1 & 1 & NA & 0 & 0 & 1 & 0 & NA & 0 & 0 & 0.5 & 0\\\\\n",
       "\t2 & 62 & 2 & The Beach Boys & Pet Sounds & 1966 & NA & 1 & 1 & 1 & 2 & 2 & NA & 0 & 0 & -1 & 0 & NA & 0 & 0 & -0.5 & 0\\\\\n",
       "\t3 & 811 & 3 & Nirvana & Nevermind & 1991 & NA & 3 & 3 & 3 & 3 & 3 & NA & 0 & 0 & 0 & 0 & NA & 0 & 0 & 0 & 0\\\\\n",
       "\\end{tabular}\n"
      ],
      "text/plain": [
       "    i PLACE.2014.JUL.27         Artist      Album Year  X PLACE.2008.NOV.30\n",
       "1  63                 1    The Beatles   Revolver 1966 NA                 2\n",
       "2  62                 2 The Beach Boys Pet Sounds 1966 NA                 1\n",
       "3 811                 3        Nirvana  Nevermind 1991 NA                 3\n",
       "  PLACE.2009.NOV.08 PLACE.2010.NOV.28 PLACE.2013.JUN.21 PLACE.2014.JUL.27.1 X.1\n",
       "1                 2                 2                 1                   1  NA\n",
       "2                 1                 1                 2                   2  NA\n",
       "3                 3                 3                 3                   3  NA\n",
       "  CHANGE.2008.2009 CHANGE.2009.2010 CHANGE.2010.2013 CHANGE.2013.2014 X.2 Trend\n",
       "1                0                0                1                0  NA     0\n",
       "2                0                0               -1                0  NA     0\n",
       "3                0                0                0                0  NA     0\n",
       "  X.3  X.4 X.5\n",
       "1   0  0.5   0\n",
       "2   0 -0.5   0\n",
       "3   0  0.0   0"
      ]
     },
     "execution_count": 263,
     "metadata": {},
     "output_type": "execute_result"
    }
   ],
   "source": [
    "head(albums, 3)"
   ]
  },
  {
   "cell_type": "code",
   "execution_count": 264,
   "metadata": {
    "collapsed": true
   },
   "outputs": [],
   "source": [
    "albums <- albums[1:5000, 1:5]"
   ]
  },
  {
   "cell_type": "code",
   "execution_count": 272,
   "metadata": {
    "collapsed": false
   },
   "outputs": [
    {
     "data": {
      "text/html": [
       "<ol class=list-inline>\n",
       "\t<li>'ID'</li>\n",
       "\t<li>'Place'</li>\n",
       "\t<li>'Artist'</li>\n",
       "\t<li>'Song'</li>\n",
       "\t<li>'Year'</li>\n",
       "</ol>\n"
      ],
      "text/latex": [
       "\\begin{enumerate*}\n",
       "\\item 'ID'\n",
       "\\item 'Place'\n",
       "\\item 'Artist'\n",
       "\\item 'Song'\n",
       "\\item 'Year'\n",
       "\\end{enumerate*}\n"
      ],
      "text/markdown": [
       "1. 'ID'\n",
       "2. 'Place'\n",
       "3. 'Artist'\n",
       "4. 'Song'\n",
       "5. 'Year'\n",
       "\n",
       "\n"
      ],
      "text/plain": [
       "[1] \"ID\"     \"Place\"  \"Artist\" \"Song\"   \"Year\"  "
      ]
     },
     "execution_count": 272,
     "metadata": {},
     "output_type": "execute_result"
    },
    {
     "data": {
      "text/html": [
       "<ol class=list-inline>\n",
       "\t<li>'ID'</li>\n",
       "\t<li>'Place'</li>\n",
       "\t<li>'Artist'</li>\n",
       "\t<li>'Album'</li>\n",
       "\t<li>'Year'</li>\n",
       "</ol>\n"
      ],
      "text/latex": [
       "\\begin{enumerate*}\n",
       "\\item 'ID'\n",
       "\\item 'Place'\n",
       "\\item 'Artist'\n",
       "\\item 'Album'\n",
       "\\item 'Year'\n",
       "\\end{enumerate*}\n"
      ],
      "text/markdown": [
       "1. 'ID'\n",
       "2. 'Place'\n",
       "3. 'Artist'\n",
       "4. 'Album'\n",
       "5. 'Year'\n",
       "\n",
       "\n"
      ],
      "text/plain": [
       "[1] \"ID\"     \"Place\"  \"Artist\" \"Album\"  \"Year\"  "
      ]
     },
     "execution_count": 272,
     "metadata": {},
     "output_type": "execute_result"
    }
   ],
   "source": [
    "(col.names <- colnames(songs))\n",
    "col.names[4] <- 'Album'\n",
    "(colnames(albums) <- col.names)"
   ]
  },
  {
   "cell_type": "code",
   "execution_count": 273,
   "metadata": {
    "collapsed": false
   },
   "outputs": [
    {
     "data": {
      "text/html": [
       "<table>\n",
       "<thead><tr><th></th><th scope=col>ID</th><th scope=col>Place</th><th scope=col>Artist</th><th scope=col>Album</th><th scope=col>Year</th></tr></thead>\n",
       "<tbody>\n",
       "\t<tr><th scope=row>1</th><td>63</td><td>1</td><td>The Beatles</td><td>Revolver</td><td>1966</td></tr>\n",
       "\t<tr><th scope=row>2</th><td>62</td><td>2</td><td>The Beach Boys</td><td>Pet Sounds</td><td>1966</td></tr>\n",
       "\t<tr><th scope=row>3</th><td>811</td><td>3</td><td>Nirvana</td><td>Nevermind</td><td>1991</td></tr>\n",
       "</tbody>\n",
       "</table>\n"
      ],
      "text/latex": [
       "\\begin{tabular}{r|lllll}\n",
       "  & ID & Place & Artist & Album & Year\\\\\n",
       "\\hline\n",
       "\t1 & 63 & 1 & The Beatles & Revolver & 1966\\\\\n",
       "\t2 & 62 & 2 & The Beach Boys & Pet Sounds & 1966\\\\\n",
       "\t3 & 811 & 3 & Nirvana & Nevermind & 1991\\\\\n",
       "\\end{tabular}\n"
      ],
      "text/plain": [
       "   ID Place         Artist      Album Year\n",
       "1  63     1    The Beatles   Revolver 1966\n",
       "2  62     2 The Beach Boys Pet Sounds 1966\n",
       "3 811     3        Nirvana  Nevermind 1991"
      ]
     },
     "execution_count": 273,
     "metadata": {},
     "output_type": "execute_result"
    }
   ],
   "source": [
    "head(albums, 3)"
   ]
  },
  {
   "cell_type": "code",
   "execution_count": 276,
   "metadata": {
    "collapsed": false
   },
   "outputs": [
    {
     "data": {
      "text/html": [
       "<table>\n",
       "<thead><tr><th></th><th scope=col>Artist</th><th scope=col>Year</th><th scope=col>ID.x</th><th scope=col>Place.x</th><th scope=col>Song</th><th scope=col>ID.y</th><th scope=col>Place.y</th><th scope=col>Album</th></tr></thead>\n",
       "<tbody>\n",
       "\t<tr><th scope=row>1</th><td>Nirvana</td><td>1991</td><td>182</td><td>2</td><td>Smells Like Teen Spirit</td><td>811</td><td>3</td><td>Nevermind</td></tr>\n",
       "\t<tr><th scope=row>2</th><td>The Beach Boys</td><td>1966</td><td>961</td><td>3</td><td>Good Vibrations</td><td>62</td><td>2</td><td>Pet Sounds</td></tr>\n",
       "\t<tr><th scope=row>3</th><td>The Beatles</td><td>1967</td><td>931</td><td>8</td><td>Strawberry Fields Forever</td><td>92</td><td>5</td><td>Sgt. Pepper's Lonely Hearts Club Band</td></tr>\n",
       "\t<tr><th scope=row>4</th><td>The Beatles</td><td>1967</td><td>2517</td><td>5</td><td>A Day in the Life</td><td>92</td><td>5</td><td>Sgt. Pepper's Lonely Hearts Club Band</td></tr>\n",
       "</tbody>\n",
       "</table>\n"
      ],
      "text/latex": [
       "\\begin{tabular}{r|llllllll}\n",
       "  & Artist & Year & ID.x & Place.x & Song & ID.y & Place.y & Album\\\\\n",
       "\\hline\n",
       "\t1 & Nirvana & 1991 & 182 & 2 & Smells Like Teen Spirit & 811 & 3 & Nevermind\\\\\n",
       "\t2 & The Beach Boys & 1966 & 961 & 3 & Good Vibrations & 62 & 2 & Pet Sounds\\\\\n",
       "\t3 & The Beatles & 1967 & 931 & 8 & Strawberry Fields Forever & 92 & 5 & Sgt. Pepper's Lonely Hearts Club Band\\\\\n",
       "\t4 & The Beatles & 1967 & 2517 & 5 & A Day in the Life & 92 & 5 & Sgt. Pepper's Lonely Hearts Club Band\\\\\n",
       "\\end{tabular}\n"
      ],
      "text/plain": [
       "          Artist Year ID.x Place.x                      Song ID.y Place.y\n",
       "1        Nirvana 1991  182       2   Smells Like Teen Spirit  811       3\n",
       "2 The Beach Boys 1966  961       3           Good Vibrations   62       2\n",
       "3    The Beatles 1967  931       8 Strawberry Fields Forever   92       5\n",
       "4    The Beatles 1967 2517       5         A Day in the Life   92       5\n",
       "                                  Album\n",
       "1                             Nevermind\n",
       "2                            Pet Sounds\n",
       "3 Sgt. Pepper's Lonely Hearts Club Band\n",
       "4 Sgt. Pepper's Lonely Hearts Club Band"
      ]
     },
     "execution_count": 276,
     "metadata": {},
     "output_type": "execute_result"
    }
   ],
   "source": [
    "merge(x=songs[1:10,], y=albums[1:10,], by=c('Artist', 'Year'))"
   ]
  },
  {
   "cell_type": "code",
   "execution_count": null,
   "metadata": {
    "collapsed": true
   },
   "outputs": [],
   "source": []
  },
  {
   "cell_type": "code",
   "execution_count": null,
   "metadata": {
    "collapsed": true
   },
   "outputs": [],
   "source": []
  },
  {
   "cell_type": "code",
   "execution_count": null,
   "metadata": {
    "collapsed": true
   },
   "outputs": [],
   "source": []
  },
  {
   "cell_type": "code",
   "execution_count": null,
   "metadata": {
    "collapsed": true
   },
   "outputs": [],
   "source": []
  },
  {
   "cell_type": "code",
   "execution_count": null,
   "metadata": {
    "collapsed": true
   },
   "outputs": [],
   "source": []
  },
  {
   "cell_type": "code",
   "execution_count": null,
   "metadata": {
    "collapsed": true
   },
   "outputs": [],
   "source": []
  },
  {
   "cell_type": "code",
   "execution_count": null,
   "metadata": {
    "collapsed": true
   },
   "outputs": [],
   "source": []
  },
  {
   "cell_type": "code",
   "execution_count": null,
   "metadata": {
    "collapsed": true
   },
   "outputs": [],
   "source": []
  },
  {
   "cell_type": "markdown",
   "metadata": {},
   "source": [
    "Work!\n",
    "----"
   ]
  },
  {
   "cell_type": "code",
   "execution_count": null,
   "metadata": {
    "collapsed": true
   },
   "outputs": [],
   "source": []
  },
  {
   "cell_type": "code",
   "execution_count": null,
   "metadata": {
    "collapsed": true
   },
   "outputs": [],
   "source": []
  },
  {
   "cell_type": "code",
   "execution_count": null,
   "metadata": {
    "collapsed": true
   },
   "outputs": [],
   "source": []
  },
  {
   "cell_type": "code",
   "execution_count": null,
   "metadata": {
    "collapsed": true
   },
   "outputs": [],
   "source": []
  },
  {
   "cell_type": "markdown",
   "metadata": {},
   "source": []
  },
  {
   "cell_type": "code",
   "execution_count": 1,
   "metadata": {
    "collapsed": true
   },
   "outputs": [],
   "source": []
  },
  {
   "cell_type": "code",
   "execution_count": null,
   "metadata": {
    "collapsed": true
   },
   "outputs": [],
   "source": []
  },
  {
   "cell_type": "markdown",
   "metadata": {},
   "source": [
    "Work!\n",
    "----"
   ]
  },
  {
   "cell_type": "code",
   "execution_count": null,
   "metadata": {
    "collapsed": true
   },
   "outputs": [],
   "source": []
  },
  {
   "cell_type": "code",
   "execution_count": null,
   "metadata": {
    "collapsed": true
   },
   "outputs": [],
   "source": []
  },
  {
   "cell_type": "code",
   "execution_count": null,
   "metadata": {
    "collapsed": true
   },
   "outputs": [],
   "source": []
  },
  {
   "cell_type": "code",
   "execution_count": null,
   "metadata": {
    "collapsed": true
   },
   "outputs": [],
   "source": []
  }
 ],
 "metadata": {
  "kernelspec": {
   "display_name": "R",
   "language": "R",
   "name": "ir"
  },
  "language_info": {
   "codemirror_mode": "r",
   "file_extension": ".r",
   "mimetype": "text/x-r-source",
   "name": "R",
   "pygments_lexer": "r",
   "version": "3.2.0"
  }
 },
 "nbformat": 4,
 "nbformat_minor": 0
}
