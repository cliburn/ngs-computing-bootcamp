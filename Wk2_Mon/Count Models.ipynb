{
 "cells": [
  {
   "cell_type": "markdown",
   "metadata": {},
   "source": [
    "<H1> Counting Models/Discrete Distributions"
   ]
  },
  {
   "cell_type": "markdown",
   "metadata": {},
   "source": [
    "This lab will cover the discrete distributions used in the analysis of RNAseq data."
   ]
  },
  {
   "cell_type": "markdown",
   "metadata": {},
   "source": [
    "## Binomial Distribution and Bernoulli Trials"
   ]
  },
  {
   "cell_type": "markdown",
   "metadata": {},
   "source": [
    "One of the simplest examples in probability is the coin toss. It is an experiment with only two possible outcomes. Arbritrarily, we say that the outcome 'heads' is a 'success' and 'tails' is a 'failure'. This simple example is powerful, because many, many relevant experiments have only two possible outcomes, such as whether a person has a disease or does not or whether a component of some product is defective or not. Because such examples are common, they are given a name:\n",
    "\n",
    "**Bernoulli trial: an experiment that has two possible outcomes, usually denoted 'success' and 'failure'. Success probability is denote $p$ and failure probability is denoted $q$ (or $1-p$).**\n",
    "\n",
    "Often, we are interested in the result of a number of repeated, independent Bernoulli trials. The outcome of interest of such a series of trials determines a discrete probability distribution.\n",
    " "
   ]
  },
  {
   "cell_type": "markdown",
   "metadata": {},
   "source": [
    "## Binomial Distribution"
   ]
  },
  {
   "cell_type": "markdown",
   "metadata": {},
   "source": [
    "The binomial distribution gives the probability of $x$ number of success in $n$ Bernoulli trials. For example, suppose we want to know the probability of getting $2$ heads when tossing a *biased* coin $5$ times. First, we consider the different ways to get $2$ heads in $5$ tosses:\n",
    "\n",
    "Outcome | Probaility\n",
    "-----|-------------\n",
    "HHTTT | ppqqq\n",
    "HTHTT | pqpqq\n",
    "HTTHT | pqqpq\n",
    "HTTTH | pqqqp\n",
    "THHTT | qppqq\n",
    "THTHT | qpqpq\n",
    "THTTH | qpqqp\n",
    "TTHHT | qqppq\n",
    "TTHTH | qqpqp\n",
    "TTTHH | qqqpp"
   ]
  },
  {
   "cell_type": "markdown",
   "metadata": {},
   "source": [
    "We can see that the right hand column of the table is the same for each outcome, i.e. $p^2q^3$. Thus, the total probaility is the number of rows (number of ways to get $2$ heads and $3$ tails) times $p^2q^3$. \n",
    "\n",
    "$$Pr(2 \\textrm{ heads in }5 \\textrm{ trials}) = 10 p^2q^2$$\n"
   ]
  },
  {
   "cell_type": "markdown",
   "metadata": {},
   "source": [
    "In general:\n",
    "\n",
    "$$Pr(x \\textrm{ heads in }n \\textrm{ trials}) = C p^xq^{n-x}$$\n",
    "\n",
    "where $C$ is the number of ways to get $x$ heads in $n$ trials. This is simply:\n",
    "\n",
    "$$\\left(\\begin{matrix}n\\\\x\\end{matrix}\\right) = \\frac{n!}{x!(n-x)!}$$"
   ]
  },
  {
   "cell_type": "markdown",
   "metadata": {},
   "source": [
    "## Work!"
   ]
  },
  {
   "cell_type": "markdown",
   "metadata": {},
   "source": [
    "Use the R function pbinom to find the probability of getting $2$ heads in $5$ tosses for\n",
    "\n",
    "* a fair coin\n",
    "* a biased coin with P(H) = 1/3"
   ]
  },
  {
   "cell_type": "code",
   "execution_count": null,
   "metadata": {
    "collapsed": true
   },
   "outputs": [],
   "source": []
  }
 ],
 "metadata": {
  "kernelspec": {
   "display_name": "R",
   "language": "R",
   "name": "ir"
  },
  "language_info": {
   "codemirror_mode": "r",
   "file_extension": ".r",
   "mimetype": "text/x-r-source",
   "name": "R",
   "pygments_lexer": "r",
   "version": "3.2.0"
  }
 },
 "nbformat": 4,
 "nbformat_minor": 0
}
