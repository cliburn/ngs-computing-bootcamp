{
 "cells": [
  {
   "cell_type": "markdown",
   "metadata": {},
   "source": [
    "<H1> Linear Regression"
   ]
  },
  {
   "cell_type": "markdown",
   "metadata": {},
   "source": [
    "A major goal of this morning's lecture was to introduce the idea of intra-subject variability and how it affects the modeling of a particular data set. We will begin by reviewing (briefly) simple linear models, and we'll discuss how to do such a fit in R. Then, we will look more closely at the Rails example from this morning."
   ]
  },
  {
   "cell_type": "markdown",
   "metadata": {},
   "source": [
    "<H2> Simple Linear Models"
   ]
  },
  {
   "cell_type": "markdown",
   "metadata": {},
   "source": [
    "A simple linear model is of the form\n",
    "\n",
    "$$y_i = \\alpha + \\beta x_i + \\epsilon_i$$\n",
    "\n",
    "The goal of a linear regression is to find the line\n",
    "\n",
    "$$ y = \\alpha +\\beta x$$\n",
    "\n",
    "that best fits the data. I.e. we find the line such that the sum of the squared errors is minimized. A key assumption in such a model is that the errors follow a standard normal distribution. This is important, because when this assumption is invalid, applying the standard confidence interval calculation for the slope $\\beta$ will be wrong.\n",
    "\n",
    "We will use a sample data set from R to illustrate a simple linear regression."
   ]
  },
  {
   "cell_type": "raw",
   "metadata": {},
   "source": [
    "# load the data set\n",
    "data(ToothGrowth)"
   ]
  },
  {
   "cell_type": "code",
   "execution_count": null,
   "metadata": {
    "collapsed": false
   },
   "outputs": [],
   "source": [
    "# Let's see what it looks like:\n",
    "ToothGrowth"
   ]
  },
  {
   "cell_type": "markdown",
   "metadata": {},
   "source": [
    "These data are the results of an experiment where 60 Guinea Pigs were divided in to 6 groups and then were given a specific dose of either vitamin C or orange juice over a period of time, and then their tooth length was measured. We'll do two separated fits: one for vitamin C and one for OJ."
   ]
  },
  {
   "cell_type": "code",
   "execution_count": null,
   "metadata": {
    "collapsed": false
   },
   "outputs": [],
   "source": [
    "# Let's see a scatter plot\n",
    "with(subset(ToothGrowth,  supp == \"VC\"), plot(dose, len))\n",
    "title(main=\"Growth of Tooth vs Dose of Vitamin C\")"
   ]
  },
  {
   "cell_type": "code",
   "execution_count": null,
   "metadata": {
    "collapsed": false,
    "scrolled": true
   },
   "outputs": [],
   "source": [
    "with(subset(ToothGrowth,  supp == \"OJ\"), plot(dose, len))\n",
    "title(main=\"Growth of Tooth vs Dose of OJ\")"
   ]
  },
  {
   "cell_type": "code",
   "execution_count": null,
   "metadata": {
    "collapsed": false
   },
   "outputs": [],
   "source": [
    "# Fit for vitamin C\n",
    "fit.tooth.VC<-lm(ToothGrowth$len ~ ToothGrowth$dose,subset=(ToothGrowth$supp==\"VC\"))\n",
    "summary(fit.tooth.VC)"
   ]
  },
  {
   "cell_type": "markdown",
   "metadata": {},
   "source": [
    "Discussion\n",
    "===============\n",
    "\n",
    "* What is the biological hypothesis?\n",
    "* What is the statistical hypothesis?\n",
    "* How do we test the statistical hypothesis?\n",
    "* What is your conclusion?"
   ]
  },
  {
   "cell_type": "markdown",
   "metadata": {},
   "source": [
    "<H3> Look at OJ and Tooth Growth"
   ]
  },
  {
   "cell_type": "code",
   "execution_count": null,
   "metadata": {
    "collapsed": false
   },
   "outputs": [],
   "source": [
    "# Fit for OJ\n",
    "fit.tooth.OJ<-lm(ToothGrowth$len ~ ToothGrowth$dose,subset=(ToothGrowth$supp==\"OJ\"))\n",
    "summary(fit.tooth.OJ)"
   ]
  },
  {
   "cell_type": "markdown",
   "metadata": {
    "collapsed": true
   },
   "source": [
    "Note that the `lm` function (for linear model) takes arguments in a specific format:\n",
    "\n",
    "$$ y\\_values \\sim  x\\_values$$\n",
    "\n",
    "Or more formally stated: Dependent Variable ~ Independent Variable"
   ]
  },
  {
   "cell_type": "markdown",
   "metadata": {},
   "source": [
    "<H2>R Formula Syntax"
   ]
  },
  {
   "cell_type": "markdown",
   "metadata": {},
   "source": [
    "A more complicated linear model might include more than one main effect and/or interaction terms such as:\n",
    "\n",
    "$$ y = \\alpha + \\beta_1 x_1 + \\beta_2 x_2 + \\beta_3 x_1 x_2 +\\epsilon$$\n",
    "\n",
    "Below is a table of R formula syntax and the corresponding model. There are others, but that is a topic for more advanced study."
   ]
  },
  {
   "cell_type": "markdown",
   "metadata": {},
   "source": [
    "\n",
    "|       Syntax       | Model |\n",
    "| ------------------ | ----- |\n",
    "| $x_1 + x_2 \\;\\;\\;\\;\\;\\;\\;\\;\\;\\;\\;\\;\\;\\;\\;\\;\\;\\;\\;\\;$ | $y = \\alpha + \\beta_1 x_1 + \\beta_2 x_2  +\\epsilon$ |\n",
    "| $x_1:x_1$ | $y = \\alpha + \\beta x_1 x_2 +\\epsilon \\;\\;\\;\\;\\;\\;\\;\\;\\;\\;\\;\\;\\;\\;\\;\\;\\;\\;\\;\\;\\;\\;\\;\\;$ |\n",
    "| $x_1 * x_2$ | $y = \\alpha + \\beta_1 x_1 + \\beta_2 x_2 + \\beta_3 x_1 x_2 +\\epsilon \\;\\;\\;\\;\\;\\;\\;\\;\\;\\;\\;\\;\\;\\;\\;\\;$ |\n",
    "| $x_1 * x_2 *x_3$ | $y = \\alpha + \\beta_1 x_1 + \\beta_2 x_2 + \\beta_3 x_3 +\\beta_4 x_1 x_2 +\\beta_5 x_1 x_3 + \\beta_6 x_2 x_3 + \\beta_7 x_1 x_2 x_3 +\\epsilon$ |\n",
    "| $(x_1 + x_2 + x_3)^2$ | $y = \\alpha + \\beta_1 x_1 + \\beta_2 x_2 + \\beta_3 x_3 +\\beta_4 x_1 x_2 +\\beta_5 x_1 x_3 + \\beta_6 x_2 x_3 +\\epsilon$ |\n"
   ]
  },
  {
   "cell_type": "markdown",
   "metadata": {},
   "source": [
    "<H2>Work!"
   ]
  },
  {
   "cell_type": "markdown",
   "metadata": {},
   "source": [
    "Load the R data set called \"mtcars\". \n",
    "\n",
    "* Perform a linear regression on mpg using cyl and hp as main effects. \n",
    "* Add wt (weight) as a third main effect.\n",
    "* Add interaction terms for hp and weight\n"
   ]
  },
  {
   "cell_type": "markdown",
   "metadata": {},
   "source": [
    "<H2> Rails Example"
   ]
  },
  {
   "cell_type": "code",
   "execution_count": null,
   "metadata": {
    "collapsed": false
   },
   "outputs": [],
   "source": [
    "# Rails example\n",
    "\n",
    "# Just loading some library functions\n",
    "library(nlme)\n",
    "library(lattice)\n",
    "\n",
    "# Get the dataset (it is part of R)\n",
    "data(Rail)\n",
    "\n",
    "# Look at the data\n",
    "Rail"
   ]
  },
  {
   "cell_type": "code",
   "execution_count": null,
   "metadata": {
    "collapsed": false
   },
   "outputs": [],
   "source": [
    "#Plot the data\n",
    "\n",
    "xyplot(travel~Rail,data=Rail,ylab=\"Zero-force travel time (nano-seconds)\")"
   ]
  },
  {
   "cell_type": "code",
   "execution_count": null,
   "metadata": {
    "collapsed": false
   },
   "outputs": [],
   "source": [
    "# Linear Model ignoring random effect\n",
    "\n",
    "fit.rails.simple<-lm(travel~1,data=Rail)\n",
    "summary(fit.rails.simple)\n",
    "res<-fit.rails.simple$residuals\n",
    "qqnorm(res);qqline(res)\n"
   ]
  },
  {
   "cell_type": "markdown",
   "metadata": {},
   "source": [
    "The above plot is called a 'QQ plot'. The straight line represents the quantiles of the normal distribution, while the dots are the quantiles of the residuals. If the errors were normally distributed, the dots would be close to or on the line."
   ]
  },
  {
   "cell_type": "markdown",
   "metadata": {},
   "source": [
    "Note: In this example, we are fitting a one-parameter model, i.e.\n",
    "\n",
    "$$y_i = \\alpha + \\epsilon_i$$\n",
    "\n",
    "Where $\\alpha$ is the mean travel time along a rail."
   ]
  },
  {
   "cell_type": "code",
   "execution_count": null,
   "metadata": {
    "collapsed": false
   },
   "outputs": [],
   "source": [
    "mean(Rail$travel)\n",
    "sd(Rail$travel)"
   ]
  },
  {
   "cell_type": "code",
   "execution_count": null,
   "metadata": {
    "collapsed": false
   },
   "outputs": [],
   "source": [
    "\n",
    "# Linear Model incorporating random effect\n",
    "fit.rails.mm<-lme(travel~1,random=~1|Rail,data=Rail)\n",
    "summary(fit.rails.mm)\n",
    "res<-fit.rails.mm$residuals"
   ]
  },
  {
   "cell_type": "markdown",
   "metadata": {},
   "source": [
    "<H2>Simulation"
   ]
  },
  {
   "cell_type": "code",
   "execution_count": null,
   "metadata": {
    "collapsed": false
   },
   "outputs": [],
   "source": [
    "sim.ranef=function(nk,n,se,sb,verbose=FALSE)\n",
    "    {\n",
    "        # n exp units with nk replicates each\n",
    "        N=n*nk\n",
    "    \n",
    "        # generate error from normal distribution with zero mean and variance se\n",
    "        e=rnorm(N,0,se)\n",
    "    \n",
    "        # generate random effect from normal with mean zero and variance sb\n",
    "        # here we get n different samples from the normal - but replicate those nk times\n",
    "        b=rep(rnorm(n,0,sb),each=nk)\n",
    "    \n",
    "        # assigning a label to each n sample (eg. each rail), repeat nk times\n",
    "        id=rep(1:n,each=nk)\n",
    "    \n",
    "        # Simulated output value\n",
    "        y=0+e+b\n",
    "    \n",
    "        # create a data frame with the id, errors and outcome\n",
    "        dat=data.frame(id,b,e,y)\n",
    "    \n",
    "    \n",
    "        # fit both models: standard linear model (lm) and linear mixed effects (lme)\n",
    "        mod0=summary(lm(y~1,data=dat))\n",
    "        mod1=summary(lme(y~1,random=~1|id,data=dat))\n",
    "        \n",
    "        # extract the pvalues\n",
    "        pval0=mod0$coef[\"(Intercept)\",\"Pr(>|t|)\"]  #each package returns a slightly different data frame\n",
    "        pval1=mod1$tTable[\"(Intercept)\",\"p-value\"] \n",
    "       \n",
    "    # Just changing output based on options passed to the function.  \n",
    "       if(verbose)\n",
    "            {\n",
    "                out=list(dat,mod0,mod1) # This is a list data type. Basically, you can put anything into a list.\n",
    "            }\n",
    "        else\n",
    "            {\n",
    "                out=c(pval0,pval1) # Output only the p-values from the two models.\n",
    "            }\n",
    "        out\n",
    "    }\n",
    "\n",
    "\n"
   ]
  },
  {
   "cell_type": "code",
   "execution_count": null,
   "metadata": {
    "collapsed": false
   },
   "outputs": [],
   "source": [
    "# run the first simulation\n",
    "\n",
    "set.seed(210)\n",
    "\n",
    "# simulate 3 measurements on each of 6 subjects\n",
    "\n",
    "ex1=sim.ranef(3,6,0.25,0.5,verbose=TRUE)\n",
    "\n",
    "#print the simulated data set - note that it is stored in element 1 of a list.\n",
    "ex1[[1]]\n",
    "\n",
    "\n",
    "\n",
    "\n"
   ]
  },
  {
   "cell_type": "code",
   "execution_count": null,
   "metadata": {
    "collapsed": false
   },
   "outputs": [],
   "source": [
    "# plot the simultation data using xyplot (from the lattice package)\n",
    "xyplot(y~id,data=ex1[[1]])\n",
    "\n",
    "# print the output from the two fits.\n",
    "\n",
    "ex1[[2]]\n",
    "ex1[[3]]\n",
    "\n"
   ]
  },
  {
   "cell_type": "code",
   "execution_count": null,
   "metadata": {
    "collapsed": false
   },
   "outputs": [],
   "source": [
    "#Run the simulation 1000 times\n",
    "set.seed(210)\n",
    "B=1000\n",
    "res=replicate(B,sim.ranef(3,6,0.25,0.5,verbose=FALSE)) #Note that verbose=FALSE means that the simulation will \n",
    "                                                                 # output only p-values\n",
    "\n",
    "# Compute the type I error rates\n",
    "mean(res[1,]<0.05) \n",
    "mean(res[2,]<0.05)\n"
   ]
  },
  {
   "cell_type": "code",
   "execution_count": null,
   "metadata": {
    "collapsed": false
   },
   "outputs": [],
   "source": [
    "par(mfrow=c(1,3))\n",
    "qqplot(qunif(ppoints(500)), res[1,],cex=0.1,xlab=\"Uniform Distribution\",ylab=\"lm\")\n",
    "abline(0,1)\n",
    "qqplot(qunif(ppoints(500)), res[2,],cex=0.1,xlab=\"Uniform Distribution\",ylab=\"lme\")\n",
    "abline(0,1)\n",
    "plot(res[1,],res[2,],pch=19,cex=0.5,xlab=\"lm\",ylab=\"lme\")\n",
    "abline(0,1)\n"
   ]
  },
  {
   "cell_type": "code",
   "execution_count": null,
   "metadata": {
    "collapsed": false
   },
   "outputs": [],
   "source": [
    "# Increase Sample size\n",
    "B=1000\n",
    "res=replicate(B,sim.ranef(3,50,0.25,0.5,verbose=FALSE))\n",
    "mean(res[1,]<0.05)\n",
    "\n",
    "mean(res[2,]<0.05)\n",
    "\n",
    "\n",
    "par(mfrow=c(1,3))\n",
    "qqplot(qunif(ppoints(500)), res[1,],cex=0.1,xlab=\"Uniform Distribution\",ylab=\"lm\")\n",
    "abline(0,1)\n",
    "qqplot(qunif(ppoints(500)), res[2,],cex=0.1,xlab=\"Uniform Distribution\",ylab=\"lme\")\n",
    "abline(0,1)\n",
    "plot(res[1,],res[2,],pch=19,cex=0.5,xlab=\"lm\",ylab=\"lme\")\n",
    "abline(0,1)\n",
    "\n",
    "\n",
    "\n",
    "\n"
   ]
  },
  {
   "cell_type": "code",
   "execution_count": null,
   "metadata": {
    "collapsed": false
   },
   "outputs": [],
   "source": [
    "# Clustering Effect on Two sample problem\n",
    "sim.twosample.clustered=function(nk,n,se,sb,verbose=FALSE)\n",
    "    {\n",
    "        N=n*nk\n",
    "        e0=rnorm(N,0,se)\n",
    "        e1=rnorm(N,0,se)\n",
    "        b0=rep(rnorm(n,0,sb),each=nk)\n",
    "        b1=rep(rnorm(n,0,sb),each=nk)\n",
    "        y0=e0+b0\n",
    "        y1=e1+b1\n",
    "        t.test(y0,y1)$p.value\n",
    "    }\n",
    "\n",
    "set.seed(2314)\n",
    "B=1000\n",
    "# Simulate with no clustering effect (sb=0)\n",
    "pval0=replicate(B,sim.twosample.clustered(3,10,0.25,0))\n",
    "# Simulate with no clustering effect (sb>0)\n",
    "pval1=replicate(B,sim.twosample.clustered(3,10,0.25,0.5))\n",
    "rm(B)\n",
    "\n",
    "mean(pval0<0.05)\n",
    "mean(pval1<0.05)\n",
    "par(mfrow=c(1,2))\n",
    "qqplot(qunif(ppoints(500)), pval0,cex=0.1,xlab=\"Uniform Distribution\")\n",
    "abline(0,1)\n",
    "qqplot(qunif(ppoints(500)), pval1,cex=0.1,xlab=\"Uniform Distribution\")\n",
    "abline(0,1)"
   ]
  },
  {
   "cell_type": "code",
   "execution_count": null,
   "metadata": {
    "collapsed": true
   },
   "outputs": [],
   "source": []
  }
 ],
 "metadata": {
  "kernelspec": {
   "display_name": "R",
   "language": "R",
   "name": "ir"
  },
  "language_info": {
   "codemirror_mode": "r",
   "file_extension": ".r",
   "mimetype": "text/x-r-source",
   "name": "R",
   "pygments_lexer": "r",
   "version": "3.2.0"
  }
 },
 "nbformat": 4,
 "nbformat_minor": 0
}
