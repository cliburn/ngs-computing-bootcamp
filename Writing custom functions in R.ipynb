{
 "cells": [
  {
   "cell_type": "markdown",
   "metadata": {},
   "source": [
    "Anatomy of a function\n",
    "----"
   ]
  },
  {
   "cell_type": "markdown",
   "metadata": {},
   "source": [
    "The R function has the following structure\n",
    "\n",
    "```R\n",
    "name <- function(arg1, arg2, ...) {\n",
    "    body_of_function\n",
    "    return(value)\n",
    "    }\n",
    "```\n",
    "\n",
    "A funciton is created using the `function` keywork, followed by a series of arguments in parentheses. The main work done by the function is enclosed witin curly braces, and a `return` function is used to indicate the output of the function. Finally we can assingn the funciton, just like any other R object, to a named vairable for later resue."
   ]
  },
  {
   "cell_type": "markdown",
   "metadata": {},
   "source": [
    "### Our first custom function\n",
    "\n",
    "Let's write a function to calculate the mean of a vector of numbers."
   ]
  },
  {
   "cell_type": "code",
   "execution_count": 2,
   "metadata": {
    "collapsed": false
   },
   "outputs": [],
   "source": [
    "my.mean <- function(xs) {\n",
    "    n <- length(xs)\n",
    "    return(sum(xs/n))\n",
    "}"
   ]
  },
  {
   "cell_type": "code",
   "execution_count": 3,
   "metadata": {
    "collapsed": false
   },
   "outputs": [
    {
     "data": {
      "text/html": [
       "5.5"
      ],
      "text/latex": [
       "5.5"
      ],
      "text/markdown": [
       "5.5"
      ],
      "text/plain": [
       "[1] 5.5"
      ]
     },
     "execution_count": 3,
     "metadata": {},
     "output_type": "execute_result"
    }
   ],
   "source": [
    "my.mean(1:10)"
   ]
  },
  {
   "cell_type": "code",
   "execution_count": 1,
   "metadata": {
    "collapsed": false
   },
   "outputs": [
    {
     "data": {
      "text/html": [
       "No documentation for ‘my.mean’ in specified packages and libraries:\n",
       "you could try ‘??my.mean’"
      ],
      "text/latex": [
       "No documentation for ‘my.mean’ in specified packages and libraries:\n",
       "you could try ‘??my.mean’"
      ],
      "text/plain": [
       "No documentation for ‘my.mean’ in specified packages and libraries:\n",
       "you could try ‘??my.mean’"
      ]
     },
     "execution_count": 1,
     "metadata": {},
     "output_type": "execute_result"
    }
   ],
   "source": []
  },
  {
   "cell_type": "code",
   "execution_count": null,
   "metadata": {
    "collapsed": true
   },
   "outputs": [],
   "source": []
  }
 ],
 "metadata": {
  "kernelspec": {
   "display_name": "R",
   "language": "R",
   "name": "ir"
  },
  "language_info": {
   "codemirror_mode": "r",
   "file_extension": ".r",
   "mimetype": "text/x-r-source",
   "name": "R",
   "pygments_lexer": "r",
   "version": "3.1.2"
  }
 },
 "nbformat": 4,
 "nbformat_minor": 0
}
